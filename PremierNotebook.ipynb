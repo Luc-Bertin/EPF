{
 "cells": [
  {
   "cell_type": "markdown",
   "id": "24894c61",
   "metadata": {},
   "source": [
    "#  titre\n",
    "## sous titre\n",
    "#### sous-sous-sous titre\n",
    "\n",
    "- bulletpoint1\n",
    "- bulletpoint2\n",
    "- bulletpoint3\n",
    "\n",
    "* bulletpoint1\n",
    "* bulletpoint1\n",
    "* bulletpoint1\n",
    "\n",
    "des *paragraphes* **entiers** comme ça"
   ]
  },
  {
   "cell_type": "markdown",
   "id": "2d2cbbf2",
   "metadata": {},
   "source": [
    "<!-- ![un virus](./coronavirus.jpg)-->"
   ]
  },
  {
   "cell_type": "markdown",
   "id": "9050f220",
   "metadata": {},
   "source": [
    "<strong>bonjour</strong>"
   ]
  },
  {
   "cell_type": "markdown",
   "id": "9c39b013",
   "metadata": {},
   "source": [
    "<img src=\"./coronavirus.jpg\" align=\"left\" width=\"20%\">"
   ]
  },
  {
   "cell_type": "code",
   "execution_count": 5,
   "id": "1a70e61f",
   "metadata": {
    "scrolled": true
   },
   "outputs": [
    {
     "name": "stdout",
     "output_type": "stream",
     "text": [
      "PremierNotebook.ipynb coronavirus.jpg       \u001b[34mtest\u001b[m\u001b[m\r\n"
     ]
    }
   ],
   "source": [
    "!ls"
   ]
  },
  {
   "cell_type": "code",
   "execution_count": 6,
   "id": "c8443ee1",
   "metadata": {},
   "outputs": [
    {
     "name": "stdout",
     "output_type": "stream",
     "text": [
      "salut\r\n"
     ]
    }
   ],
   "source": [
    "!echo salut"
   ]
  },
  {
   "cell_type": "markdown",
   "id": "11075dcd",
   "metadata": {},
   "source": [
    "# Codons en python"
   ]
  },
  {
   "cell_type": "code",
   "execution_count": 1,
   "id": "595bc4b6",
   "metadata": {},
   "outputs": [
    {
     "data": {
      "text/plain": [
       "2"
      ]
     },
     "execution_count": 1,
     "metadata": {},
     "output_type": "execute_result"
    }
   ],
   "source": [
    "2"
   ]
  },
  {
   "cell_type": "code",
   "execution_count": 2,
   "id": "4ad5aab7",
   "metadata": {},
   "outputs": [
    {
     "data": {
      "text/plain": [
       "[]"
      ]
     },
     "execution_count": 2,
     "metadata": {},
     "output_type": "execute_result"
    }
   ],
   "source": [
    "[]"
   ]
  },
  {
   "cell_type": "code",
   "execution_count": 3,
   "id": "7e578a6b",
   "metadata": {},
   "outputs": [
    {
     "data": {
      "text/plain": [
       "{}"
      ]
     },
     "execution_count": 3,
     "metadata": {},
     "output_type": "execute_result"
    }
   ],
   "source": [
    "{}"
   ]
  },
  {
   "cell_type": "code",
   "execution_count": 4,
   "id": "190f28c6",
   "metadata": {},
   "outputs": [
    {
     "data": {
      "text/plain": [
       "(1,)"
      ]
     },
     "execution_count": 4,
     "metadata": {},
     "output_type": "execute_result"
    }
   ],
   "source": [
    "(1,)"
   ]
  },
  {
   "cell_type": "code",
   "execution_count": 5,
   "id": "82e1b067",
   "metadata": {},
   "outputs": [
    {
     "data": {
      "text/plain": [
       "'mastring'"
      ]
     },
     "execution_count": 5,
     "metadata": {},
     "output_type": "execute_result"
    }
   ],
   "source": [
    "\"mastring\""
   ]
  },
  {
   "cell_type": "markdown",
   "id": "fcdc04f1",
   "metadata": {},
   "source": [
    "## Qu'est ce qu'un objet"
   ]
  },
  {
   "cell_type": "markdown",
   "id": "63a6a0c7",
   "metadata": {},
   "source": [
    "- id  (unique)\n",
    "- type\n",
    "- valeur\n"
   ]
  },
  {
   "cell_type": "code",
   "execution_count": 6,
   "id": "e60b8a0d",
   "metadata": {},
   "outputs": [
    {
     "data": {
      "text/plain": [
       "4403197104"
      ]
     },
     "execution_count": 6,
     "metadata": {},
     "output_type": "execute_result"
    }
   ],
   "source": [
    "id(90920390239029309203902930290309233)"
   ]
  },
  {
   "cell_type": "code",
   "execution_count": 7,
   "id": "f7cef00a",
   "metadata": {},
   "outputs": [
    {
     "data": {
      "text/plain": [
       "4403382896"
      ]
     },
     "execution_count": 7,
     "metadata": {},
     "output_type": "execute_result"
    }
   ],
   "source": [
    "id(\"bonjour\")"
   ]
  },
  {
   "cell_type": "code",
   "execution_count": 8,
   "id": "d4d638ad",
   "metadata": {
    "scrolled": true
   },
   "outputs": [
    {
     "data": {
      "text/plain": [
       "4403194560"
      ]
     },
     "execution_count": 8,
     "metadata": {},
     "output_type": "execute_result"
    }
   ],
   "source": [
    "id([\"a\", \"b\"])"
   ]
  },
  {
   "cell_type": "code",
   "execution_count": 9,
   "id": "89c5404a",
   "metadata": {},
   "outputs": [
    {
     "data": {
      "text/plain": [
       "int"
      ]
     },
     "execution_count": 9,
     "metadata": {},
     "output_type": "execute_result"
    }
   ],
   "source": [
    "type(909393903903)"
   ]
  },
  {
   "cell_type": "code",
   "execution_count": 10,
   "id": "b59b7ea0",
   "metadata": {},
   "outputs": [
    {
     "data": {
      "text/plain": [
       "str"
      ]
     },
     "execution_count": 10,
     "metadata": {},
     "output_type": "execute_result"
    }
   ],
   "source": [
    "type(\"bonjour\")"
   ]
  },
  {
   "cell_type": "code",
   "execution_count": 11,
   "id": "65c03a38",
   "metadata": {},
   "outputs": [
    {
     "data": {
      "text/plain": [
       "list"
      ]
     },
     "execution_count": 11,
     "metadata": {},
     "output_type": "execute_result"
    }
   ],
   "source": [
    "type([1,2,3])"
   ]
  },
  {
   "cell_type": "code",
   "execution_count": 12,
   "id": "f4124bec",
   "metadata": {},
   "outputs": [
    {
     "data": {
      "text/plain": [
       "float"
      ]
     },
     "execution_count": 12,
     "metadata": {},
     "output_type": "execute_result"
    }
   ],
   "source": [
    "type(13.10)"
   ]
  },
  {
   "cell_type": "markdown",
   "id": "4f668d78",
   "metadata": {},
   "source": [
    "##  immutabilité / mutabilité"
   ]
  },
  {
   "cell_type": "markdown",
   "id": "78653a41",
   "metadata": {},
   "source": [
    " string, float, int, tuple => immutable"
   ]
  },
  {
   "cell_type": "code",
   "execution_count": 50,
   "id": "138f5b99",
   "metadata": {},
   "outputs": [
    {
     "name": "stdout",
     "output_type": "stream",
     "text": [
      "4337019216\n",
      "4337019248\n"
     ]
    }
   ],
   "source": [
    "a = 2\n",
    "print(id(a))\n",
    "a += 1\n",
    "print(id(a))"
   ]
  },
  {
   "cell_type": "code",
   "execution_count": 52,
   "id": "ff408e34",
   "metadata": {},
   "outputs": [
    {
     "data": {
      "text/plain": [
       "'helloyo'"
      ]
     },
     "execution_count": 52,
     "metadata": {},
     "output_type": "execute_result"
    }
   ],
   "source": [
    "a = \"hello\"\n",
    "a += \"yo\"\n",
    "a"
   ]
  },
  {
   "cell_type": "markdown",
   "id": "25a08111",
   "metadata": {},
   "source": [
    "list, dictionnary, set => mutable"
   ]
  },
  {
   "cell_type": "code",
   "execution_count": 51,
   "id": "0c57cc6c",
   "metadata": {},
   "outputs": [
    {
     "name": "stdout",
     "output_type": "stream",
     "text": [
      "4392797696\n",
      "4392797696\n"
     ]
    }
   ],
   "source": [
    "liste1 = []\n",
    "print(id(liste1))\n",
    "liste1.append(2)\n",
    "print(id(liste1))"
   ]
  },
  {
   "cell_type": "code",
   "execution_count": 38,
   "id": "b374e661",
   "metadata": {},
   "outputs": [],
   "source": [
    "from copy import deepcopy\n",
    "liste2 = deepcopy(liste1)"
   ]
  },
  {
   "cell_type": "code",
   "execution_count": 33,
   "id": "00fc897a",
   "metadata": {},
   "outputs": [
    {
     "data": {
      "text/plain": [
       "[1, 2]"
      ]
     },
     "execution_count": 33,
     "metadata": {},
     "output_type": "execute_result"
    }
   ],
   "source": [
    "liste1"
   ]
  },
  {
   "cell_type": "code",
   "execution_count": 43,
   "id": "2464adef",
   "metadata": {},
   "outputs": [
    {
     "data": {
      "text/plain": [
       "[1, 2]"
      ]
     },
     "execution_count": 43,
     "metadata": {},
     "output_type": "execute_result"
    }
   ],
   "source": [
    "liste2"
   ]
  },
  {
   "cell_type": "code",
   "execution_count": 44,
   "id": "0ed6fcc6",
   "metadata": {},
   "outputs": [],
   "source": [
    "liste1.append(3)"
   ]
  },
  {
   "cell_type": "code",
   "execution_count": 45,
   "id": "799e5cfd",
   "metadata": {},
   "outputs": [
    {
     "data": {
      "text/plain": [
       "[1, 2, 3]"
      ]
     },
     "execution_count": 45,
     "metadata": {},
     "output_type": "execute_result"
    }
   ],
   "source": [
    "liste1"
   ]
  },
  {
   "cell_type": "code",
   "execution_count": 46,
   "id": "5991c480",
   "metadata": {},
   "outputs": [
    {
     "data": {
      "text/plain": [
       "[1, 2]"
      ]
     },
     "execution_count": 46,
     "metadata": {},
     "output_type": "execute_result"
    }
   ],
   "source": [
    "liste2"
   ]
  },
  {
   "cell_type": "markdown",
   "id": "3c2a9493",
   "metadata": {},
   "source": [
    "# built-ins "
   ]
  },
  {
   "cell_type": "markdown",
   "id": "fd688d9c",
   "metadata": {},
   "source": [
    "# entier"
   ]
  },
  {
   "cell_type": "code",
   "execution_count": 138,
   "id": "cd44a7ae",
   "metadata": {},
   "outputs": [],
   "source": [
    "a = 0"
   ]
  },
  {
   "cell_type": "code",
   "execution_count": 139,
   "id": "0d712866",
   "metadata": {},
   "outputs": [],
   "source": [
    "a = int()"
   ]
  },
  {
   "cell_type": "code",
   "execution_count": 142,
   "id": "43b2ceed",
   "metadata": {},
   "outputs": [
    {
     "data": {
      "text/plain": [
       "23"
      ]
     },
     "execution_count": 142,
     "metadata": {},
     "output_type": "execute_result"
    }
   ],
   "source": [
    "a = int(\"23\")"
   ]
  },
  {
   "cell_type": "code",
   "execution_count": 123,
   "id": "1817cc34",
   "metadata": {},
   "outputs": [],
   "source": [
    "a = 2"
   ]
  },
  {
   "cell_type": "code",
   "execution_count": null,
   "id": "7baef362",
   "metadata": {},
   "outputs": [],
   "source": []
  },
  {
   "cell_type": "code",
   "execution_count": 114,
   "id": "7e26318c",
   "metadata": {},
   "outputs": [
    {
     "data": {
      "text/plain": [
       "4"
      ]
     },
     "execution_count": 114,
     "metadata": {},
     "output_type": "execute_result"
    }
   ],
   "source": [
    "a.__add__(2)"
   ]
  },
  {
   "cell_type": "code",
   "execution_count": 115,
   "id": "2715ee4f",
   "metadata": {},
   "outputs": [
    {
     "data": {
      "text/plain": [
       "4"
      ]
     },
     "execution_count": 115,
     "metadata": {},
     "output_type": "execute_result"
    }
   ],
   "source": [
    "a + 2"
   ]
  },
  {
   "cell_type": "code",
   "execution_count": 116,
   "id": "da8a99cc",
   "metadata": {},
   "outputs": [
    {
     "data": {
      "text/plain": [
       "0"
      ]
     },
     "execution_count": 116,
     "metadata": {},
     "output_type": "execute_result"
    }
   ],
   "source": [
    "a - 2"
   ]
  },
  {
   "cell_type": "code",
   "execution_count": 117,
   "id": "f27270fd",
   "metadata": {},
   "outputs": [
    {
     "data": {
      "text/plain": [
       "0"
      ]
     },
     "execution_count": 117,
     "metadata": {},
     "output_type": "execute_result"
    }
   ],
   "source": [
    "a.__sub__(2)"
   ]
  },
  {
   "cell_type": "code",
   "execution_count": 118,
   "id": "0bee1c6d",
   "metadata": {},
   "outputs": [
    {
     "data": {
      "text/plain": [
       "1.0"
      ]
     },
     "execution_count": 118,
     "metadata": {},
     "output_type": "execute_result"
    }
   ],
   "source": [
    "a / 2"
   ]
  },
  {
   "cell_type": "code",
   "execution_count": 119,
   "id": "4ef97eb4",
   "metadata": {},
   "outputs": [
    {
     "data": {
      "text/plain": [
       "0"
      ]
     },
     "execution_count": 119,
     "metadata": {},
     "output_type": "execute_result"
    }
   ],
   "source": [
    "a % 2"
   ]
  },
  {
   "cell_type": "code",
   "execution_count": 120,
   "id": "2666aad9",
   "metadata": {},
   "outputs": [
    {
     "data": {
      "text/plain": [
       "1"
      ]
     },
     "execution_count": 120,
     "metadata": {},
     "output_type": "execute_result"
    }
   ],
   "source": [
    "a // 2"
   ]
  },
  {
   "cell_type": "code",
   "execution_count": 121,
   "id": "b89bde9e",
   "metadata": {},
   "outputs": [],
   "source": [
    "a += 2"
   ]
  },
  {
   "cell_type": "code",
   "execution_count": 125,
   "id": "272c3fba",
   "metadata": {},
   "outputs": [
    {
     "data": {
      "text/plain": [
       "2"
      ]
     },
     "execution_count": 125,
     "metadata": {},
     "output_type": "execute_result"
    }
   ],
   "source": [
    "a"
   ]
  },
  {
   "cell_type": "code",
   "execution_count": 126,
   "id": "b09d1fef",
   "metadata": {},
   "outputs": [
    {
     "data": {
      "text/plain": [
       "False"
      ]
     },
     "execution_count": 126,
     "metadata": {},
     "output_type": "execute_result"
    }
   ],
   "source": [
    "a > 2"
   ]
  },
  {
   "cell_type": "code",
   "execution_count": 130,
   "id": "c22727f2",
   "metadata": {},
   "outputs": [
    {
     "data": {
      "text/plain": [
       "True"
      ]
     },
     "execution_count": 130,
     "metadata": {},
     "output_type": "execute_result"
    }
   ],
   "source": [
    "a.__le__(2)"
   ]
  },
  {
   "cell_type": "code",
   "execution_count": 131,
   "id": "00d475b6",
   "metadata": {},
   "outputs": [
    {
     "data": {
      "text/plain": [
       "True"
      ]
     },
     "execution_count": 131,
     "metadata": {},
     "output_type": "execute_result"
    }
   ],
   "source": [
    "a.__eq__(2)"
   ]
  },
  {
   "cell_type": "code",
   "execution_count": 127,
   "id": "4f19bbcc",
   "metadata": {},
   "outputs": [
    {
     "data": {
      "text/plain": [
       "True"
      ]
     },
     "execution_count": 127,
     "metadata": {},
     "output_type": "execute_result"
    }
   ],
   "source": [
    "a == 2"
   ]
  },
  {
   "cell_type": "code",
   "execution_count": 128,
   "id": "ead31c25",
   "metadata": {},
   "outputs": [
    {
     "data": {
      "text/plain": [
       "True"
      ]
     },
     "execution_count": 128,
     "metadata": {},
     "output_type": "execute_result"
    }
   ],
   "source": [
    "a <= 2"
   ]
  },
  {
   "cell_type": "markdown",
   "id": "daedd03f",
   "metadata": {},
   "source": [
    "## string"
   ]
  },
  {
   "cell_type": "code",
   "execution_count": 143,
   "id": "349dabce",
   "metadata": {},
   "outputs": [],
   "source": [
    "a=  str(2)"
   ]
  },
  {
   "cell_type": "code",
   "execution_count": 144,
   "id": "aa9c4aff",
   "metadata": {},
   "outputs": [
    {
     "data": {
      "text/plain": [
       "'2'"
      ]
     },
     "execution_count": 144,
     "metadata": {},
     "output_type": "execute_result"
    }
   ],
   "source": [
    "a"
   ]
  },
  {
   "cell_type": "code",
   "execution_count": 145,
   "id": "b84d23cb",
   "metadata": {},
   "outputs": [],
   "source": [
    "a = str()"
   ]
  },
  {
   "cell_type": "code",
   "execution_count": 146,
   "id": "7579a7fb",
   "metadata": {},
   "outputs": [
    {
     "data": {
      "text/plain": [
       "''"
      ]
     },
     "execution_count": 146,
     "metadata": {},
     "output_type": "execute_result"
    }
   ],
   "source": [
    "a"
   ]
  },
  {
   "cell_type": "code",
   "execution_count": 73,
   "id": "82256b0b",
   "metadata": {},
   "outputs": [],
   "source": [
    "a = \"bonjour\""
   ]
  },
  {
   "cell_type": "code",
   "execution_count": 74,
   "id": "436236eb",
   "metadata": {},
   "outputs": [
    {
     "data": {
      "text/plain": [
       "'Bonjour'"
      ]
     },
     "execution_count": 74,
     "metadata": {},
     "output_type": "execute_result"
    }
   ],
   "source": [
    "a.capitalize()"
   ]
  },
  {
   "cell_type": "code",
   "execution_count": 75,
   "id": "33957bbb",
   "metadata": {},
   "outputs": [
    {
     "data": {
      "text/plain": [
       "'BONJOUR'"
      ]
     },
     "execution_count": 75,
     "metadata": {},
     "output_type": "execute_result"
    }
   ],
   "source": [
    "a.upper()"
   ]
  },
  {
   "cell_type": "code",
   "execution_count": 76,
   "id": "787c85c9",
   "metadata": {},
   "outputs": [
    {
     "data": {
      "text/plain": [
       "'bonjour'"
      ]
     },
     "execution_count": 76,
     "metadata": {},
     "output_type": "execute_result"
    }
   ],
   "source": [
    "a.lower()"
   ]
  },
  {
   "cell_type": "code",
   "execution_count": 77,
   "id": "0c470d85",
   "metadata": {},
   "outputs": [
    {
     "data": {
      "text/plain": [
       "1"
      ]
     },
     "execution_count": 77,
     "metadata": {},
     "output_type": "execute_result"
    }
   ],
   "source": [
    "a.count('r')"
   ]
  },
  {
   "cell_type": "code",
   "execution_count": 78,
   "id": "ec34cb21",
   "metadata": {},
   "outputs": [
    {
     "data": {
      "text/plain": [
       "'banjaur'"
      ]
     },
     "execution_count": 78,
     "metadata": {},
     "output_type": "execute_result"
    }
   ],
   "source": [
    "a.replace(\"o\", \"a\")"
   ]
  },
  {
   "cell_type": "code",
   "execution_count": 79,
   "id": "5fad4ebb",
   "metadata": {},
   "outputs": [
    {
     "data": {
      "text/plain": [
       "True"
      ]
     },
     "execution_count": 79,
     "metadata": {},
     "output_type": "execute_result"
    }
   ],
   "source": [
    "a.islower()"
   ]
  },
  {
   "cell_type": "code",
   "execution_count": 80,
   "id": "3559f2fd",
   "metadata": {},
   "outputs": [
    {
     "data": {
      "text/plain": [
       "False"
      ]
     },
     "execution_count": 80,
     "metadata": {},
     "output_type": "execute_result"
    }
   ],
   "source": [
    "a.isupper()"
   ]
  },
  {
   "cell_type": "code",
   "execution_count": 83,
   "id": "df51ffa8",
   "metadata": {},
   "outputs": [
    {
     "data": {
      "text/plain": [
       "4"
      ]
     },
     "execution_count": 83,
     "metadata": {},
     "output_type": "execute_result"
    }
   ],
   "source": [
    "a.find('ou')"
   ]
  },
  {
   "cell_type": "code",
   "execution_count": 88,
   "id": "28a078f9",
   "metadata": {},
   "outputs": [
    {
     "data": {
      "text/plain": [
       "['b', 'nj', 'ur']"
      ]
     },
     "execution_count": 88,
     "metadata": {},
     "output_type": "execute_result"
    }
   ],
   "source": [
    "a.split(\"o\")"
   ]
  },
  {
   "cell_type": "code",
   "execution_count": 89,
   "id": "0e18130b",
   "metadata": {},
   "outputs": [
    {
     "data": {
      "text/plain": [
       "True"
      ]
     },
     "execution_count": 89,
     "metadata": {},
     "output_type": "execute_result"
    }
   ],
   "source": [
    "a.endswith('our')"
   ]
  },
  {
   "cell_type": "code",
   "execution_count": 90,
   "id": "ccfff762",
   "metadata": {},
   "outputs": [
    {
     "data": {
      "text/plain": [
       "True"
      ]
     },
     "execution_count": 90,
     "metadata": {},
     "output_type": "execute_result"
    }
   ],
   "source": [
    "a.startswith(\"bon\")"
   ]
  },
  {
   "cell_type": "code",
   "execution_count": 91,
   "id": "0ae7cf05",
   "metadata": {},
   "outputs": [],
   "source": [
    "a = \"            bonjour.     \""
   ]
  },
  {
   "cell_type": "code",
   "execution_count": 93,
   "id": "18a510c5",
   "metadata": {},
   "outputs": [
    {
     "data": {
      "text/plain": [
       "'bonjour.'"
      ]
     },
     "execution_count": 93,
     "metadata": {},
     "output_type": "execute_result"
    }
   ],
   "source": [
    "a.strip(\" \")"
   ]
  },
  {
   "cell_type": "code",
   "execution_count": 98,
   "id": "28010077",
   "metadata": {},
   "outputs": [],
   "source": [
    "a = \"______bonjour._____\""
   ]
  },
  {
   "cell_type": "code",
   "execution_count": 99,
   "id": "eaf35096",
   "metadata": {},
   "outputs": [
    {
     "data": {
      "text/plain": [
       "'bonjour.'"
      ]
     },
     "execution_count": 99,
     "metadata": {},
     "output_type": "execute_result"
    }
   ],
   "source": [
    "a.strip(\"_\")"
   ]
  },
  {
   "cell_type": "code",
   "execution_count": 103,
   "id": "5fe59894",
   "metadata": {},
   "outputs": [
    {
     "data": {
      "text/plain": [
       "'jour.'"
      ]
     },
     "execution_count": 103,
     "metadata": {},
     "output_type": "execute_result"
    }
   ],
   "source": [
    "a.strip(\"b_on\")"
   ]
  },
  {
   "cell_type": "code",
   "execution_count": 105,
   "id": "ece5f6c0",
   "metadata": {},
   "outputs": [
    {
     "data": {
      "text/plain": [
       "'______bonjour.'"
      ]
     },
     "execution_count": 105,
     "metadata": {},
     "output_type": "execute_result"
    }
   ],
   "source": [
    "a.rstrip(\"b_on\")"
   ]
  },
  {
   "cell_type": "code",
   "execution_count": 104,
   "id": "1af49934",
   "metadata": {},
   "outputs": [
    {
     "data": {
      "text/plain": [
       "'jour._____'"
      ]
     },
     "execution_count": 104,
     "metadata": {},
     "output_type": "execute_result"
    }
   ],
   "source": [
    "a.lstrip(\"b_on\")"
   ]
  },
  {
   "cell_type": "code",
   "execution_count": 109,
   "id": "c3fe09b0",
   "metadata": {
    "scrolled": true
   },
   "outputs": [
    {
     "data": {
      "text/plain": [
       "'0660909090'"
      ]
     },
     "execution_count": 109,
     "metadata": {},
     "output_type": "execute_result"
    }
   ],
   "source": [
    "(\"++06 60 90 90 90\").replace(\" \", \"\").replace(\"+\", \"\")"
   ]
  },
  {
   "cell_type": "code",
   "execution_count": 134,
   "id": "0b46c4d3",
   "metadata": {},
   "outputs": [
    {
     "name": "stdout",
     "output_type": "stream",
     "text": [
      "m\n",
      "a\n",
      "s\n",
      "t\n",
      "r\n",
      "i\n",
      "n\n",
      "g\n"
     ]
    }
   ],
   "source": [
    "for letter in \"mastring\":\n",
    "    print( letter )"
   ]
  },
  {
   "cell_type": "markdown",
   "id": "518e4c1e",
   "metadata": {},
   "source": [
    "## list"
   ]
  },
  {
   "cell_type": "code",
   "execution_count": 149,
   "id": "fd6387a7",
   "metadata": {},
   "outputs": [],
   "source": [
    "a = list()\n",
    "a = []"
   ]
  },
  {
   "cell_type": "code",
   "execution_count": 150,
   "id": "53763dd4",
   "metadata": {},
   "outputs": [],
   "source": [
    "a = list(\"bonjour\")"
   ]
  },
  {
   "cell_type": "code",
   "execution_count": 153,
   "id": "b442f34f",
   "metadata": {},
   "outputs": [
    {
     "data": {
      "text/plain": [
       "['b', 'o', 'n', 'j', 'o', 'u', 'r']"
      ]
     },
     "execution_count": 153,
     "metadata": {},
     "output_type": "execute_result"
    }
   ],
   "source": [
    "maliste"
   ]
  },
  {
   "cell_type": "code",
   "execution_count": 137,
   "id": "b6014c1a",
   "metadata": {
    "scrolled": false
   },
   "outputs": [
    {
     "name": "stdout",
     "output_type": "stream",
     "text": [
      "2\n",
      "3\n",
      "4\n"
     ]
    }
   ],
   "source": [
    "for item in [2,3,4]:\n",
    "    print(item)"
   ]
  },
  {
   "cell_type": "code",
   "execution_count": 154,
   "id": "322258f7",
   "metadata": {},
   "outputs": [],
   "source": [
    "maliste.append(\"a\")"
   ]
  },
  {
   "cell_type": "code",
   "execution_count": 155,
   "id": "73c4049e",
   "metadata": {},
   "outputs": [
    {
     "data": {
      "text/plain": [
       "['b', 'o', 'n', 'j', 'o', 'u', 'r', 'a']"
      ]
     },
     "execution_count": 155,
     "metadata": {},
     "output_type": "execute_result"
    }
   ],
   "source": [
    "maliste"
   ]
  },
  {
   "cell_type": "code",
   "execution_count": 156,
   "id": "6d7f9c14",
   "metadata": {},
   "outputs": [],
   "source": [
    "maliste.append(2)"
   ]
  },
  {
   "cell_type": "code",
   "execution_count": 157,
   "id": "1e7b9adc",
   "metadata": {},
   "outputs": [
    {
     "data": {
      "text/plain": [
       "['b', 'o', 'n', 'j', 'o', 'u', 'r', 'a', 2]"
      ]
     },
     "execution_count": 157,
     "metadata": {},
     "output_type": "execute_result"
    }
   ],
   "source": [
    "maliste"
   ]
  },
  {
   "cell_type": "code",
   "execution_count": 158,
   "id": "1df5c278",
   "metadata": {},
   "outputs": [],
   "source": [
    "maliste.append([2, \"a\"])"
   ]
  },
  {
   "cell_type": "code",
   "execution_count": 159,
   "id": "66a23ccd",
   "metadata": {},
   "outputs": [
    {
     "data": {
      "text/plain": [
       "['b', 'o', 'n', 'j', 'o', 'u', 'r', 'a', 2, [2, 'a']]"
      ]
     },
     "execution_count": 159,
     "metadata": {},
     "output_type": "execute_result"
    }
   ],
   "source": [
    "maliste"
   ]
  },
  {
   "cell_type": "code",
   "execution_count": 160,
   "id": "e24af396",
   "metadata": {},
   "outputs": [],
   "source": [
    "maliste.extend([2,3,4,5])"
   ]
  },
  {
   "cell_type": "code",
   "execution_count": 161,
   "id": "f37b348a",
   "metadata": {},
   "outputs": [
    {
     "data": {
      "text/plain": [
       "['b', 'o', 'n', 'j', 'o', 'u', 'r', 'a', 2, [2, 'a'], 2, 3, 4, 5]"
      ]
     },
     "execution_count": 161,
     "metadata": {},
     "output_type": "execute_result"
    }
   ],
   "source": [
    "maliste"
   ]
  },
  {
   "cell_type": "code",
   "execution_count": 162,
   "id": "84219e1b",
   "metadata": {},
   "outputs": [],
   "source": [
    "maliste.insert(0, \"zoro\")"
   ]
  },
  {
   "cell_type": "code",
   "execution_count": 163,
   "id": "dfa033d7",
   "metadata": {},
   "outputs": [
    {
     "data": {
      "text/plain": [
       "['zoro', 'b', 'o', 'n', 'j', 'o', 'u', 'r', 'a', 2, [2, 'a'], 2, 3, 4, 5]"
      ]
     },
     "execution_count": 163,
     "metadata": {},
     "output_type": "execute_result"
    }
   ],
   "source": [
    "maliste"
   ]
  },
  {
   "cell_type": "code",
   "execution_count": 165,
   "id": "80d089b8",
   "metadata": {},
   "outputs": [
    {
     "data": {
      "text/plain": [
       "'a.b.d.e'"
      ]
     },
     "execution_count": 165,
     "metadata": {},
     "output_type": "execute_result"
    }
   ],
   "source": [
    "\".\".join([\"a\", \"b\", \"d\", \"e\"])"
   ]
  },
  {
   "cell_type": "code",
   "execution_count": 166,
   "id": "bc70a298",
   "metadata": {},
   "outputs": [],
   "source": [
    "maliste.reverse()"
   ]
  },
  {
   "cell_type": "code",
   "execution_count": 167,
   "id": "6080597f",
   "metadata": {},
   "outputs": [
    {
     "data": {
      "text/plain": [
       "[5, 4, 3, 2, [2, 'a'], 2, 'a', 'r', 'u', 'o', 'j', 'n', 'o', 'b', 'zoro']"
      ]
     },
     "execution_count": 167,
     "metadata": {},
     "output_type": "execute_result"
    }
   ],
   "source": [
    "maliste"
   ]
  },
  {
   "cell_type": "code",
   "execution_count": 168,
   "id": "4a562779",
   "metadata": {},
   "outputs": [],
   "source": [
    "maliste.remove(4)"
   ]
  },
  {
   "cell_type": "code",
   "execution_count": 169,
   "id": "d755a0a4",
   "metadata": {},
   "outputs": [
    {
     "data": {
      "text/plain": [
       "[5, 3, 2, [2, 'a'], 2, 'a', 'r', 'u', 'o', 'j', 'n', 'o', 'b', 'zoro']"
      ]
     },
     "execution_count": 169,
     "metadata": {},
     "output_type": "execute_result"
    }
   ],
   "source": [
    "maliste"
   ]
  },
  {
   "cell_type": "code",
   "execution_count": 170,
   "id": "7fefd7c8",
   "metadata": {},
   "outputs": [
    {
     "data": {
      "text/plain": [
       "[2, 'a']"
      ]
     },
     "execution_count": 170,
     "metadata": {},
     "output_type": "execute_result"
    }
   ],
   "source": [
    "maliste.pop(3)"
   ]
  },
  {
   "cell_type": "markdown",
   "id": "d3433a53",
   "metadata": {},
   "source": [
    "## indexation de liste"
   ]
  },
  {
   "cell_type": "code",
   "execution_count": 190,
   "id": "2ac35055",
   "metadata": {
    "scrolled": true
   },
   "outputs": [],
   "source": [
    "#maliste.__getitem__(0) # maliste[0]"
   ]
  },
  {
   "cell_type": "code",
   "execution_count": 176,
   "id": "b3bcef5a",
   "metadata": {},
   "outputs": [
    {
     "data": {
      "text/plain": [
       "5"
      ]
     },
     "execution_count": 176,
     "metadata": {},
     "output_type": "execute_result"
    }
   ],
   "source": [
    "maliste[0]"
   ]
  },
  {
   "cell_type": "code",
   "execution_count": 178,
   "id": "b64ac03e",
   "metadata": {},
   "outputs": [
    {
     "data": {
      "text/plain": [
       "[5, 3, 2, 2, 'a', 'r', 'u', 'o', 'j', 'n', 'o', 'b', 'zoro']"
      ]
     },
     "execution_count": 178,
     "metadata": {},
     "output_type": "execute_result"
    }
   ],
   "source": [
    "maliste"
   ]
  },
  {
   "cell_type": "code",
   "execution_count": 179,
   "id": "783e1cb3",
   "metadata": {},
   "outputs": [
    {
     "data": {
      "text/plain": [
       "'a'"
      ]
     },
     "execution_count": 179,
     "metadata": {},
     "output_type": "execute_result"
    }
   ],
   "source": [
    "maliste[4]"
   ]
  },
  {
   "cell_type": "code",
   "execution_count": 180,
   "id": "7cbd12b6",
   "metadata": {},
   "outputs": [
    {
     "data": {
      "text/plain": [
       "13"
      ]
     },
     "execution_count": 180,
     "metadata": {},
     "output_type": "execute_result"
    }
   ],
   "source": [
    "len(maliste) # maliste.__len__()"
   ]
  },
  {
   "cell_type": "code",
   "execution_count": 185,
   "id": "9966aa9b",
   "metadata": {},
   "outputs": [
    {
     "data": {
      "text/plain": [
       "'zoro'"
      ]
     },
     "execution_count": 185,
     "metadata": {},
     "output_type": "execute_result"
    }
   ],
   "source": [
    "maliste[-1]"
   ]
  },
  {
   "cell_type": "code",
   "execution_count": 186,
   "id": "ef3caf44",
   "metadata": {},
   "outputs": [
    {
     "data": {
      "text/plain": [
       "'b'"
      ]
     },
     "execution_count": 186,
     "metadata": {},
     "output_type": "execute_result"
    }
   ],
   "source": [
    "maliste[-2]"
   ]
  },
  {
   "cell_type": "code",
   "execution_count": 187,
   "id": "0af6429a",
   "metadata": {},
   "outputs": [],
   "source": [
    "maliste.__setitem__(2, 25)"
   ]
  },
  {
   "cell_type": "code",
   "execution_count": 191,
   "id": "23e0dfc3",
   "metadata": {},
   "outputs": [],
   "source": [
    "maliste[2] = 25"
   ]
  },
  {
   "cell_type": "code",
   "execution_count": 192,
   "id": "885ca86c",
   "metadata": {},
   "outputs": [
    {
     "data": {
      "text/plain": [
       "[5, 3, 25, 2, 'a', 'r', 'u', 'o', 'j', 'n', 'o', 'b', 'zoro']"
      ]
     },
     "execution_count": 192,
     "metadata": {},
     "output_type": "execute_result"
    }
   ],
   "source": [
    "maliste"
   ]
  },
  {
   "cell_type": "markdown",
   "id": "0ad425f3",
   "metadata": {},
   "source": [
    "## slicing "
   ]
  },
  {
   "cell_type": "markdown",
   "id": "11624930",
   "metadata": {},
   "source": [
    "uneliste[start_index: end_index: step]"
   ]
  },
  {
   "cell_type": "markdown",
   "id": "d4ddc520",
   "metadata": {},
   "source": [
    "### j'aimerai du premier AU 5e élément"
   ]
  },
  {
   "cell_type": "code",
   "execution_count": 193,
   "id": "51a9a07f",
   "metadata": {},
   "outputs": [
    {
     "data": {
      "text/plain": [
       "[5, 3, 25, 2, 'a', 'r', 'u', 'o', 'j', 'n', 'o', 'b', 'zoro']"
      ]
     },
     "execution_count": 193,
     "metadata": {},
     "output_type": "execute_result"
    }
   ],
   "source": [
    "maliste"
   ]
  },
  {
   "cell_type": "code",
   "execution_count": 195,
   "id": "0b18639f",
   "metadata": {},
   "outputs": [
    {
     "data": {
      "text/plain": [
       "[5, 3, 25, 2, 'a']"
      ]
     },
     "execution_count": 195,
     "metadata": {},
     "output_type": "execute_result"
    }
   ],
   "source": [
    "maliste[0:5] # exclus le dernier élément"
   ]
  },
  {
   "cell_type": "markdown",
   "id": "28233c0b",
   "metadata": {},
   "source": [
    "### j'aimerai du premier AU n-2 élément (exclus)"
   ]
  },
  {
   "cell_type": "code",
   "execution_count": 202,
   "id": "dc211612",
   "metadata": {},
   "outputs": [
    {
     "data": {
      "text/plain": [
       "[5, 3, 25, 2, 'a', 'r', 'u', 'o', 'j', 'n', 'o']"
      ]
     },
     "execution_count": 202,
     "metadata": {},
     "output_type": "execute_result"
    }
   ],
   "source": [
    "maliste[:len(maliste)-2 ] # -1"
   ]
  },
  {
   "cell_type": "code",
   "execution_count": 201,
   "id": "6a30b735",
   "metadata": {},
   "outputs": [
    {
     "data": {
      "text/plain": [
       "[5, 3, 25, 2, 'a', 'r', 'u', 'o', 'j', 'n', 'o']"
      ]
     },
     "execution_count": 201,
     "metadata": {},
     "output_type": "execute_result"
    }
   ],
   "source": [
    "maliste[:-2]"
   ]
  },
  {
   "cell_type": "code",
   "execution_count": 203,
   "id": "a4df35db",
   "metadata": {},
   "outputs": [
    {
     "data": {
      "text/plain": [
       "[2, 'a', 'r', 'u', 'o', 'j', 'n', 'o']"
      ]
     },
     "execution_count": 203,
     "metadata": {},
     "output_type": "execute_result"
    }
   ],
   "source": [
    "maliste[3:-2]"
   ]
  },
  {
   "cell_type": "markdown",
   "id": "6dcc8876",
   "metadata": {},
   "source": [
    "### j'aimerai du premier AU n-2 élément (exclus) par pas de 3"
   ]
  },
  {
   "cell_type": "code",
   "execution_count": 207,
   "id": "f2cabb15",
   "metadata": {},
   "outputs": [
    {
     "data": {
      "text/plain": [
       "[5, 3, 25, 2, 'a', 'r', 'u', 'o', 'j', 'n', 'o', 'b', 'zoro']"
      ]
     },
     "execution_count": 207,
     "metadata": {},
     "output_type": "execute_result"
    }
   ],
   "source": [
    "maliste"
   ]
  },
  {
   "cell_type": "code",
   "execution_count": 210,
   "id": "6c2b2735",
   "metadata": {},
   "outputs": [
    {
     "data": {
      "text/plain": [
       "[5, 2, 'u', 'n']"
      ]
     },
     "execution_count": 210,
     "metadata": {},
     "output_type": "execute_result"
    }
   ],
   "source": [
    "maliste[0:-1:3]"
   ]
  },
  {
   "cell_type": "code",
   "execution_count": 216,
   "id": "9fbaf499",
   "metadata": {},
   "outputs": [
    {
     "data": {
      "text/plain": [
       "[5, 2, 'u', 'n', 'zoro']"
      ]
     },
     "execution_count": 216,
     "metadata": {},
     "output_type": "execute_result"
    }
   ],
   "source": [
    "maliste[::3]"
   ]
  },
  {
   "cell_type": "markdown",
   "id": "3c4d2208",
   "metadata": {},
   "source": [
    "# tuples"
   ]
  },
  {
   "cell_type": "markdown",
   "id": "679bdab7",
   "metadata": {},
   "source": [
    "tuple n'est pas modifiable après création => immutable"
   ]
  },
  {
   "cell_type": "code",
   "execution_count": 269,
   "id": "d7b6d214",
   "metadata": {},
   "outputs": [],
   "source": [
    "montuple = (1,2,3,4, \"a\", \"b\")"
   ]
  },
  {
   "cell_type": "code",
   "execution_count": 270,
   "id": "f1cb6470",
   "metadata": {},
   "outputs": [
    {
     "data": {
      "text/plain": [
       "(1, 2, 3, 4, 'a', 'b')"
      ]
     },
     "execution_count": 270,
     "metadata": {},
     "output_type": "execute_result"
    }
   ],
   "source": [
    "montuple"
   ]
  },
  {
   "cell_type": "code",
   "execution_count": 271,
   "id": "7e19f419",
   "metadata": {},
   "outputs": [
    {
     "data": {
      "text/plain": [
       "1"
      ]
     },
     "execution_count": 271,
     "metadata": {},
     "output_type": "execute_result"
    }
   ],
   "source": [
    "montuple[0]"
   ]
  },
  {
   "cell_type": "code",
   "execution_count": 272,
   "id": "7f50fd70",
   "metadata": {},
   "outputs": [
    {
     "ename": "TypeError",
     "evalue": "'tuple' object does not support item assignment",
     "output_type": "error",
     "traceback": [
      "\u001b[0;31m---------------------------------------------------------------------------\u001b[0m",
      "\u001b[0;31mTypeError\u001b[0m                                 Traceback (most recent call last)",
      "Input \u001b[0;32mIn [272]\u001b[0m, in \u001b[0;36m<cell line: 1>\u001b[0;34m()\u001b[0m\n\u001b[0;32m----> 1\u001b[0m montuple[\u001b[38;5;241m1\u001b[39m] \u001b[38;5;241m=\u001b[39m \u001b[38;5;241m4\u001b[39m\n",
      "\u001b[0;31mTypeError\u001b[0m: 'tuple' object does not support item assignment"
     ]
    }
   ],
   "source": [
    "montuple[1] = 4"
   ]
  },
  {
   "cell_type": "markdown",
   "id": "13a654f5",
   "metadata": {},
   "source": [
    "## set"
   ]
  },
  {
   "cell_type": "code",
   "execution_count": 277,
   "id": "5d28e0e5",
   "metadata": {},
   "outputs": [],
   "source": [
    "unset = set()"
   ]
  },
  {
   "cell_type": "code",
   "execution_count": 278,
   "id": "cfc448be",
   "metadata": {},
   "outputs": [
    {
     "data": {
      "text/plain": [
       "set()"
      ]
     },
     "execution_count": 278,
     "metadata": {},
     "output_type": "execute_result"
    }
   ],
   "source": [
    "unset"
   ]
  },
  {
   "cell_type": "code",
   "execution_count": 289,
   "id": "7c4106a2",
   "metadata": {},
   "outputs": [],
   "source": [
    "unset1 = {\n",
    "    \"CN003\",\"CN003\", \"CN005\",\"CN008\",\"CN0010\",\"CN0011\"}"
   ]
  },
  {
   "cell_type": "code",
   "execution_count": 290,
   "id": "f629c6e0",
   "metadata": {},
   "outputs": [],
   "source": [
    "unset2 = {\n",
    "    \"CN001\",\"CN002\",\"CN003\",\"CN004\",\"CN005\"\n",
    "}"
   ]
  },
  {
   "cell_type": "code",
   "execution_count": 291,
   "id": "da6e268e",
   "metadata": {},
   "outputs": [
    {
     "data": {
      "text/plain": [
       "{'CN003', 'CN005'}"
      ]
     },
     "execution_count": 291,
     "metadata": {},
     "output_type": "execute_result"
    }
   ],
   "source": [
    "unset1 & unset2 # intersection"
   ]
  },
  {
   "cell_type": "code",
   "execution_count": 292,
   "id": "9ab14b3e",
   "metadata": {},
   "outputs": [
    {
     "data": {
      "text/plain": [
       "{'CN001', 'CN0010', 'CN0011', 'CN002', 'CN004', 'CN008'}"
      ]
     },
     "execution_count": 292,
     "metadata": {},
     "output_type": "execute_result"
    }
   ],
   "source": [
    "unset1 ^ unset2 # diff sym"
   ]
  },
  {
   "cell_type": "code",
   "execution_count": 293,
   "id": "c297ddac",
   "metadata": {},
   "outputs": [
    {
     "data": {
      "text/plain": [
       "{'CN001', 'CN0010', 'CN0011', 'CN002', 'CN003', 'CN004', 'CN005', 'CN008'}"
      ]
     },
     "execution_count": 293,
     "metadata": {},
     "output_type": "execute_result"
    }
   ],
   "source": [
    "unset1 | unset2 # union"
   ]
  },
  {
   "cell_type": "code",
   "execution_count": 294,
   "id": "fed04ddc",
   "metadata": {},
   "outputs": [
    {
     "data": {
      "text/plain": [
       "{'CN0010', 'CN0011', 'CN008'}"
      ]
     },
     "execution_count": 294,
     "metadata": {},
     "output_type": "execute_result"
    }
   ],
   "source": [
    "unset1 - unset2"
   ]
  },
  {
   "cell_type": "code",
   "execution_count": 295,
   "id": "b802bc2d",
   "metadata": {},
   "outputs": [
    {
     "data": {
      "text/plain": [
       "{'CN001', 'CN002', 'CN004'}"
      ]
     },
     "execution_count": 295,
     "metadata": {},
     "output_type": "execute_result"
    }
   ],
   "source": [
    "unset2 - unset1"
   ]
  },
  {
   "cell_type": "markdown",
   "id": "924f2320",
   "metadata": {},
   "source": [
    "# dict"
   ]
  },
  {
   "cell_type": "markdown",
   "id": "e9a537e5",
   "metadata": {},
   "source": [
    "ensemble / collection `cle:valeur`\n"
   ]
  },
  {
   "cell_type": "code",
   "execution_count": 296,
   "id": "9a8e2f07",
   "metadata": {},
   "outputs": [],
   "source": [
    "dico = dict()"
   ]
  },
  {
   "cell_type": "code",
   "execution_count": 297,
   "id": "8a82e3ae",
   "metadata": {},
   "outputs": [
    {
     "data": {
      "text/plain": [
       "{}"
      ]
     },
     "execution_count": 297,
     "metadata": {},
     "output_type": "execute_result"
    }
   ],
   "source": [
    "dico"
   ]
  },
  {
   "cell_type": "code",
   "execution_count": 299,
   "id": "9221309f",
   "metadata": {},
   "outputs": [],
   "source": [
    "dico = {\n",
    "    \"a\":1,\n",
    "    \"b\":2,\n",
    "    \"c\": \"3\",\n",
    "    \"d\": [1,2],\n",
    "    \"e\": (3,4),\n",
    "    \"f\": { },\n",
    "    2: 1,\n",
    "    3: 4,\n",
    "    (1,4): 52,\n",
    "}"
   ]
  },
  {
   "cell_type": "code",
   "execution_count": 300,
   "id": "66c27c2f",
   "metadata": {},
   "outputs": [
    {
     "data": {
      "text/plain": [
       "{'a': 1,\n",
       " 'b': 2,\n",
       " 'c': '3',\n",
       " 'd': [1, 2],\n",
       " 'e': (3, 4),\n",
       " 'f': {},\n",
       " 2: 1,\n",
       " 3: 4,\n",
       " (1, 4): 52}"
      ]
     },
     "execution_count": 300,
     "metadata": {},
     "output_type": "execute_result"
    }
   ],
   "source": [
    "dico"
   ]
  },
  {
   "cell_type": "code",
   "execution_count": 302,
   "id": "65ee1873",
   "metadata": {},
   "outputs": [
    {
     "data": {
      "text/plain": [
       "4408994752"
      ]
     },
     "execution_count": 302,
     "metadata": {},
     "output_type": "execute_result"
    }
   ],
   "source": [
    "id(dico)"
   ]
  },
  {
   "cell_type": "markdown",
   "id": "0790e42b",
   "metadata": {},
   "source": [
    "#### 4 operations fondamentales \n",
    "- ajouter une pair dans la collection\n",
    "- supprimer une pair de la collection\n",
    "- modifier une valeur associée à une clé dans la pair dans la collection\n",
    "- lookup / get une valeur basée sur la clé"
   ]
  },
  {
   "cell_type": "code",
   "execution_count": 306,
   "id": "b40e4a7b",
   "metadata": {},
   "outputs": [],
   "source": [
    "dico[\"bonjour\"] = 25"
   ]
  },
  {
   "cell_type": "code",
   "execution_count": 308,
   "id": "04786371",
   "metadata": {},
   "outputs": [],
   "source": [
    "del dico[\"bonjour\"]"
   ]
  },
  {
   "cell_type": "code",
   "execution_count": 313,
   "id": "94a7492b",
   "metadata": {},
   "outputs": [],
   "source": [
    "dico[\"bonjour\"] = 25\n",
    "dico[\"bonjour\"] = 26"
   ]
  },
  {
   "cell_type": "code",
   "execution_count": 316,
   "id": "c246f06e",
   "metadata": {},
   "outputs": [
    {
     "data": {
      "text/plain": [
       "25"
      ]
     },
     "execution_count": 316,
     "metadata": {},
     "output_type": "execute_result"
    }
   ],
   "source": [
    "dico[\"bonjour\"]"
   ]
  },
  {
   "cell_type": "code",
   "execution_count": 317,
   "id": "8a431bb1",
   "metadata": {},
   "outputs": [
    {
     "data": {
      "text/plain": [
       "{'a': 1,\n",
       " 'b': 2,\n",
       " 'c': '3',\n",
       " 'd': [1, 2],\n",
       " 'e': (3, 4),\n",
       " 'f': {},\n",
       " 2: 1,\n",
       " 3: 4,\n",
       " (1, 4): 52,\n",
       " 'test': 25,\n",
       " 'bonjour': 25}"
      ]
     },
     "execution_count": 317,
     "metadata": {},
     "output_type": "execute_result"
    }
   ],
   "source": [
    "dico"
   ]
  },
  {
   "cell_type": "code",
   "execution_count": 318,
   "id": "480ec72d",
   "metadata": {},
   "outputs": [
    {
     "data": {
      "text/plain": [
       "True"
      ]
     },
     "execution_count": 318,
     "metadata": {},
     "output_type": "execute_result"
    }
   ],
   "source": [
    "\"bonjour\" in dico"
   ]
  },
  {
   "cell_type": "code",
   "execution_count": 322,
   "id": "1b33c756",
   "metadata": {},
   "outputs": [
    {
     "name": "stdout",
     "output_type": "stream",
     "text": [
      "a\n",
      "b\n",
      "c\n",
      "d\n",
      "e\n",
      "f\n",
      "2\n",
      "3\n",
      "(1, 4)\n",
      "test\n",
      "bonjour\n"
     ]
    }
   ],
   "source": [
    "for element in dico.keys():\n",
    "    print( element )"
   ]
  },
  {
   "cell_type": "code",
   "execution_count": 325,
   "id": "fd97ba9b",
   "metadata": {},
   "outputs": [
    {
     "name": "stdout",
     "output_type": "stream",
     "text": [
      "1\n",
      "2\n",
      "3\n",
      "[1, 2]\n",
      "(3, 4)\n",
      "{}\n",
      "1\n",
      "4\n",
      "52\n",
      "25\n",
      "25\n"
     ]
    }
   ],
   "source": [
    "for element in dico.values():\n",
    "    print( element )"
   ]
  },
  {
   "cell_type": "code",
   "execution_count": 327,
   "id": "e1ff4420",
   "metadata": {},
   "outputs": [
    {
     "name": "stdout",
     "output_type": "stream",
     "text": [
      "('a', 1)\n",
      "<class 'tuple'>\n",
      "('b', 2)\n",
      "<class 'tuple'>\n",
      "('c', '3')\n",
      "<class 'tuple'>\n",
      "('d', [1, 2])\n",
      "<class 'tuple'>\n",
      "('e', (3, 4))\n",
      "<class 'tuple'>\n",
      "('f', {})\n",
      "<class 'tuple'>\n",
      "(2, 1)\n",
      "<class 'tuple'>\n",
      "(3, 4)\n",
      "<class 'tuple'>\n",
      "((1, 4), 52)\n",
      "<class 'tuple'>\n",
      "('test', 25)\n",
      "<class 'tuple'>\n",
      "('bonjour', 25)\n",
      "<class 'tuple'>\n"
     ]
    }
   ],
   "source": [
    "for item in dico.items():\n",
    "    print( item )\n",
    "    print( type(item ))"
   ]
  },
  {
   "cell_type": "code",
   "execution_count": null,
   "id": "e4480353",
   "metadata": {},
   "outputs": [],
   "source": [
    "(\"a\", 21) <=> [\"1\",2]"
   ]
  },
  {
   "cell_type": "markdown",
   "id": "0a1fdfa3",
   "metadata": {},
   "source": [
    "## Exo"
   ]
  },
  {
   "cell_type": "code",
   "execution_count": 357,
   "id": "b73ca1cf",
   "metadata": {},
   "outputs": [],
   "source": [
    "contacts = {\n",
    "    \"Julie\": \"+288982938298382\",\n",
    "    \"julien\": \"+28798739823\",\n",
    "    \"Vincent\": \"+384709289023\",\n",
    "    \"René\": \"+29839028903823\",\n",
    "    \"Violette\": \"+2002020200200\"\n",
    "}"
   ]
  },
  {
   "cell_type": "code",
   "execution_count": 358,
   "id": "b4dbd088",
   "metadata": {},
   "outputs": [
    {
     "data": {
      "text/plain": [
       "{'Julie': '+288982938298382',\n",
       " 'julien': '+28798739823',\n",
       " 'Vincent': '+384709289023',\n",
       " 'René': '+29839028903823',\n",
       " 'Violette': '+2002020200200'}"
      ]
     },
     "execution_count": 358,
     "metadata": {},
     "output_type": "execute_result"
    }
   ],
   "source": [
    "contacts"
   ]
  },
  {
   "cell_type": "markdown",
   "id": "636e3f1b",
   "metadata": {},
   "source": [
    "#### je veux les numéros de téléphone des personnes qui commecent par la lettre \"j\""
   ]
  },
  {
   "cell_type": "code",
   "execution_count": 353,
   "id": "d7038b1c",
   "metadata": {},
   "outputs": [],
   "source": [
    "response = {}"
   ]
  },
  {
   "cell_type": "code",
   "execution_count": 354,
   "id": "e98af49c",
   "metadata": {},
   "outputs": [],
   "source": [
    "# itérer sur contacts en ayant les clés + valeurs"
   ]
  },
  {
   "cell_type": "code",
   "execution_count": 376,
   "id": "9c2aae2d",
   "metadata": {},
   "outputs": [
    {
     "data": {
      "text/plain": [
       "{'Julie': '+288982938298382', 'julien': '+28798739823'}"
      ]
     },
     "execution_count": 376,
     "metadata": {},
     "output_type": "execute_result"
    }
   ],
   "source": [
    "response = {}\n",
    "for name, tel in contacts.items():\n",
    "    if name.startswith(('J', 'j')):\n",
    "        response[name] = tel\n",
    "response"
   ]
  },
  {
   "cell_type": "markdown",
   "id": "b6f2d11d",
   "metadata": {},
   "source": [
    "### unpacking"
   ]
  },
  {
   "cell_type": "code",
   "execution_count": 365,
   "id": "aa723cb8",
   "metadata": {},
   "outputs": [],
   "source": [
    "a,b,c  = (1,2, 3)\n"
   ]
  },
  {
   "cell_type": "markdown",
   "id": "c06f16ee",
   "metadata": {},
   "source": [
    "# list comprehension"
   ]
  },
  {
   "cell_type": "code",
   "execution_count": 384,
   "id": "574dd494",
   "metadata": {},
   "outputs": [
    {
     "data": {
      "text/plain": [
       "[2, 4]"
      ]
     },
     "execution_count": 384,
     "metadata": {},
     "output_type": "execute_result"
    }
   ],
   "source": [
    "liste2 = []\n",
    "for element in [1,2,3]:\n",
    "    if element != 3:\n",
    "        liste2.append(element * 2)\n",
    "    \n",
    "liste2 "
   ]
  },
  {
   "cell_type": "code",
   "execution_count": 385,
   "id": "77e0a64e",
   "metadata": {},
   "outputs": [
    {
     "data": {
      "text/plain": [
       "[2, 4]"
      ]
     },
     "execution_count": 385,
     "metadata": {},
     "output_type": "execute_result"
    }
   ],
   "source": [
    "[   element*2   for element in [1,2,3]   if element != 3   ]"
   ]
  },
  {
   "cell_type": "markdown",
   "id": "08ce7c8d",
   "metadata": {},
   "source": [
    "# dict comprehension"
   ]
  },
  {
   "cell_type": "code",
   "execution_count": 386,
   "id": "05df2b9d",
   "metadata": {},
   "outputs": [
    {
     "data": {
      "text/plain": [
       "{'Julie': '+288982938298382', 'julien': '+28798739823'}"
      ]
     },
     "execution_count": 386,
     "metadata": {},
     "output_type": "execute_result"
    }
   ],
   "source": [
    "response = {}\n",
    "for name, tel in contacts.items():\n",
    "    if name.startswith(('J', 'j')):\n",
    "        response[name] = tel\n",
    "response"
   ]
  },
  {
   "cell_type": "code",
   "execution_count": 389,
   "id": "55e4f2ab",
   "metadata": {},
   "outputs": [
    {
     "data": {
      "text/plain": [
       "{'Julie': '+288982938298382', 'julien': '+28798739823'}"
      ]
     },
     "execution_count": 389,
     "metadata": {},
     "output_type": "execute_result"
    }
   ],
   "source": [
    "{    name:tel for  name, tel in contacts.items()  if name.startswith(('J', 'j'))  }"
   ]
  },
  {
   "cell_type": "markdown",
   "id": "4ce75c68",
   "metadata": {},
   "source": [
    "# loop"
   ]
  },
  {
   "cell_type": "markdown",
   "id": "14cc4d5f",
   "metadata": {},
   "source": [
    "- for sur un iterable\n",
    "- while "
   ]
  },
  {
   "cell_type": "markdown",
   "id": "2ea9af60",
   "metadata": {},
   "source": [
    "# conditions"
   ]
  },
  {
   "cell_type": "markdown",
   "id": "03187675",
   "metadata": {},
   "source": [
    "- if ()/ [elif ()]/ [else]  (bool)"
   ]
  },
  {
   "cell_type": "code",
   "execution_count": 394,
   "id": "00bd11b0",
   "metadata": {},
   "outputs": [
    {
     "name": "stdout",
     "output_type": "stream",
     "text": [
      "salut 3\n"
     ]
    }
   ],
   "source": [
    "if \"bonjour\" == \"bonjour2\":\n",
    "    print( \"salut\")\n",
    "elif \"bonjour\" == \"salut\":\n",
    "    print( \"salut2\")\n",
    "else:\n",
    "    print( \"salut 3\")"
   ]
  },
  {
   "cell_type": "markdown",
   "id": "cd25756d",
   "metadata": {},
   "source": [
    "# 2 - 3 tips"
   ]
  },
  {
   "cell_type": "code",
   "execution_count": null,
   "id": "b4f9b172",
   "metadata": {},
   "outputs": [],
   "source": [
    "a = list(range(1, 10000000000, 2))"
   ]
  },
  {
   "cell_type": "code",
   "execution_count": 13,
   "id": "b6b501f5",
   "metadata": {},
   "outputs": [],
   "source": [
    "uneliste = [1,2,3,4]\n",
    "unedeuxiemeliste =[\"a\",\"b\",\"c\",\"d\"]"
   ]
  },
  {
   "cell_type": "code",
   "execution_count": 22,
   "id": "9db1d7ba",
   "metadata": {},
   "outputs": [
    {
     "data": {
      "text/plain": [
       "<zip at 0x110bc66c0>"
      ]
     },
     "execution_count": 22,
     "metadata": {},
     "output_type": "execute_result"
    }
   ],
   "source": [
    "zip( uneliste, unedeuxiemeliste)"
   ]
  },
  {
   "cell_type": "markdown",
   "id": "1b9bd11b",
   "metadata": {},
   "source": [
    "# functions"
   ]
  },
  {
   "cell_type": "code",
   "execution_count": 57,
   "id": "c8c14fd3",
   "metadata": {
    "scrolled": true
   },
   "outputs": [
    {
     "data": {
      "text/plain": [
       "2"
      ]
     },
     "execution_count": 57,
     "metadata": {},
     "output_type": "execute_result"
    }
   ],
   "source": [
    "a = 2\n",
    "a"
   ]
  },
  {
   "cell_type": "code",
   "execution_count": null,
   "id": "2279d997",
   "metadata": {},
   "outputs": [],
   "source": []
  },
  {
   "cell_type": "code",
   "execution_count": null,
   "id": "4a6b60b0",
   "metadata": {},
   "outputs": [],
   "source": []
  },
  {
   "cell_type": "code",
   "execution_count": 33,
   "id": "a4cd5209",
   "metadata": {},
   "outputs": [
    {
     "name": "stdout",
     "output_type": "stream",
     "text": [
      "salut\n"
     ]
    }
   ],
   "source": [
    "a = print(\"salut\")"
   ]
  },
  {
   "cell_type": "code",
   "execution_count": 60,
   "id": "6c2b0f1e",
   "metadata": {},
   "outputs": [],
   "source": [
    "def hello():\n",
    "    print( \"salut\")"
   ]
  },
  {
   "cell_type": "code",
   "execution_count": 61,
   "id": "c142316b",
   "metadata": {},
   "outputs": [
    {
     "name": "stdout",
     "output_type": "stream",
     "text": [
      "salut\n"
     ]
    }
   ],
   "source": [
    "hello()"
   ]
  },
  {
   "cell_type": "code",
   "execution_count": 67,
   "id": "9f847381",
   "metadata": {},
   "outputs": [],
   "source": [
    "def hello(name, age):\n",
    "    print( f\" bonjour {name}, tu as {age} ans.\")\n",
    "    return 20"
   ]
  },
  {
   "cell_type": "code",
   "execution_count": 68,
   "id": "6fcf8440",
   "metadata": {},
   "outputs": [
    {
     "name": "stdout",
     "output_type": "stream",
     "text": [
      " bonjour Luc, tu as 26 ans.\n"
     ]
    }
   ],
   "source": [
    "nouveau = hello(\"Luc\", 26)"
   ]
  },
  {
   "cell_type": "code",
   "execution_count": 83,
   "id": "04d0af46",
   "metadata": {},
   "outputs": [],
   "source": [
    "def hello(name=\"Luc\", age=25):\n",
    "    return f\" bonjour {name}, tu as {age} ans.\""
   ]
  },
  {
   "cell_type": "code",
   "execution_count": 88,
   "id": "2790bd1e",
   "metadata": {},
   "outputs": [],
   "source": [
    "def compute(x):\n",
    "    \"\"\"ceci calcule et retourne x**2\"\"\"\n",
    "    return x**2"
   ]
  },
  {
   "cell_type": "code",
   "execution_count": 86,
   "id": "d130417b",
   "metadata": {},
   "outputs": [],
   "source": [
    "resultat = compute(25)"
   ]
  },
  {
   "cell_type": "code",
   "execution_count": 90,
   "id": "b4e880b5",
   "metadata": {},
   "outputs": [],
   "source": [
    "resultat = compute(10)"
   ]
  },
  {
   "cell_type": "code",
   "execution_count": 91,
   "id": "27a504fe",
   "metadata": {},
   "outputs": [
    {
     "data": {
      "text/plain": [
       "100"
      ]
     },
     "execution_count": 91,
     "metadata": {},
     "output_type": "execute_result"
    }
   ],
   "source": [
    "resultat"
   ]
  },
  {
   "cell_type": "code",
   "execution_count": 92,
   "id": "b9b95cd0",
   "metadata": {},
   "outputs": [],
   "source": [
    "def acomplicatedcalculus(a,b,c,d,e,f=23):\n",
    "    return a + b * c - d*e*f"
   ]
  },
  {
   "cell_type": "code",
   "execution_count": 100,
   "id": "77f44f75",
   "metadata": {},
   "outputs": [
    {
     "data": {
      "text/plain": [
       "-453"
      ]
     },
     "execution_count": 100,
     "metadata": {},
     "output_type": "execute_result"
    }
   ],
   "source": [
    "acomplicatedcalculus( b=2,a=1 , d=4, e=5, c=3)"
   ]
  },
  {
   "cell_type": "code",
   "execution_count": 105,
   "id": "98ef08bc",
   "metadata": {},
   "outputs": [
    {
     "data": {
      "text/plain": [
       "-453"
      ]
     },
     "execution_count": 105,
     "metadata": {},
     "output_type": "execute_result"
    }
   ],
   "source": [
    "acomplicatedcalculus(1,2, 3, d=4, e=5)"
   ]
  },
  {
   "cell_type": "code",
   "execution_count": 114,
   "id": "15f16e28",
   "metadata": {},
   "outputs": [
    {
     "data": {
      "text/plain": [
       "-453"
      ]
     },
     "execution_count": 114,
     "metadata": {},
     "output_type": "execute_result"
    }
   ],
   "source": [
    "liste = [1, 2, 3,4,5]\n",
    "acomplicatedcalculus(*liste)\n",
    "# <=> acomplicatedcalculus(1,2, 3,4, 5)"
   ]
  },
  {
   "cell_type": "code",
   "execution_count": 119,
   "id": "475f7985",
   "metadata": {},
   "outputs": [],
   "source": [
    "dico = {\"b\": 1, \"a\":2,  \"c\": 3, \"d\": 4, \"e\": 5}"
   ]
  },
  {
   "cell_type": "code",
   "execution_count": 120,
   "id": "26ac676e",
   "metadata": {},
   "outputs": [
    {
     "data": {
      "text/plain": [
       "-455"
      ]
     },
     "execution_count": 120,
     "metadata": {},
     "output_type": "execute_result"
    }
   ],
   "source": [
    "acomplicatedcalculus(**dico)\n",
    "#<=> acomplicatedcalculus( a=2 , b=1, d=4, c=3, e=5)"
   ]
  },
  {
   "cell_type": "code",
   "execution_count": 117,
   "id": "ca4fb285",
   "metadata": {},
   "outputs": [],
   "source": [
    "dico = {\"zeta\": 25, \"a\":2,  \"c\": 3, \"d\": 4, \"e\": 5}"
   ]
  },
  {
   "cell_type": "code",
   "execution_count": 118,
   "id": "0605b449",
   "metadata": {},
   "outputs": [
    {
     "ename": "TypeError",
     "evalue": "acomplicatedcalculus() got an unexpected keyword argument 'zeta'",
     "output_type": "error",
     "traceback": [
      "\u001b[0;31m---------------------------------------------------------------------------\u001b[0m",
      "\u001b[0;31mTypeError\u001b[0m                                 Traceback (most recent call last)",
      "Input \u001b[0;32mIn [118]\u001b[0m, in \u001b[0;36m<cell line: 1>\u001b[0;34m()\u001b[0m\n\u001b[0;32m----> 1\u001b[0m \u001b[43macomplicatedcalculus\u001b[49m\u001b[43m(\u001b[49m\u001b[38;5;241;43m*\u001b[39;49m\u001b[38;5;241;43m*\u001b[39;49m\u001b[43mdico\u001b[49m\u001b[43m)\u001b[49m\n",
      "\u001b[0;31mTypeError\u001b[0m: acomplicatedcalculus() got an unexpected keyword argument 'zeta'"
     ]
    }
   ],
   "source": [
    "acomplicatedcalculus(**dico)"
   ]
  },
  {
   "cell_type": "code",
   "execution_count": 135,
   "id": "2d26421b",
   "metadata": {},
   "outputs": [
    {
     "ename": "TypeError",
     "evalue": "acomplicatedcalculus() got an unexpected keyword argument 'zeta'",
     "output_type": "error",
     "traceback": [
      "\u001b[0;31m---------------------------------------------------------------------------\u001b[0m",
      "\u001b[0;31mTypeError\u001b[0m                                 Traceback (most recent call last)",
      "Input \u001b[0;32mIn [135]\u001b[0m, in \u001b[0;36m<cell line: 1>\u001b[0;34m()\u001b[0m\n\u001b[0;32m----> 1\u001b[0m \u001b[43macomplicatedcalculus\u001b[49m\u001b[43m(\u001b[49m\u001b[43ma\u001b[49m\u001b[38;5;241;43m=\u001b[39;49m\u001b[38;5;241;43m2\u001b[39;49m\u001b[43m,\u001b[49m\u001b[43m \u001b[49m\u001b[43mc\u001b[49m\u001b[38;5;241;43m=\u001b[39;49m\u001b[38;5;241;43m3\u001b[39;49m\u001b[43m,\u001b[49m\u001b[43m \u001b[49m\u001b[43md\u001b[49m\u001b[38;5;241;43m=\u001b[39;49m\u001b[38;5;241;43m4\u001b[39;49m\u001b[43m,\u001b[49m\u001b[43m \u001b[49m\u001b[43me\u001b[49m\u001b[38;5;241;43m=\u001b[39;49m\u001b[38;5;241;43m5\u001b[39;49m\u001b[43m,\u001b[49m\u001b[43m \u001b[49m\u001b[43mzeta\u001b[49m\u001b[38;5;241;43m=\u001b[39;49m\u001b[38;5;241;43m25\u001b[39;49m\u001b[43m)\u001b[49m\n",
      "\u001b[0;31mTypeError\u001b[0m: acomplicatedcalculus() got an unexpected keyword argument 'zeta'"
     ]
    }
   ],
   "source": [
    "acomplicatedcalculus(a=2, c=3, d=4, e=5, zeta=25)\n",
    "\n"
   ]
  },
  {
   "cell_type": "code",
   "execution_count": 136,
   "id": "b0688e83",
   "metadata": {},
   "outputs": [],
   "source": [
    "#!git init\n",
    "#!git remote add origin git@github.com:Luc-Bertin/EPF.git"
   ]
  },
  {
   "cell_type": "code",
   "execution_count": 137,
   "id": "40bbc530",
   "metadata": {},
   "outputs": [
    {
     "name": "stdout",
     "output_type": "stream",
     "text": [
      "[master 00ad018] c'est mon premier upload\n",
      " Committer: Luc BERTIN <lucbertin@Lucs-MacBook-Pro.local>\n",
      "Your name and email address were configured automatically based\n",
      "on your username and hostname. Please check that they are accurate.\n",
      "You can suppress this message by setting them explicitly. Run the\n",
      "following command and follow the instructions in your editor to edit\n",
      "your configuration file:\n",
      "\n",
      "    git config --global --edit\n",
      "\n",
      "After doing this, you may fix the identity used for this commit with:\n",
      "\n",
      "    git commit --amend --reset-author\n",
      "\n",
      " 1 file changed, 240 insertions(+), 228 deletions(-)\n",
      "Enumerating objects: 5, done.\n",
      "Counting objects: 100% (5/5), done.\n",
      "Delta compression using up to 10 threads\n",
      "Compressing objects: 100% (3/3), done.\n",
      "Writing objects: 100% (3/3), 3.51 KiB | 3.51 MiB/s, done.\n",
      "Total 3 (delta 2), reused 0 (delta 0), pack-reused 0\n",
      "remote: Resolving deltas: 100% (2/2), completed with 2 local objects.\u001b[K\n",
      "To github.com:Luc-Bertin/EPF.git\n",
      "   9aa4575..00ad018  master -> master\n"
     ]
    }
   ],
   "source": [
    "!git add .\n",
    "!git commit -m \"c'est mon premier upload\"\n",
    "!git push origin master"
   ]
  }
 ],
 "metadata": {
  "kernelspec": {
   "display_name": "Python 3 (ipykernel)",
   "language": "python",
   "name": "python3"
  },
  "language_info": {
   "codemirror_mode": {
    "name": "ipython",
    "version": 3
   },
   "file_extension": ".py",
   "mimetype": "text/x-python",
   "name": "python",
   "nbconvert_exporter": "python",
   "pygments_lexer": "ipython3",
   "version": "3.9.4"
  }
 },
 "nbformat": 4,
 "nbformat_minor": 5
}
