{
 "cells": [
  {
   "cell_type": "markdown",
   "id": "1b941dce",
   "metadata": {},
   "source": [
    "#  titre\n",
    "## sous titre\n",
    "#### sous-sous-sous titre\n",
    "\n",
    "- bulletpoint1\n",
    "- bulletpoint2\n",
    "- bulletpoint3\n",
    "\n",
    "* bulletpoint1\n",
    "* bulletpoint1\n",
    "* bulletpoint1\n",
    "\n",
    "des *paragraphes* **entiers** comme ça"
   ]
  },
  {
   "cell_type": "markdown",
   "id": "e4107c2d",
   "metadata": {},
   "source": [
    "<!-- ![un virus](./coronavirus.jpg)-->"
   ]
  },
  {
   "cell_type": "markdown",
   "id": "d9f01847",
   "metadata": {},
   "source": [
    "<strong>bonjour</strong>"
   ]
  },
  {
   "cell_type": "markdown",
   "id": "b8600f3f",
   "metadata": {},
   "source": [
    "<img src=\"./coronavirus.jpg\" align=\"left\" width=\"20%\">"
   ]
  },
  {
   "cell_type": "code",
   "execution_count": 5,
   "id": "53346377",
   "metadata": {
    "scrolled": true
   },
   "outputs": [
    {
     "name": "stdout",
     "output_type": "stream",
     "text": [
      "PremierNotebook.ipynb coronavirus.jpg       \u001b[34mtest\u001b[m\u001b[m\r\n"
     ]
    }
   ],
   "source": [
    "!ls"
   ]
  },
  {
   "cell_type": "code",
   "execution_count": 6,
   "id": "48d60ac0",
   "metadata": {},
   "outputs": [
    {
     "name": "stdout",
     "output_type": "stream",
     "text": [
      "salut\r\n"
     ]
    }
   ],
   "source": [
    "!echo salut"
   ]
  },
  {
   "cell_type": "markdown",
   "id": "e8825cc2",
   "metadata": {},
   "source": [
    "# Codons en python"
   ]
  },
  {
   "cell_type": "code",
   "execution_count": 1,
   "id": "e06fb8a4",
   "metadata": {},
   "outputs": [
    {
     "data": {
      "text/plain": [
       "2"
      ]
     },
     "execution_count": 1,
     "metadata": {},
     "output_type": "execute_result"
    }
   ],
   "source": [
    "2"
   ]
  },
  {
   "cell_type": "code",
   "execution_count": 2,
   "id": "1263fed9",
   "metadata": {},
   "outputs": [
    {
     "data": {
      "text/plain": [
       "[]"
      ]
     },
     "execution_count": 2,
     "metadata": {},
     "output_type": "execute_result"
    }
   ],
   "source": [
    "[]"
   ]
  },
  {
   "cell_type": "code",
   "execution_count": 3,
   "id": "1ca9a377",
   "metadata": {},
   "outputs": [
    {
     "data": {
      "text/plain": [
       "{}"
      ]
     },
     "execution_count": 3,
     "metadata": {},
     "output_type": "execute_result"
    }
   ],
   "source": [
    "{}"
   ]
  },
  {
   "cell_type": "code",
   "execution_count": 4,
   "id": "b249e9b5",
   "metadata": {},
   "outputs": [
    {
     "data": {
      "text/plain": [
       "(1,)"
      ]
     },
     "execution_count": 4,
     "metadata": {},
     "output_type": "execute_result"
    }
   ],
   "source": [
    "(1,)"
   ]
  },
  {
   "cell_type": "code",
   "execution_count": 5,
   "id": "26e3224e",
   "metadata": {},
   "outputs": [
    {
     "data": {
      "text/plain": [
       "'mastring'"
      ]
     },
     "execution_count": 5,
     "metadata": {},
     "output_type": "execute_result"
    }
   ],
   "source": [
    "\"mastring\""
   ]
  },
  {
   "cell_type": "markdown",
   "id": "eaff5f56",
   "metadata": {},
   "source": [
    "## Qu'est ce qu'un objet"
   ]
  },
  {
   "cell_type": "markdown",
   "id": "d77d8020",
   "metadata": {},
   "source": [
    "- id  (unique)\n",
    "- type\n",
    "- valeur\n"
   ]
  },
  {
   "cell_type": "code",
   "execution_count": 6,
   "id": "44371278",
   "metadata": {},
   "outputs": [
    {
     "data": {
      "text/plain": [
       "4403197104"
      ]
     },
     "execution_count": 6,
     "metadata": {},
     "output_type": "execute_result"
    }
   ],
   "source": [
    "id(90920390239029309203902930290309233)"
   ]
  },
  {
   "cell_type": "code",
   "execution_count": 7,
   "id": "2b099de3",
   "metadata": {},
   "outputs": [
    {
     "data": {
      "text/plain": [
       "4403382896"
      ]
     },
     "execution_count": 7,
     "metadata": {},
     "output_type": "execute_result"
    }
   ],
   "source": [
    "id(\"bonjour\")"
   ]
  },
  {
   "cell_type": "code",
   "execution_count": 8,
   "id": "63d092c4",
   "metadata": {
    "scrolled": true
   },
   "outputs": [
    {
     "data": {
      "text/plain": [
       "4403194560"
      ]
     },
     "execution_count": 8,
     "metadata": {},
     "output_type": "execute_result"
    }
   ],
   "source": [
    "id([\"a\", \"b\"])"
   ]
  },
  {
   "cell_type": "code",
   "execution_count": 9,
   "id": "467e8b95",
   "metadata": {},
   "outputs": [
    {
     "data": {
      "text/plain": [
       "int"
      ]
     },
     "execution_count": 9,
     "metadata": {},
     "output_type": "execute_result"
    }
   ],
   "source": [
    "type(909393903903)"
   ]
  },
  {
   "cell_type": "code",
   "execution_count": 10,
   "id": "f5b06deb",
   "metadata": {},
   "outputs": [
    {
     "data": {
      "text/plain": [
       "str"
      ]
     },
     "execution_count": 10,
     "metadata": {},
     "output_type": "execute_result"
    }
   ],
   "source": [
    "type(\"bonjour\")"
   ]
  },
  {
   "cell_type": "code",
   "execution_count": 11,
   "id": "46189a0f",
   "metadata": {},
   "outputs": [
    {
     "data": {
      "text/plain": [
       "list"
      ]
     },
     "execution_count": 11,
     "metadata": {},
     "output_type": "execute_result"
    }
   ],
   "source": [
    "type([1,2,3])"
   ]
  },
  {
   "cell_type": "code",
   "execution_count": 12,
   "id": "a30431e2",
   "metadata": {},
   "outputs": [
    {
     "data": {
      "text/plain": [
       "float"
      ]
     },
     "execution_count": 12,
     "metadata": {},
     "output_type": "execute_result"
    }
   ],
   "source": [
    "type(13.10)"
   ]
  },
  {
   "cell_type": "markdown",
   "id": "dfa6c054",
   "metadata": {},
   "source": [
    "##  immutabilité / mutabilité"
   ]
  },
  {
   "cell_type": "markdown",
   "id": "0273f218",
   "metadata": {},
   "source": [
    " string, float, int, tuple => immutable"
   ]
  },
  {
   "cell_type": "code",
   "execution_count": 50,
   "id": "e319d507",
   "metadata": {},
   "outputs": [
    {
     "name": "stdout",
     "output_type": "stream",
     "text": [
      "4337019216\n",
      "4337019248\n"
     ]
    }
   ],
   "source": [
    "a = 2\n",
    "print(id(a))\n",
    "a += 1\n",
    "print(id(a))"
   ]
  },
  {
   "cell_type": "code",
   "execution_count": 52,
   "id": "49931f47",
   "metadata": {},
   "outputs": [
    {
     "data": {
      "text/plain": [
       "'helloyo'"
      ]
     },
     "execution_count": 52,
     "metadata": {},
     "output_type": "execute_result"
    }
   ],
   "source": [
    "a = \"hello\"\n",
    "a += \"yo\"\n",
    "a"
   ]
  },
  {
   "cell_type": "markdown",
   "id": "d8be8ed3",
   "metadata": {},
   "source": [
    "list, dictionnary, set => mutable"
   ]
  },
  {
   "cell_type": "code",
   "execution_count": 51,
   "id": "26e2f3ee",
   "metadata": {},
   "outputs": [
    {
     "name": "stdout",
     "output_type": "stream",
     "text": [
      "4392797696\n",
      "4392797696\n"
     ]
    }
   ],
   "source": [
    "liste1 = []\n",
    "print(id(liste1))\n",
    "liste1.append(2)\n",
    "print(id(liste1))"
   ]
  },
  {
   "cell_type": "code",
   "execution_count": 38,
   "id": "796d47ac",
   "metadata": {},
   "outputs": [],
   "source": [
    "from copy import deepcopy\n",
    "liste2 = deepcopy(liste1)"
   ]
  },
  {
   "cell_type": "code",
   "execution_count": 33,
   "id": "0c0ad7cf",
   "metadata": {},
   "outputs": [
    {
     "data": {
      "text/plain": [
       "[1, 2]"
      ]
     },
     "execution_count": 33,
     "metadata": {},
     "output_type": "execute_result"
    }
   ],
   "source": [
    "liste1"
   ]
  },
  {
   "cell_type": "code",
   "execution_count": 43,
   "id": "61afff66",
   "metadata": {},
   "outputs": [
    {
     "data": {
      "text/plain": [
       "[1, 2]"
      ]
     },
     "execution_count": 43,
     "metadata": {},
     "output_type": "execute_result"
    }
   ],
   "source": [
    "liste2"
   ]
  },
  {
   "cell_type": "code",
   "execution_count": 44,
   "id": "9d56b1c8",
   "metadata": {},
   "outputs": [],
   "source": [
    "liste1.append(3)"
   ]
  },
  {
   "cell_type": "code",
   "execution_count": 45,
   "id": "e378ea75",
   "metadata": {},
   "outputs": [
    {
     "data": {
      "text/plain": [
       "[1, 2, 3]"
      ]
     },
     "execution_count": 45,
     "metadata": {},
     "output_type": "execute_result"
    }
   ],
   "source": [
    "liste1"
   ]
  },
  {
   "cell_type": "code",
   "execution_count": 46,
   "id": "5086ea24",
   "metadata": {},
   "outputs": [
    {
     "data": {
      "text/plain": [
       "[1, 2]"
      ]
     },
     "execution_count": 46,
     "metadata": {},
     "output_type": "execute_result"
    }
   ],
   "source": [
    "liste2"
   ]
  },
  {
   "cell_type": "markdown",
   "id": "7cf42c72",
   "metadata": {},
   "source": [
    "# built-ins "
   ]
  },
  {
   "cell_type": "markdown",
   "id": "6880b352",
   "metadata": {},
   "source": [
    "# entier"
   ]
  },
  {
   "cell_type": "code",
   "execution_count": 138,
   "id": "49c8fe9b",
   "metadata": {},
   "outputs": [],
   "source": [
    "a = 0"
   ]
  },
  {
   "cell_type": "code",
   "execution_count": 139,
   "id": "feb7173c",
   "metadata": {},
   "outputs": [],
   "source": [
    "a = int()"
   ]
  },
  {
   "cell_type": "code",
   "execution_count": 142,
   "id": "7efb9384",
   "metadata": {},
   "outputs": [
    {
     "data": {
      "text/plain": [
       "23"
      ]
     },
     "execution_count": 142,
     "metadata": {},
     "output_type": "execute_result"
    }
   ],
   "source": [
    "a = int(\"23\")"
   ]
  },
  {
   "cell_type": "code",
   "execution_count": 123,
   "id": "cfd76fff",
   "metadata": {},
   "outputs": [],
   "source": [
    "a = 2"
   ]
  },
  {
   "cell_type": "code",
   "execution_count": null,
   "id": "1afe94f1",
   "metadata": {},
   "outputs": [],
   "source": []
  },
  {
   "cell_type": "code",
   "execution_count": 114,
   "id": "26e5a724",
   "metadata": {},
   "outputs": [
    {
     "data": {
      "text/plain": [
       "4"
      ]
     },
     "execution_count": 114,
     "metadata": {},
     "output_type": "execute_result"
    }
   ],
   "source": [
    "a.__add__(2)"
   ]
  },
  {
   "cell_type": "code",
   "execution_count": 115,
   "id": "2a1fdc6b",
   "metadata": {},
   "outputs": [
    {
     "data": {
      "text/plain": [
       "4"
      ]
     },
     "execution_count": 115,
     "metadata": {},
     "output_type": "execute_result"
    }
   ],
   "source": [
    "a + 2"
   ]
  },
  {
   "cell_type": "code",
   "execution_count": 116,
   "id": "677b0ff2",
   "metadata": {},
   "outputs": [
    {
     "data": {
      "text/plain": [
       "0"
      ]
     },
     "execution_count": 116,
     "metadata": {},
     "output_type": "execute_result"
    }
   ],
   "source": [
    "a - 2"
   ]
  },
  {
   "cell_type": "code",
   "execution_count": 117,
   "id": "3cc77c65",
   "metadata": {},
   "outputs": [
    {
     "data": {
      "text/plain": [
       "0"
      ]
     },
     "execution_count": 117,
     "metadata": {},
     "output_type": "execute_result"
    }
   ],
   "source": [
    "a.__sub__(2)"
   ]
  },
  {
   "cell_type": "code",
   "execution_count": 118,
   "id": "0e0e5790",
   "metadata": {},
   "outputs": [
    {
     "data": {
      "text/plain": [
       "1.0"
      ]
     },
     "execution_count": 118,
     "metadata": {},
     "output_type": "execute_result"
    }
   ],
   "source": [
    "a / 2"
   ]
  },
  {
   "cell_type": "code",
   "execution_count": 119,
   "id": "ef3a38e8",
   "metadata": {},
   "outputs": [
    {
     "data": {
      "text/plain": [
       "0"
      ]
     },
     "execution_count": 119,
     "metadata": {},
     "output_type": "execute_result"
    }
   ],
   "source": [
    "a % 2"
   ]
  },
  {
   "cell_type": "code",
   "execution_count": 120,
   "id": "c6a2e913",
   "metadata": {},
   "outputs": [
    {
     "data": {
      "text/plain": [
       "1"
      ]
     },
     "execution_count": 120,
     "metadata": {},
     "output_type": "execute_result"
    }
   ],
   "source": [
    "a // 2"
   ]
  },
  {
   "cell_type": "code",
   "execution_count": 121,
   "id": "5a9de40a",
   "metadata": {},
   "outputs": [],
   "source": [
    "a += 2"
   ]
  },
  {
   "cell_type": "code",
   "execution_count": 125,
   "id": "cd05d194",
   "metadata": {},
   "outputs": [
    {
     "data": {
      "text/plain": [
       "2"
      ]
     },
     "execution_count": 125,
     "metadata": {},
     "output_type": "execute_result"
    }
   ],
   "source": [
    "a"
   ]
  },
  {
   "cell_type": "code",
   "execution_count": 126,
   "id": "6401fea2",
   "metadata": {},
   "outputs": [
    {
     "data": {
      "text/plain": [
       "False"
      ]
     },
     "execution_count": 126,
     "metadata": {},
     "output_type": "execute_result"
    }
   ],
   "source": [
    "a > 2"
   ]
  },
  {
   "cell_type": "code",
   "execution_count": 130,
   "id": "369a4664",
   "metadata": {},
   "outputs": [
    {
     "data": {
      "text/plain": [
       "True"
      ]
     },
     "execution_count": 130,
     "metadata": {},
     "output_type": "execute_result"
    }
   ],
   "source": [
    "a.__le__(2)"
   ]
  },
  {
   "cell_type": "code",
   "execution_count": 131,
   "id": "d2cf74bb",
   "metadata": {},
   "outputs": [
    {
     "data": {
      "text/plain": [
       "True"
      ]
     },
     "execution_count": 131,
     "metadata": {},
     "output_type": "execute_result"
    }
   ],
   "source": [
    "a.__eq__(2)"
   ]
  },
  {
   "cell_type": "code",
   "execution_count": 127,
   "id": "a81d8815",
   "metadata": {},
   "outputs": [
    {
     "data": {
      "text/plain": [
       "True"
      ]
     },
     "execution_count": 127,
     "metadata": {},
     "output_type": "execute_result"
    }
   ],
   "source": [
    "a == 2"
   ]
  },
  {
   "cell_type": "code",
   "execution_count": 128,
   "id": "ff380dfe",
   "metadata": {},
   "outputs": [
    {
     "data": {
      "text/plain": [
       "True"
      ]
     },
     "execution_count": 128,
     "metadata": {},
     "output_type": "execute_result"
    }
   ],
   "source": [
    "a <= 2"
   ]
  },
  {
   "cell_type": "markdown",
   "id": "0750c0ab",
   "metadata": {},
   "source": [
    "## string"
   ]
  },
  {
   "cell_type": "code",
   "execution_count": 143,
   "id": "ea539760",
   "metadata": {},
   "outputs": [],
   "source": [
    "a=  str(2)"
   ]
  },
  {
   "cell_type": "code",
   "execution_count": 144,
   "id": "4d773f92",
   "metadata": {},
   "outputs": [
    {
     "data": {
      "text/plain": [
       "'2'"
      ]
     },
     "execution_count": 144,
     "metadata": {},
     "output_type": "execute_result"
    }
   ],
   "source": [
    "a"
   ]
  },
  {
   "cell_type": "code",
   "execution_count": 145,
   "id": "b8ea993b",
   "metadata": {},
   "outputs": [],
   "source": [
    "a = str()"
   ]
  },
  {
   "cell_type": "code",
   "execution_count": 146,
   "id": "c38ff4eb",
   "metadata": {},
   "outputs": [
    {
     "data": {
      "text/plain": [
       "''"
      ]
     },
     "execution_count": 146,
     "metadata": {},
     "output_type": "execute_result"
    }
   ],
   "source": [
    "a"
   ]
  },
  {
   "cell_type": "code",
   "execution_count": 73,
   "id": "4ae10202",
   "metadata": {},
   "outputs": [],
   "source": [
    "a = \"bonjour\""
   ]
  },
  {
   "cell_type": "code",
   "execution_count": 74,
   "id": "49f7d30c",
   "metadata": {},
   "outputs": [
    {
     "data": {
      "text/plain": [
       "'Bonjour'"
      ]
     },
     "execution_count": 74,
     "metadata": {},
     "output_type": "execute_result"
    }
   ],
   "source": [
    "a.capitalize()"
   ]
  },
  {
   "cell_type": "code",
   "execution_count": 75,
   "id": "ac2ddf79",
   "metadata": {},
   "outputs": [
    {
     "data": {
      "text/plain": [
       "'BONJOUR'"
      ]
     },
     "execution_count": 75,
     "metadata": {},
     "output_type": "execute_result"
    }
   ],
   "source": [
    "a.upper()"
   ]
  },
  {
   "cell_type": "code",
   "execution_count": 76,
   "id": "3af00d24",
   "metadata": {},
   "outputs": [
    {
     "data": {
      "text/plain": [
       "'bonjour'"
      ]
     },
     "execution_count": 76,
     "metadata": {},
     "output_type": "execute_result"
    }
   ],
   "source": [
    "a.lower()"
   ]
  },
  {
   "cell_type": "code",
   "execution_count": 77,
   "id": "d840188a",
   "metadata": {},
   "outputs": [
    {
     "data": {
      "text/plain": [
       "1"
      ]
     },
     "execution_count": 77,
     "metadata": {},
     "output_type": "execute_result"
    }
   ],
   "source": [
    "a.count('r')"
   ]
  },
  {
   "cell_type": "code",
   "execution_count": 78,
   "id": "684bd90a",
   "metadata": {},
   "outputs": [
    {
     "data": {
      "text/plain": [
       "'banjaur'"
      ]
     },
     "execution_count": 78,
     "metadata": {},
     "output_type": "execute_result"
    }
   ],
   "source": [
    "a.replace(\"o\", \"a\")"
   ]
  },
  {
   "cell_type": "code",
   "execution_count": 79,
   "id": "09b0d24b",
   "metadata": {},
   "outputs": [
    {
     "data": {
      "text/plain": [
       "True"
      ]
     },
     "execution_count": 79,
     "metadata": {},
     "output_type": "execute_result"
    }
   ],
   "source": [
    "a.islower()"
   ]
  },
  {
   "cell_type": "code",
   "execution_count": 80,
   "id": "8cd7ab1d",
   "metadata": {},
   "outputs": [
    {
     "data": {
      "text/plain": [
       "False"
      ]
     },
     "execution_count": 80,
     "metadata": {},
     "output_type": "execute_result"
    }
   ],
   "source": [
    "a.isupper()"
   ]
  },
  {
   "cell_type": "code",
   "execution_count": 83,
   "id": "48449b5d",
   "metadata": {},
   "outputs": [
    {
     "data": {
      "text/plain": [
       "4"
      ]
     },
     "execution_count": 83,
     "metadata": {},
     "output_type": "execute_result"
    }
   ],
   "source": [
    "a.find('ou')"
   ]
  },
  {
   "cell_type": "code",
   "execution_count": 88,
   "id": "783b7eff",
   "metadata": {},
   "outputs": [
    {
     "data": {
      "text/plain": [
       "['b', 'nj', 'ur']"
      ]
     },
     "execution_count": 88,
     "metadata": {},
     "output_type": "execute_result"
    }
   ],
   "source": [
    "a.split(\"o\")"
   ]
  },
  {
   "cell_type": "code",
   "execution_count": 89,
   "id": "7073e39f",
   "metadata": {},
   "outputs": [
    {
     "data": {
      "text/plain": [
       "True"
      ]
     },
     "execution_count": 89,
     "metadata": {},
     "output_type": "execute_result"
    }
   ],
   "source": [
    "a.endswith('our')"
   ]
  },
  {
   "cell_type": "code",
   "execution_count": 90,
   "id": "7d1a1753",
   "metadata": {},
   "outputs": [
    {
     "data": {
      "text/plain": [
       "True"
      ]
     },
     "execution_count": 90,
     "metadata": {},
     "output_type": "execute_result"
    }
   ],
   "source": [
    "a.startswith(\"bon\")"
   ]
  },
  {
   "cell_type": "code",
   "execution_count": 91,
   "id": "535a4e9e",
   "metadata": {},
   "outputs": [],
   "source": [
    "a = \"            bonjour.     \""
   ]
  },
  {
   "cell_type": "code",
   "execution_count": 93,
   "id": "138decc6",
   "metadata": {},
   "outputs": [
    {
     "data": {
      "text/plain": [
       "'bonjour.'"
      ]
     },
     "execution_count": 93,
     "metadata": {},
     "output_type": "execute_result"
    }
   ],
   "source": [
    "a.strip(\" \")"
   ]
  },
  {
   "cell_type": "code",
   "execution_count": 98,
   "id": "340bf0be",
   "metadata": {},
   "outputs": [],
   "source": [
    "a = \"______bonjour._____\""
   ]
  },
  {
   "cell_type": "code",
   "execution_count": 99,
   "id": "8e7f18f1",
   "metadata": {},
   "outputs": [
    {
     "data": {
      "text/plain": [
       "'bonjour.'"
      ]
     },
     "execution_count": 99,
     "metadata": {},
     "output_type": "execute_result"
    }
   ],
   "source": [
    "a.strip(\"_\")"
   ]
  },
  {
   "cell_type": "code",
   "execution_count": 103,
   "id": "2146b4d1",
   "metadata": {},
   "outputs": [
    {
     "data": {
      "text/plain": [
       "'jour.'"
      ]
     },
     "execution_count": 103,
     "metadata": {},
     "output_type": "execute_result"
    }
   ],
   "source": [
    "a.strip(\"b_on\")"
   ]
  },
  {
   "cell_type": "code",
   "execution_count": 105,
   "id": "65e8d605",
   "metadata": {},
   "outputs": [
    {
     "data": {
      "text/plain": [
       "'______bonjour.'"
      ]
     },
     "execution_count": 105,
     "metadata": {},
     "output_type": "execute_result"
    }
   ],
   "source": [
    "a.rstrip(\"b_on\")"
   ]
  },
  {
   "cell_type": "code",
   "execution_count": 104,
   "id": "80e38842",
   "metadata": {},
   "outputs": [
    {
     "data": {
      "text/plain": [
       "'jour._____'"
      ]
     },
     "execution_count": 104,
     "metadata": {},
     "output_type": "execute_result"
    }
   ],
   "source": [
    "a.lstrip(\"b_on\")"
   ]
  },
  {
   "cell_type": "code",
   "execution_count": 109,
   "id": "63446fc7",
   "metadata": {
    "scrolled": true
   },
   "outputs": [
    {
     "data": {
      "text/plain": [
       "'0660909090'"
      ]
     },
     "execution_count": 109,
     "metadata": {},
     "output_type": "execute_result"
    }
   ],
   "source": [
    "(\"++06 60 90 90 90\").replace(\" \", \"\").replace(\"+\", \"\")"
   ]
  },
  {
   "cell_type": "code",
   "execution_count": 134,
   "id": "4daae132",
   "metadata": {},
   "outputs": [
    {
     "name": "stdout",
     "output_type": "stream",
     "text": [
      "m\n",
      "a\n",
      "s\n",
      "t\n",
      "r\n",
      "i\n",
      "n\n",
      "g\n"
     ]
    }
   ],
   "source": [
    "for letter in \"mastring\":\n",
    "    print( letter )"
   ]
  },
  {
   "cell_type": "markdown",
   "id": "1caff914",
   "metadata": {},
   "source": [
    "## list"
   ]
  },
  {
   "cell_type": "code",
   "execution_count": 149,
   "id": "c4adeb64",
   "metadata": {},
   "outputs": [],
   "source": [
    "a = list()\n",
    "a = []"
   ]
  },
  {
   "cell_type": "code",
   "execution_count": 150,
   "id": "34a078d7",
   "metadata": {},
   "outputs": [],
   "source": [
    "a = list(\"bonjour\")"
   ]
  },
  {
   "cell_type": "code",
   "execution_count": 153,
   "id": "b00f8923",
   "metadata": {},
   "outputs": [
    {
     "data": {
      "text/plain": [
       "['b', 'o', 'n', 'j', 'o', 'u', 'r']"
      ]
     },
     "execution_count": 153,
     "metadata": {},
     "output_type": "execute_result"
    }
   ],
   "source": [
    "maliste"
   ]
  },
  {
   "cell_type": "code",
   "execution_count": 137,
   "id": "5bc94d79",
   "metadata": {
    "scrolled": false
   },
   "outputs": [
    {
     "name": "stdout",
     "output_type": "stream",
     "text": [
      "2\n",
      "3\n",
      "4\n"
     ]
    }
   ],
   "source": [
    "for item in [2,3,4]:\n",
    "    print(item)"
   ]
  },
  {
   "cell_type": "code",
   "execution_count": 154,
   "id": "d6b56678",
   "metadata": {},
   "outputs": [],
   "source": [
    "maliste.append(\"a\")"
   ]
  },
  {
   "cell_type": "code",
   "execution_count": 155,
   "id": "e9b84c16",
   "metadata": {},
   "outputs": [
    {
     "data": {
      "text/plain": [
       "['b', 'o', 'n', 'j', 'o', 'u', 'r', 'a']"
      ]
     },
     "execution_count": 155,
     "metadata": {},
     "output_type": "execute_result"
    }
   ],
   "source": [
    "maliste"
   ]
  },
  {
   "cell_type": "code",
   "execution_count": 156,
   "id": "dc2b8deb",
   "metadata": {},
   "outputs": [],
   "source": [
    "maliste.append(2)"
   ]
  },
  {
   "cell_type": "code",
   "execution_count": 157,
   "id": "8ee89add",
   "metadata": {},
   "outputs": [
    {
     "data": {
      "text/plain": [
       "['b', 'o', 'n', 'j', 'o', 'u', 'r', 'a', 2]"
      ]
     },
     "execution_count": 157,
     "metadata": {},
     "output_type": "execute_result"
    }
   ],
   "source": [
    "maliste"
   ]
  },
  {
   "cell_type": "code",
   "execution_count": 158,
   "id": "f4de321b",
   "metadata": {},
   "outputs": [],
   "source": [
    "maliste.append([2, \"a\"])"
   ]
  },
  {
   "cell_type": "code",
   "execution_count": 159,
   "id": "47b0210a",
   "metadata": {},
   "outputs": [
    {
     "data": {
      "text/plain": [
       "['b', 'o', 'n', 'j', 'o', 'u', 'r', 'a', 2, [2, 'a']]"
      ]
     },
     "execution_count": 159,
     "metadata": {},
     "output_type": "execute_result"
    }
   ],
   "source": [
    "maliste"
   ]
  },
  {
   "cell_type": "code",
   "execution_count": 160,
   "id": "8f995431",
   "metadata": {},
   "outputs": [],
   "source": [
    "maliste.extend([2,3,4,5])"
   ]
  },
  {
   "cell_type": "code",
   "execution_count": 161,
   "id": "cf9e4d76",
   "metadata": {},
   "outputs": [
    {
     "data": {
      "text/plain": [
       "['b', 'o', 'n', 'j', 'o', 'u', 'r', 'a', 2, [2, 'a'], 2, 3, 4, 5]"
      ]
     },
     "execution_count": 161,
     "metadata": {},
     "output_type": "execute_result"
    }
   ],
   "source": [
    "maliste"
   ]
  },
  {
   "cell_type": "code",
   "execution_count": 162,
   "id": "5cd4eced",
   "metadata": {},
   "outputs": [],
   "source": [
    "maliste.insert(0, \"zoro\")"
   ]
  },
  {
   "cell_type": "code",
   "execution_count": 163,
   "id": "a59961ff",
   "metadata": {},
   "outputs": [
    {
     "data": {
      "text/plain": [
       "['zoro', 'b', 'o', 'n', 'j', 'o', 'u', 'r', 'a', 2, [2, 'a'], 2, 3, 4, 5]"
      ]
     },
     "execution_count": 163,
     "metadata": {},
     "output_type": "execute_result"
    }
   ],
   "source": [
    "maliste"
   ]
  },
  {
   "cell_type": "code",
   "execution_count": 165,
   "id": "6cba0e01",
   "metadata": {},
   "outputs": [
    {
     "data": {
      "text/plain": [
       "'a.b.d.e'"
      ]
     },
     "execution_count": 165,
     "metadata": {},
     "output_type": "execute_result"
    }
   ],
   "source": [
    "\".\".join([\"a\", \"b\", \"d\", \"e\"])"
   ]
  },
  {
   "cell_type": "code",
   "execution_count": 166,
   "id": "037bd9dc",
   "metadata": {},
   "outputs": [],
   "source": [
    "maliste.reverse()"
   ]
  },
  {
   "cell_type": "code",
   "execution_count": 167,
   "id": "69078ce0",
   "metadata": {},
   "outputs": [
    {
     "data": {
      "text/plain": [
       "[5, 4, 3, 2, [2, 'a'], 2, 'a', 'r', 'u', 'o', 'j', 'n', 'o', 'b', 'zoro']"
      ]
     },
     "execution_count": 167,
     "metadata": {},
     "output_type": "execute_result"
    }
   ],
   "source": [
    "maliste"
   ]
  },
  {
   "cell_type": "code",
   "execution_count": 168,
   "id": "10e8e3b6",
   "metadata": {},
   "outputs": [],
   "source": [
    "maliste.remove(4)"
   ]
  },
  {
   "cell_type": "code",
   "execution_count": 169,
   "id": "5806f3f2",
   "metadata": {},
   "outputs": [
    {
     "data": {
      "text/plain": [
       "[5, 3, 2, [2, 'a'], 2, 'a', 'r', 'u', 'o', 'j', 'n', 'o', 'b', 'zoro']"
      ]
     },
     "execution_count": 169,
     "metadata": {},
     "output_type": "execute_result"
    }
   ],
   "source": [
    "maliste"
   ]
  },
  {
   "cell_type": "code",
   "execution_count": 170,
   "id": "9d793a00",
   "metadata": {},
   "outputs": [
    {
     "data": {
      "text/plain": [
       "[2, 'a']"
      ]
     },
     "execution_count": 170,
     "metadata": {},
     "output_type": "execute_result"
    }
   ],
   "source": [
    "maliste.pop(3)"
   ]
  },
  {
   "cell_type": "markdown",
   "id": "9fc4836f",
   "metadata": {},
   "source": [
    "## indexation de liste"
   ]
  },
  {
   "cell_type": "code",
   "execution_count": 190,
   "id": "b9ca03d4",
   "metadata": {
    "scrolled": true
   },
   "outputs": [],
   "source": [
    "#maliste.__getitem__(0) # maliste[0]"
   ]
  },
  {
   "cell_type": "code",
   "execution_count": 176,
   "id": "856056cf",
   "metadata": {},
   "outputs": [
    {
     "data": {
      "text/plain": [
       "5"
      ]
     },
     "execution_count": 176,
     "metadata": {},
     "output_type": "execute_result"
    }
   ],
   "source": [
    "maliste[0]"
   ]
  },
  {
   "cell_type": "code",
   "execution_count": 178,
   "id": "e2dcdb1b",
   "metadata": {},
   "outputs": [
    {
     "data": {
      "text/plain": [
       "[5, 3, 2, 2, 'a', 'r', 'u', 'o', 'j', 'n', 'o', 'b', 'zoro']"
      ]
     },
     "execution_count": 178,
     "metadata": {},
     "output_type": "execute_result"
    }
   ],
   "source": [
    "maliste"
   ]
  },
  {
   "cell_type": "code",
   "execution_count": 179,
   "id": "8d72eefb",
   "metadata": {},
   "outputs": [
    {
     "data": {
      "text/plain": [
       "'a'"
      ]
     },
     "execution_count": 179,
     "metadata": {},
     "output_type": "execute_result"
    }
   ],
   "source": [
    "maliste[4]"
   ]
  },
  {
   "cell_type": "code",
   "execution_count": 180,
   "id": "fd1d42ae",
   "metadata": {},
   "outputs": [
    {
     "data": {
      "text/plain": [
       "13"
      ]
     },
     "execution_count": 180,
     "metadata": {},
     "output_type": "execute_result"
    }
   ],
   "source": [
    "len(maliste) # maliste.__len__()"
   ]
  },
  {
   "cell_type": "code",
   "execution_count": 185,
   "id": "d5e452a1",
   "metadata": {},
   "outputs": [
    {
     "data": {
      "text/plain": [
       "'zoro'"
      ]
     },
     "execution_count": 185,
     "metadata": {},
     "output_type": "execute_result"
    }
   ],
   "source": [
    "maliste[-1]"
   ]
  },
  {
   "cell_type": "code",
   "execution_count": 186,
   "id": "1060d9c7",
   "metadata": {},
   "outputs": [
    {
     "data": {
      "text/plain": [
       "'b'"
      ]
     },
     "execution_count": 186,
     "metadata": {},
     "output_type": "execute_result"
    }
   ],
   "source": [
    "maliste[-2]"
   ]
  },
  {
   "cell_type": "code",
   "execution_count": 187,
   "id": "91d54585",
   "metadata": {},
   "outputs": [],
   "source": [
    "maliste.__setitem__(2, 25)"
   ]
  },
  {
   "cell_type": "code",
   "execution_count": 191,
   "id": "788d6c07",
   "metadata": {},
   "outputs": [],
   "source": [
    "maliste[2] = 25"
   ]
  },
  {
   "cell_type": "code",
   "execution_count": 192,
   "id": "e9adba53",
   "metadata": {},
   "outputs": [
    {
     "data": {
      "text/plain": [
       "[5, 3, 25, 2, 'a', 'r', 'u', 'o', 'j', 'n', 'o', 'b', 'zoro']"
      ]
     },
     "execution_count": 192,
     "metadata": {},
     "output_type": "execute_result"
    }
   ],
   "source": [
    "maliste"
   ]
  },
  {
   "cell_type": "markdown",
   "id": "1f39b4dc",
   "metadata": {},
   "source": [
    "## slicing "
   ]
  },
  {
   "cell_type": "markdown",
   "id": "80fc05b8",
   "metadata": {},
   "source": [
    "uneliste[start_index: end_index: step]"
   ]
  },
  {
   "cell_type": "markdown",
   "id": "8b89acfc",
   "metadata": {},
   "source": [
    "### j'aimerai du premier AU 5e élément"
   ]
  },
  {
   "cell_type": "code",
   "execution_count": 193,
   "id": "ab087fea",
   "metadata": {},
   "outputs": [
    {
     "data": {
      "text/plain": [
       "[5, 3, 25, 2, 'a', 'r', 'u', 'o', 'j', 'n', 'o', 'b', 'zoro']"
      ]
     },
     "execution_count": 193,
     "metadata": {},
     "output_type": "execute_result"
    }
   ],
   "source": [
    "maliste"
   ]
  },
  {
   "cell_type": "code",
   "execution_count": 195,
   "id": "fac62334",
   "metadata": {},
   "outputs": [
    {
     "data": {
      "text/plain": [
       "[5, 3, 25, 2, 'a']"
      ]
     },
     "execution_count": 195,
     "metadata": {},
     "output_type": "execute_result"
    }
   ],
   "source": [
    "maliste[0:5] # exclus le dernier élément"
   ]
  },
  {
   "cell_type": "markdown",
   "id": "bf89700d",
   "metadata": {},
   "source": [
    "### j'aimerai du premier AU n-2 élément (exclus)"
   ]
  },
  {
   "cell_type": "code",
   "execution_count": 202,
   "id": "ab0ed4bc",
   "metadata": {},
   "outputs": [
    {
     "data": {
      "text/plain": [
       "[5, 3, 25, 2, 'a', 'r', 'u', 'o', 'j', 'n', 'o']"
      ]
     },
     "execution_count": 202,
     "metadata": {},
     "output_type": "execute_result"
    }
   ],
   "source": [
    "maliste[:len(maliste)-2 ] # -1"
   ]
  },
  {
   "cell_type": "code",
   "execution_count": 201,
   "id": "2f5a4835",
   "metadata": {},
   "outputs": [
    {
     "data": {
      "text/plain": [
       "[5, 3, 25, 2, 'a', 'r', 'u', 'o', 'j', 'n', 'o']"
      ]
     },
     "execution_count": 201,
     "metadata": {},
     "output_type": "execute_result"
    }
   ],
   "source": [
    "maliste[:-2]"
   ]
  },
  {
   "cell_type": "code",
   "execution_count": 203,
   "id": "54e914f3",
   "metadata": {},
   "outputs": [
    {
     "data": {
      "text/plain": [
       "[2, 'a', 'r', 'u', 'o', 'j', 'n', 'o']"
      ]
     },
     "execution_count": 203,
     "metadata": {},
     "output_type": "execute_result"
    }
   ],
   "source": [
    "maliste[3:-2]"
   ]
  },
  {
   "cell_type": "markdown",
   "id": "02ae5a46",
   "metadata": {},
   "source": [
    "### j'aimerai du premier AU n-2 élément (exclus) par pas de 3"
   ]
  },
  {
   "cell_type": "code",
   "execution_count": 207,
   "id": "ad7ebfcb",
   "metadata": {},
   "outputs": [
    {
     "data": {
      "text/plain": [
       "[5, 3, 25, 2, 'a', 'r', 'u', 'o', 'j', 'n', 'o', 'b', 'zoro']"
      ]
     },
     "execution_count": 207,
     "metadata": {},
     "output_type": "execute_result"
    }
   ],
   "source": [
    "maliste"
   ]
  },
  {
   "cell_type": "code",
   "execution_count": 210,
   "id": "986334c9",
   "metadata": {},
   "outputs": [
    {
     "data": {
      "text/plain": [
       "[5, 2, 'u', 'n']"
      ]
     },
     "execution_count": 210,
     "metadata": {},
     "output_type": "execute_result"
    }
   ],
   "source": [
    "maliste[0:-1:3]"
   ]
  },
  {
   "cell_type": "code",
   "execution_count": 216,
   "id": "5973bde2",
   "metadata": {},
   "outputs": [
    {
     "data": {
      "text/plain": [
       "[5, 2, 'u', 'n', 'zoro']"
      ]
     },
     "execution_count": 216,
     "metadata": {},
     "output_type": "execute_result"
    }
   ],
   "source": [
    "maliste[::3]"
   ]
  },
  {
   "cell_type": "markdown",
   "id": "c0ce0152",
   "metadata": {},
   "source": [
    "# tuples"
   ]
  },
  {
   "cell_type": "markdown",
   "id": "d899ec3b",
   "metadata": {},
   "source": [
    "tuple n'est pas modifiable après création => immutable"
   ]
  },
  {
   "cell_type": "code",
   "execution_count": 269,
   "id": "61840554",
   "metadata": {},
   "outputs": [],
   "source": [
    "montuple = (1,2,3,4, \"a\", \"b\")"
   ]
  },
  {
   "cell_type": "code",
   "execution_count": 270,
   "id": "b760a47b",
   "metadata": {},
   "outputs": [
    {
     "data": {
      "text/plain": [
       "(1, 2, 3, 4, 'a', 'b')"
      ]
     },
     "execution_count": 270,
     "metadata": {},
     "output_type": "execute_result"
    }
   ],
   "source": [
    "montuple"
   ]
  },
  {
   "cell_type": "code",
   "execution_count": 271,
   "id": "e7ab80f4",
   "metadata": {},
   "outputs": [
    {
     "data": {
      "text/plain": [
       "1"
      ]
     },
     "execution_count": 271,
     "metadata": {},
     "output_type": "execute_result"
    }
   ],
   "source": [
    "montuple[0]"
   ]
  },
  {
   "cell_type": "code",
   "execution_count": 272,
   "id": "174d278a",
   "metadata": {},
   "outputs": [
    {
     "ename": "TypeError",
     "evalue": "'tuple' object does not support item assignment",
     "output_type": "error",
     "traceback": [
      "\u001b[0;31m---------------------------------------------------------------------------\u001b[0m",
      "\u001b[0;31mTypeError\u001b[0m                                 Traceback (most recent call last)",
      "Input \u001b[0;32mIn [272]\u001b[0m, in \u001b[0;36m<cell line: 1>\u001b[0;34m()\u001b[0m\n\u001b[0;32m----> 1\u001b[0m montuple[\u001b[38;5;241m1\u001b[39m] \u001b[38;5;241m=\u001b[39m \u001b[38;5;241m4\u001b[39m\n",
      "\u001b[0;31mTypeError\u001b[0m: 'tuple' object does not support item assignment"
     ]
    }
   ],
   "source": [
    "montuple[1] = 4"
   ]
  },
  {
   "cell_type": "markdown",
   "id": "ad9a1247",
   "metadata": {},
   "source": [
    "## set"
   ]
  },
  {
   "cell_type": "code",
   "execution_count": 277,
   "id": "e974cc57",
   "metadata": {},
   "outputs": [],
   "source": [
    "unset = set()"
   ]
  },
  {
   "cell_type": "code",
   "execution_count": 278,
   "id": "309c422e",
   "metadata": {},
   "outputs": [
    {
     "data": {
      "text/plain": [
       "set()"
      ]
     },
     "execution_count": 278,
     "metadata": {},
     "output_type": "execute_result"
    }
   ],
   "source": [
    "unset"
   ]
  },
  {
   "cell_type": "code",
   "execution_count": 289,
   "id": "056eefb7",
   "metadata": {},
   "outputs": [],
   "source": [
    "unset1 = {\n",
    "    \"CN003\",\"CN003\", \"CN005\",\"CN008\",\"CN0010\",\"CN0011\"}"
   ]
  },
  {
   "cell_type": "code",
   "execution_count": 290,
   "id": "6821b6a8",
   "metadata": {},
   "outputs": [],
   "source": [
    "unset2 = {\n",
    "    \"CN001\",\"CN002\",\"CN003\",\"CN004\",\"CN005\"\n",
    "}"
   ]
  },
  {
   "cell_type": "code",
   "execution_count": 291,
   "id": "46db588a",
   "metadata": {},
   "outputs": [
    {
     "data": {
      "text/plain": [
       "{'CN003', 'CN005'}"
      ]
     },
     "execution_count": 291,
     "metadata": {},
     "output_type": "execute_result"
    }
   ],
   "source": [
    "unset1 & unset2 # intersection"
   ]
  },
  {
   "cell_type": "code",
   "execution_count": 292,
   "id": "f4356c69",
   "metadata": {},
   "outputs": [
    {
     "data": {
      "text/plain": [
       "{'CN001', 'CN0010', 'CN0011', 'CN002', 'CN004', 'CN008'}"
      ]
     },
     "execution_count": 292,
     "metadata": {},
     "output_type": "execute_result"
    }
   ],
   "source": [
    "unset1 ^ unset2 # diff sym"
   ]
  },
  {
   "cell_type": "code",
   "execution_count": 293,
   "id": "da60c046",
   "metadata": {},
   "outputs": [
    {
     "data": {
      "text/plain": [
       "{'CN001', 'CN0010', 'CN0011', 'CN002', 'CN003', 'CN004', 'CN005', 'CN008'}"
      ]
     },
     "execution_count": 293,
     "metadata": {},
     "output_type": "execute_result"
    }
   ],
   "source": [
    "unset1 | unset2 # union"
   ]
  },
  {
   "cell_type": "code",
   "execution_count": 294,
   "id": "7e77a4bb",
   "metadata": {},
   "outputs": [
    {
     "data": {
      "text/plain": [
       "{'CN0010', 'CN0011', 'CN008'}"
      ]
     },
     "execution_count": 294,
     "metadata": {},
     "output_type": "execute_result"
    }
   ],
   "source": [
    "unset1 - unset2"
   ]
  },
  {
   "cell_type": "code",
   "execution_count": 295,
   "id": "37f9611c",
   "metadata": {},
   "outputs": [
    {
     "data": {
      "text/plain": [
       "{'CN001', 'CN002', 'CN004'}"
      ]
     },
     "execution_count": 295,
     "metadata": {},
     "output_type": "execute_result"
    }
   ],
   "source": [
    "unset2 - unset1"
   ]
  },
  {
   "cell_type": "markdown",
   "id": "3083748b",
   "metadata": {},
   "source": [
    "# dict"
   ]
  },
  {
   "cell_type": "markdown",
   "id": "efb7a146",
   "metadata": {},
   "source": [
    "ensemble / collection `cle:valeur`\n"
   ]
  },
  {
   "cell_type": "code",
   "execution_count": 296,
   "id": "51d7f002",
   "metadata": {},
   "outputs": [],
   "source": [
    "dico = dict()"
   ]
  },
  {
   "cell_type": "code",
   "execution_count": 297,
   "id": "1cce3007",
   "metadata": {},
   "outputs": [
    {
     "data": {
      "text/plain": [
       "{}"
      ]
     },
     "execution_count": 297,
     "metadata": {},
     "output_type": "execute_result"
    }
   ],
   "source": [
    "dico"
   ]
  },
  {
   "cell_type": "code",
   "execution_count": 299,
   "id": "64dffea5",
   "metadata": {},
   "outputs": [],
   "source": [
    "dico = {\n",
    "    \"a\":1,\n",
    "    \"b\":2,\n",
    "    \"c\": \"3\",\n",
    "    \"d\": [1,2],\n",
    "    \"e\": (3,4),\n",
    "    \"f\": { },\n",
    "    2: 1,\n",
    "    3: 4,\n",
    "    (1,4): 52,\n",
    "}"
   ]
  },
  {
   "cell_type": "code",
   "execution_count": 300,
   "id": "2a768876",
   "metadata": {},
   "outputs": [
    {
     "data": {
      "text/plain": [
       "{'a': 1,\n",
       " 'b': 2,\n",
       " 'c': '3',\n",
       " 'd': [1, 2],\n",
       " 'e': (3, 4),\n",
       " 'f': {},\n",
       " 2: 1,\n",
       " 3: 4,\n",
       " (1, 4): 52}"
      ]
     },
     "execution_count": 300,
     "metadata": {},
     "output_type": "execute_result"
    }
   ],
   "source": [
    "dico"
   ]
  },
  {
   "cell_type": "code",
   "execution_count": 302,
   "id": "58d979b9",
   "metadata": {},
   "outputs": [
    {
     "data": {
      "text/plain": [
       "4408994752"
      ]
     },
     "execution_count": 302,
     "metadata": {},
     "output_type": "execute_result"
    }
   ],
   "source": [
    "id(dico)"
   ]
  },
  {
   "cell_type": "markdown",
   "id": "f1441ad4",
   "metadata": {},
   "source": [
    "#### 4 operations fondamentales \n",
    "- ajouter une pair dans la collection\n",
    "- supprimer une pair de la collection\n",
    "- modifier une valeur associée à une clé dans la pair dans la collection\n",
    "- lookup / get une valeur basée sur la clé"
   ]
  },
  {
   "cell_type": "code",
   "execution_count": 306,
   "id": "46394c22",
   "metadata": {},
   "outputs": [],
   "source": [
    "dico[\"bonjour\"] = 25"
   ]
  },
  {
   "cell_type": "code",
   "execution_count": 308,
   "id": "67212153",
   "metadata": {},
   "outputs": [],
   "source": [
    "del dico[\"bonjour\"]"
   ]
  },
  {
   "cell_type": "code",
   "execution_count": 313,
   "id": "698974ac",
   "metadata": {},
   "outputs": [],
   "source": [
    "dico[\"bonjour\"] = 25\n",
    "dico[\"bonjour\"] = 26"
   ]
  },
  {
   "cell_type": "code",
   "execution_count": 316,
   "id": "6258bc1c",
   "metadata": {},
   "outputs": [
    {
     "data": {
      "text/plain": [
       "25"
      ]
     },
     "execution_count": 316,
     "metadata": {},
     "output_type": "execute_result"
    }
   ],
   "source": [
    "dico[\"bonjour\"]"
   ]
  },
  {
   "cell_type": "code",
   "execution_count": 317,
   "id": "6671ff7a",
   "metadata": {},
   "outputs": [
    {
     "data": {
      "text/plain": [
       "{'a': 1,\n",
       " 'b': 2,\n",
       " 'c': '3',\n",
       " 'd': [1, 2],\n",
       " 'e': (3, 4),\n",
       " 'f': {},\n",
       " 2: 1,\n",
       " 3: 4,\n",
       " (1, 4): 52,\n",
       " 'test': 25,\n",
       " 'bonjour': 25}"
      ]
     },
     "execution_count": 317,
     "metadata": {},
     "output_type": "execute_result"
    }
   ],
   "source": [
    "dico"
   ]
  },
  {
   "cell_type": "code",
   "execution_count": 318,
   "id": "455da838",
   "metadata": {},
   "outputs": [
    {
     "data": {
      "text/plain": [
       "True"
      ]
     },
     "execution_count": 318,
     "metadata": {},
     "output_type": "execute_result"
    }
   ],
   "source": [
    "\"bonjour\" in dico"
   ]
  },
  {
   "cell_type": "code",
   "execution_count": 322,
   "id": "d2db24ed",
   "metadata": {},
   "outputs": [
    {
     "name": "stdout",
     "output_type": "stream",
     "text": [
      "a\n",
      "b\n",
      "c\n",
      "d\n",
      "e\n",
      "f\n",
      "2\n",
      "3\n",
      "(1, 4)\n",
      "test\n",
      "bonjour\n"
     ]
    }
   ],
   "source": [
    "for element in dico.keys():\n",
    "    print( element )"
   ]
  },
  {
   "cell_type": "code",
   "execution_count": 325,
   "id": "6dc768ad",
   "metadata": {},
   "outputs": [
    {
     "name": "stdout",
     "output_type": "stream",
     "text": [
      "1\n",
      "2\n",
      "3\n",
      "[1, 2]\n",
      "(3, 4)\n",
      "{}\n",
      "1\n",
      "4\n",
      "52\n",
      "25\n",
      "25\n"
     ]
    }
   ],
   "source": [
    "for element in dico.values():\n",
    "    print( element )"
   ]
  },
  {
   "cell_type": "code",
   "execution_count": 327,
   "id": "58d7119e",
   "metadata": {},
   "outputs": [
    {
     "name": "stdout",
     "output_type": "stream",
     "text": [
      "('a', 1)\n",
      "<class 'tuple'>\n",
      "('b', 2)\n",
      "<class 'tuple'>\n",
      "('c', '3')\n",
      "<class 'tuple'>\n",
      "('d', [1, 2])\n",
      "<class 'tuple'>\n",
      "('e', (3, 4))\n",
      "<class 'tuple'>\n",
      "('f', {})\n",
      "<class 'tuple'>\n",
      "(2, 1)\n",
      "<class 'tuple'>\n",
      "(3, 4)\n",
      "<class 'tuple'>\n",
      "((1, 4), 52)\n",
      "<class 'tuple'>\n",
      "('test', 25)\n",
      "<class 'tuple'>\n",
      "('bonjour', 25)\n",
      "<class 'tuple'>\n"
     ]
    }
   ],
   "source": [
    "for item in dico.items():\n",
    "    print( item )\n",
    "    print( type(item ))"
   ]
  },
  {
   "cell_type": "code",
   "execution_count": null,
   "id": "7f51eca3",
   "metadata": {},
   "outputs": [],
   "source": [
    "(\"a\", 21) <=> [\"1\",2]"
   ]
  },
  {
   "cell_type": "markdown",
   "id": "587a31b4",
   "metadata": {},
   "source": [
    "## Exo"
   ]
  },
  {
   "cell_type": "code",
   "execution_count": 357,
   "id": "ad691ddf",
   "metadata": {},
   "outputs": [],
   "source": [
    "contacts = {\n",
    "    \"Julie\": \"+288982938298382\",\n",
    "    \"julien\": \"+28798739823\",\n",
    "    \"Vincent\": \"+384709289023\",\n",
    "    \"René\": \"+29839028903823\",\n",
    "    \"Violette\": \"+2002020200200\"\n",
    "}"
   ]
  },
  {
   "cell_type": "code",
   "execution_count": 358,
   "id": "8d11bad7",
   "metadata": {},
   "outputs": [
    {
     "data": {
      "text/plain": [
       "{'Julie': '+288982938298382',\n",
       " 'julien': '+28798739823',\n",
       " 'Vincent': '+384709289023',\n",
       " 'René': '+29839028903823',\n",
       " 'Violette': '+2002020200200'}"
      ]
     },
     "execution_count": 358,
     "metadata": {},
     "output_type": "execute_result"
    }
   ],
   "source": [
    "contacts"
   ]
  },
  {
   "cell_type": "markdown",
   "id": "e269c275",
   "metadata": {},
   "source": [
    "#### je veux les numéros de téléphone des personnes qui commecent par la lettre \"j\""
   ]
  },
  {
   "cell_type": "code",
   "execution_count": 353,
   "id": "0ea7bfeb",
   "metadata": {},
   "outputs": [],
   "source": [
    "response = {}"
   ]
  },
  {
   "cell_type": "code",
   "execution_count": 354,
   "id": "72b6bb92",
   "metadata": {},
   "outputs": [],
   "source": [
    "# itérer sur contacts en ayant les clés + valeurs"
   ]
  },
  {
   "cell_type": "code",
   "execution_count": 376,
   "id": "46e50109",
   "metadata": {},
   "outputs": [
    {
     "data": {
      "text/plain": [
       "{'Julie': '+288982938298382', 'julien': '+28798739823'}"
      ]
     },
     "execution_count": 376,
     "metadata": {},
     "output_type": "execute_result"
    }
   ],
   "source": [
    "response = {}\n",
    "for name, tel in contacts.items():\n",
    "    if name.startswith(('J', 'j')):\n",
    "        response[name] = tel\n",
    "response"
   ]
  },
  {
   "cell_type": "markdown",
   "id": "1ac8f2e4",
   "metadata": {},
   "source": [
    "### unpacking"
   ]
  },
  {
   "cell_type": "code",
   "execution_count": 365,
   "id": "a71682ea",
   "metadata": {},
   "outputs": [],
   "source": [
    "a,b,c  = (1,2, 3)\n"
   ]
  },
  {
   "cell_type": "markdown",
   "id": "5bbe7208",
   "metadata": {},
   "source": [
    "# list comprehension"
   ]
  },
  {
   "cell_type": "code",
   "execution_count": 384,
   "id": "7a7923fd",
   "metadata": {},
   "outputs": [
    {
     "data": {
      "text/plain": [
       "[2, 4]"
      ]
     },
     "execution_count": 384,
     "metadata": {},
     "output_type": "execute_result"
    }
   ],
   "source": [
    "liste2 = []\n",
    "for element in [1,2,3]:\n",
    "    if element != 3:\n",
    "        liste2.append(element * 2)\n",
    "    \n",
    "liste2 "
   ]
  },
  {
   "cell_type": "code",
   "execution_count": 385,
   "id": "35dc52dc",
   "metadata": {},
   "outputs": [
    {
     "data": {
      "text/plain": [
       "[2, 4]"
      ]
     },
     "execution_count": 385,
     "metadata": {},
     "output_type": "execute_result"
    }
   ],
   "source": [
    "[   element*2   for element in [1,2,3]   if element != 3   ]"
   ]
  },
  {
   "cell_type": "markdown",
   "id": "012a0cbb",
   "metadata": {},
   "source": [
    "# dict comprehension"
   ]
  },
  {
   "cell_type": "code",
   "execution_count": 386,
   "id": "ef3fae4f",
   "metadata": {},
   "outputs": [
    {
     "data": {
      "text/plain": [
       "{'Julie': '+288982938298382', 'julien': '+28798739823'}"
      ]
     },
     "execution_count": 386,
     "metadata": {},
     "output_type": "execute_result"
    }
   ],
   "source": [
    "response = {}\n",
    "for name, tel in contacts.items():\n",
    "    if name.startswith(('J', 'j')):\n",
    "        response[name] = tel\n",
    "response"
   ]
  },
  {
   "cell_type": "code",
   "execution_count": 389,
   "id": "8b39564d",
   "metadata": {},
   "outputs": [
    {
     "data": {
      "text/plain": [
       "{'Julie': '+288982938298382', 'julien': '+28798739823'}"
      ]
     },
     "execution_count": 389,
     "metadata": {},
     "output_type": "execute_result"
    }
   ],
   "source": [
    "{    name:tel for  name, tel in contacts.items()  if name.startswith(('J', 'j'))  }"
   ]
  },
  {
   "cell_type": "markdown",
   "id": "b17abaa8",
   "metadata": {},
   "source": [
    "# loop"
   ]
  },
  {
   "cell_type": "markdown",
   "id": "6bc4f21f",
   "metadata": {},
   "source": [
    "- for sur un iterable\n",
    "- while "
   ]
  },
  {
   "cell_type": "markdown",
   "id": "74496f14",
   "metadata": {},
   "source": [
    "# conditions"
   ]
  },
  {
   "cell_type": "markdown",
   "id": "49b7ba5f",
   "metadata": {},
   "source": [
    "- if ()/ [elif ()]/ [else]  (bool)"
   ]
  },
  {
   "cell_type": "code",
   "execution_count": 394,
   "id": "375f5ac5",
   "metadata": {},
   "outputs": [
    {
     "name": "stdout",
     "output_type": "stream",
     "text": [
      "salut 3\n"
     ]
    }
   ],
   "source": [
    "if \"bonjour\" == \"bonjour2\":\n",
    "    print( \"salut\")\n",
    "elif \"bonjour\" == \"salut\":\n",
    "    print( \"salut2\")\n",
    "else:\n",
    "    print( \"salut 3\")"
   ]
  },
  {
   "cell_type": "markdown",
   "id": "e363cce4",
   "metadata": {},
   "source": [
    "# 2 - 3 tips"
   ]
  },
  {
   "cell_type": "code",
   "execution_count": null,
   "id": "1f0f0da3",
   "metadata": {},
   "outputs": [],
   "source": [
    "a = list(range(1, 10000000000, 2))"
   ]
  },
  {
   "cell_type": "code",
   "execution_count": 13,
   "id": "055a506f",
   "metadata": {},
   "outputs": [],
   "source": [
    "uneliste = [1,2,3,4]\n",
    "unedeuxiemeliste =[\"a\",\"b\",\"c\",\"d\"]"
   ]
  },
  {
   "cell_type": "code",
   "execution_count": 22,
   "id": "64649e60",
   "metadata": {},
   "outputs": [
    {
     "data": {
      "text/plain": [
       "<zip at 0x110bc66c0>"
      ]
     },
     "execution_count": 22,
     "metadata": {},
     "output_type": "execute_result"
    }
   ],
   "source": [
    "zip( uneliste, unedeuxiemeliste)"
   ]
  },
  {
   "cell_type": "markdown",
   "id": "d26fa32b",
   "metadata": {},
   "source": [
    "# functions"
   ]
  },
  {
   "cell_type": "code",
   "execution_count": 57,
   "id": "d8e02787",
   "metadata": {
    "scrolled": true
   },
   "outputs": [
    {
     "data": {
      "text/plain": [
       "2"
      ]
     },
     "execution_count": 57,
     "metadata": {},
     "output_type": "execute_result"
    }
   ],
   "source": [
    "a = 2\n",
    "a"
   ]
  },
  {
   "cell_type": "code",
   "execution_count": null,
   "id": "f1c13076",
   "metadata": {},
   "outputs": [],
   "source": []
  },
  {
   "cell_type": "code",
   "execution_count": null,
   "id": "7e5d183d",
   "metadata": {},
   "outputs": [],
   "source": []
  },
  {
   "cell_type": "code",
   "execution_count": 33,
   "id": "7277b506",
   "metadata": {},
   "outputs": [
    {
     "name": "stdout",
     "output_type": "stream",
     "text": [
      "salut\n"
     ]
    }
   ],
   "source": [
    "a = print(\"salut\")"
   ]
  },
  {
   "cell_type": "code",
   "execution_count": 60,
   "id": "d38da195",
   "metadata": {},
   "outputs": [],
   "source": [
    "def hello():\n",
    "    print( \"salut\")"
   ]
  },
  {
   "cell_type": "code",
   "execution_count": 61,
   "id": "1a151ed9",
   "metadata": {},
   "outputs": [
    {
     "name": "stdout",
     "output_type": "stream",
     "text": [
      "salut\n"
     ]
    }
   ],
   "source": [
    "hello()"
   ]
  },
  {
   "cell_type": "code",
   "execution_count": 67,
   "id": "0e665171",
   "metadata": {},
   "outputs": [],
   "source": [
    "def hello(name, age):\n",
    "    print( f\" bonjour {name}, tu as {age} ans.\")\n",
    "    return 20"
   ]
  },
  {
   "cell_type": "code",
   "execution_count": 68,
   "id": "cec9c803",
   "metadata": {},
   "outputs": [
    {
     "name": "stdout",
     "output_type": "stream",
     "text": [
      " bonjour Luc, tu as 26 ans.\n"
     ]
    }
   ],
   "source": [
    "nouveau = hello(\"Luc\", 26)"
   ]
  },
  {
   "cell_type": "code",
   "execution_count": 83,
   "id": "f692c1a0",
   "metadata": {},
   "outputs": [],
   "source": [
    "def hello(name=\"Luc\", age=25):\n",
    "    return f\" bonjour {name}, tu as {age} ans.\""
   ]
  },
  {
   "cell_type": "code",
   "execution_count": 88,
   "id": "61fd7896",
   "metadata": {},
   "outputs": [],
   "source": [
    "def compute(x):\n",
    "    \"\"\"ceci calcule et retourne x**2\"\"\"\n",
    "    return x**2"
   ]
  },
  {
   "cell_type": "code",
   "execution_count": 86,
   "id": "27473982",
   "metadata": {},
   "outputs": [],
   "source": [
    "resultat = compute(25)"
   ]
  },
  {
   "cell_type": "code",
   "execution_count": 90,
   "id": "07945142",
   "metadata": {},
   "outputs": [],
   "source": [
    "resultat = compute(10)"
   ]
  },
  {
   "cell_type": "code",
   "execution_count": 91,
   "id": "91e348bc",
   "metadata": {},
   "outputs": [
    {
     "data": {
      "text/plain": [
       "100"
      ]
     },
     "execution_count": 91,
     "metadata": {},
     "output_type": "execute_result"
    }
   ],
   "source": [
    "resultat"
   ]
  },
  {
   "cell_type": "code",
   "execution_count": 92,
   "id": "208b690f",
   "metadata": {},
   "outputs": [],
   "source": [
    "def acomplicatedcalculus(a,b,c,d,e,f=23):\n",
    "    return a + b * c - d*e*f"
   ]
  },
  {
   "cell_type": "code",
   "execution_count": 100,
   "id": "cfe8795f",
   "metadata": {},
   "outputs": [
    {
     "data": {
      "text/plain": [
       "-453"
      ]
     },
     "execution_count": 100,
     "metadata": {},
     "output_type": "execute_result"
    }
   ],
   "source": [
    "acomplicatedcalculus( b=2,a=1 , d=4, e=5, c=3)"
   ]
  },
  {
   "cell_type": "code",
   "execution_count": 105,
   "id": "07b8e9d9",
   "metadata": {},
   "outputs": [
    {
     "data": {
      "text/plain": [
       "-453"
      ]
     },
     "execution_count": 105,
     "metadata": {},
     "output_type": "execute_result"
    }
   ],
   "source": [
    "acomplicatedcalculus(1,2, 3, d=4, e=5)"
   ]
  },
  {
   "cell_type": "code",
   "execution_count": 114,
   "id": "0dbabf26",
   "metadata": {},
   "outputs": [
    {
     "data": {
      "text/plain": [
       "-453"
      ]
     },
     "execution_count": 114,
     "metadata": {},
     "output_type": "execute_result"
    }
   ],
   "source": [
    "liste = [1, 2, 3,4,5]\n",
    "acomplicatedcalculus(*liste)\n",
    "# <=> acomplicatedcalculus(1,2, 3,4, 5)"
   ]
  },
  {
   "cell_type": "code",
   "execution_count": 119,
   "id": "effa396d",
   "metadata": {},
   "outputs": [],
   "source": [
    "dico = {\"b\": 1, \"a\":2,  \"c\": 3, \"d\": 4, \"e\": 5}"
   ]
  },
  {
   "cell_type": "code",
   "execution_count": 120,
   "id": "e65c810b",
   "metadata": {},
   "outputs": [
    {
     "data": {
      "text/plain": [
       "-455"
      ]
     },
     "execution_count": 120,
     "metadata": {},
     "output_type": "execute_result"
    }
   ],
   "source": [
    "acomplicatedcalculus(**dico)\n",
    "#<=> acomplicatedcalculus( a=2 , b=1, d=4, c=3, e=5)"
   ]
  },
  {
   "cell_type": "code",
   "execution_count": 117,
   "id": "d60b6073",
   "metadata": {},
   "outputs": [],
   "source": [
    "dico = {\"zeta\": 25, \"a\":2,  \"c\": 3, \"d\": 4, \"e\": 5}"
   ]
  },
  {
   "cell_type": "code",
   "execution_count": 118,
   "id": "b5cced5f",
   "metadata": {},
   "outputs": [
    {
     "ename": "TypeError",
     "evalue": "acomplicatedcalculus() got an unexpected keyword argument 'zeta'",
     "output_type": "error",
     "traceback": [
      "\u001b[0;31m---------------------------------------------------------------------------\u001b[0m",
      "\u001b[0;31mTypeError\u001b[0m                                 Traceback (most recent call last)",
      "Input \u001b[0;32mIn [118]\u001b[0m, in \u001b[0;36m<cell line: 1>\u001b[0;34m()\u001b[0m\n\u001b[0;32m----> 1\u001b[0m \u001b[43macomplicatedcalculus\u001b[49m\u001b[43m(\u001b[49m\u001b[38;5;241;43m*\u001b[39;49m\u001b[38;5;241;43m*\u001b[39;49m\u001b[43mdico\u001b[49m\u001b[43m)\u001b[49m\n",
      "\u001b[0;31mTypeError\u001b[0m: acomplicatedcalculus() got an unexpected keyword argument 'zeta'"
     ]
    }
   ],
   "source": [
    "acomplicatedcalculus(**dico)"
   ]
  },
  {
   "cell_type": "code",
   "execution_count": 116,
   "id": "204c56cd",
   "metadata": {},
   "outputs": [
    {
     "ename": "TypeError",
     "evalue": "acomplicatedcalculus() got an unexpected keyword argument 'zeta'",
     "output_type": "error",
     "traceback": [
      "\u001b[0;31m---------------------------------------------------------------------------\u001b[0m",
      "\u001b[0;31mTypeError\u001b[0m                                 Traceback (most recent call last)",
      "Input \u001b[0;32mIn [116]\u001b[0m, in \u001b[0;36m<cell line: 1>\u001b[0;34m()\u001b[0m\n\u001b[0;32m----> 1\u001b[0m \u001b[43macomplicatedcalculus\u001b[49m\u001b[43m(\u001b[49m\u001b[43ma\u001b[49m\u001b[38;5;241;43m=\u001b[39;49m\u001b[38;5;241;43m2\u001b[39;49m\u001b[43m,\u001b[49m\u001b[43m \u001b[49m\u001b[43mc\u001b[49m\u001b[38;5;241;43m=\u001b[39;49m\u001b[38;5;241;43m3\u001b[39;49m\u001b[43m,\u001b[49m\u001b[43m \u001b[49m\u001b[43md\u001b[49m\u001b[38;5;241;43m=\u001b[39;49m\u001b[38;5;241;43m4\u001b[39;49m\u001b[43m,\u001b[49m\u001b[43m \u001b[49m\u001b[43me\u001b[49m\u001b[38;5;241;43m=\u001b[39;49m\u001b[38;5;241;43m5\u001b[39;49m\u001b[43m,\u001b[49m\u001b[43m \u001b[49m\u001b[43mzeta\u001b[49m\u001b[38;5;241;43m=\u001b[39;49m\u001b[38;5;241;43m25\u001b[39;49m\u001b[43m)\u001b[49m\n",
      "\u001b[0;31mTypeError\u001b[0m: acomplicatedcalculus() got an unexpected keyword argument 'zeta'"
     ]
    }
   ],
   "source": [
    "acomplicatedcalculus(a=2, c=3, d=4, e=5, zeta=25)\n",
    "\n"
   ]
  },
  {
   "cell_type": "code",
   "execution_count": 133,
   "id": "abf0ded5",
   "metadata": {},
   "outputs": [],
   "source": [
    "#!git init\n",
    "#!git remote add origin git@github.com:Luc-Bertin/EPF.git"
   ]
  },
  {
   "cell_type": "code",
   "execution_count": 125,
   "id": "9c5b465e",
   "metadata": {},
   "outputs": [],
   "source": [
    "!git add .\n",
    "!git commit -m \"c'est mon premier upload\""
   ]
  },
  {
   "cell_type": "code",
   "execution_count": 134,
   "id": "e19ad192",
   "metadata": {},
   "outputs": [
    {
     "name": "stdout",
     "output_type": "stream",
     "text": [
      "Enumerating objects: 8, done.\n",
      "Counting objects: 100% (8/8), done.\n",
      "Delta compression using up to 10 threads\n",
      "Compressing objects: 100% (7/7), done.\n",
      "Writing objects: 100% (8/8), 170.31 KiB | 1.62 MiB/s, done.\n",
      "Total 8 (delta 1), reused 0 (delta 0), pack-reused 0\n",
      "remote: Resolving deltas: 100% (1/1), done.\u001b[K\n",
      "To github.com:Luc-Bertin/EPF.git\n",
      " * [new branch]      master -> master\n"
     ]
    }
   ],
   "source": [
    "!git push origin master"
   ]
  }
 ],
 "metadata": {
  "kernelspec": {
   "display_name": "Python 3 (ipykernel)",
   "language": "python",
   "name": "python3"
  },
  "language_info": {
   "codemirror_mode": {
    "name": "ipython",
    "version": 3
   },
   "file_extension": ".py",
   "mimetype": "text/x-python",
   "name": "python",
   "nbconvert_exporter": "python",
   "pygments_lexer": "ipython3",
   "version": "3.9.4"
  }
 },
 "nbformat": 4,
 "nbformat_minor": 5
}
