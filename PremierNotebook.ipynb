{
 "cells": [
  {
   "cell_type": "markdown",
   "id": "685ad8b0",
   "metadata": {},
   "source": [
    "#  titre\n",
    "## sous titre\n",
    "#### sous-sous-sous titre\n",
    "\n",
    "- bulletpoint1\n",
    "- bulletpoint2\n",
    "- bulletpoint3\n",
    "\n",
    "* bulletpoint1\n",
    "* bulletpoint1\n",
    "* bulletpoint1\n",
    "\n",
    "des *paragraphes* **entiers** comme ça"
   ]
  },
  {
   "cell_type": "markdown",
   "id": "74223f7e",
   "metadata": {},
   "source": [
    "<!-- ![un virus](./coronavirus.jpg)-->"
   ]
  },
  {
   "cell_type": "markdown",
   "id": "420a6c7a",
   "metadata": {},
   "source": [
    "<strong>bonjour</strong>"
   ]
  },
  {
   "cell_type": "markdown",
   "id": "71ef7773",
   "metadata": {},
   "source": [
    "<img src=\"./coronavirus.jpg\" align=\"left\" width=\"20%\">"
   ]
  },
  {
   "cell_type": "code",
   "execution_count": 5,
   "id": "75388c5c",
   "metadata": {
    "scrolled": true
   },
   "outputs": [
    {
     "name": "stdout",
     "output_type": "stream",
     "text": [
      "PremierNotebook.ipynb coronavirus.jpg       \u001b[34mtest\u001b[m\u001b[m\r\n"
     ]
    }
   ],
   "source": [
    "!ls"
   ]
  },
  {
   "cell_type": "code",
   "execution_count": 6,
   "id": "53a3f811",
   "metadata": {},
   "outputs": [
    {
     "name": "stdout",
     "output_type": "stream",
     "text": [
      "salut\r\n"
     ]
    }
   ],
   "source": [
    "!echo salut"
   ]
  },
  {
   "cell_type": "markdown",
   "id": "736ef040",
   "metadata": {},
   "source": [
    "# Codons en python"
   ]
  },
  {
   "cell_type": "code",
   "execution_count": 1,
   "id": "88cffbe5",
   "metadata": {},
   "outputs": [
    {
     "data": {
      "text/plain": [
       "2"
      ]
     },
     "execution_count": 1,
     "metadata": {},
     "output_type": "execute_result"
    }
   ],
   "source": [
    "2"
   ]
  },
  {
   "cell_type": "code",
   "execution_count": 2,
   "id": "0427a681",
   "metadata": {},
   "outputs": [
    {
     "data": {
      "text/plain": [
       "[]"
      ]
     },
     "execution_count": 2,
     "metadata": {},
     "output_type": "execute_result"
    }
   ],
   "source": [
    "[]"
   ]
  },
  {
   "cell_type": "code",
   "execution_count": 3,
   "id": "673bf80d",
   "metadata": {},
   "outputs": [
    {
     "data": {
      "text/plain": [
       "{}"
      ]
     },
     "execution_count": 3,
     "metadata": {},
     "output_type": "execute_result"
    }
   ],
   "source": [
    "{}"
   ]
  },
  {
   "cell_type": "code",
   "execution_count": 4,
   "id": "72782aa0",
   "metadata": {},
   "outputs": [
    {
     "data": {
      "text/plain": [
       "(1,)"
      ]
     },
     "execution_count": 4,
     "metadata": {},
     "output_type": "execute_result"
    }
   ],
   "source": [
    "(1,)"
   ]
  },
  {
   "cell_type": "code",
   "execution_count": 5,
   "id": "32b0864d",
   "metadata": {},
   "outputs": [
    {
     "data": {
      "text/plain": [
       "'mastring'"
      ]
     },
     "execution_count": 5,
     "metadata": {},
     "output_type": "execute_result"
    }
   ],
   "source": [
    "\"mastring\""
   ]
  },
  {
   "cell_type": "markdown",
   "id": "f77643c0",
   "metadata": {},
   "source": [
    "## Qu'est ce qu'un objet"
   ]
  },
  {
   "cell_type": "markdown",
   "id": "43dd3647",
   "metadata": {},
   "source": [
    "- id  (unique)\n",
    "- type\n",
    "- valeur\n"
   ]
  },
  {
   "cell_type": "code",
   "execution_count": 6,
   "id": "0545d117",
   "metadata": {},
   "outputs": [
    {
     "data": {
      "text/plain": [
       "4403197104"
      ]
     },
     "execution_count": 6,
     "metadata": {},
     "output_type": "execute_result"
    }
   ],
   "source": [
    "id(90920390239029309203902930290309233)"
   ]
  },
  {
   "cell_type": "code",
   "execution_count": 7,
   "id": "820e5058",
   "metadata": {},
   "outputs": [
    {
     "data": {
      "text/plain": [
       "4403382896"
      ]
     },
     "execution_count": 7,
     "metadata": {},
     "output_type": "execute_result"
    }
   ],
   "source": [
    "id(\"bonjour\")"
   ]
  },
  {
   "cell_type": "code",
   "execution_count": 8,
   "id": "a0841f5c",
   "metadata": {
    "scrolled": true
   },
   "outputs": [
    {
     "data": {
      "text/plain": [
       "4403194560"
      ]
     },
     "execution_count": 8,
     "metadata": {},
     "output_type": "execute_result"
    }
   ],
   "source": [
    "id([\"a\", \"b\"])"
   ]
  },
  {
   "cell_type": "code",
   "execution_count": 9,
   "id": "779ec0cd",
   "metadata": {},
   "outputs": [
    {
     "data": {
      "text/plain": [
       "int"
      ]
     },
     "execution_count": 9,
     "metadata": {},
     "output_type": "execute_result"
    }
   ],
   "source": [
    "type(909393903903)"
   ]
  },
  {
   "cell_type": "code",
   "execution_count": 10,
   "id": "a814b114",
   "metadata": {},
   "outputs": [
    {
     "data": {
      "text/plain": [
       "str"
      ]
     },
     "execution_count": 10,
     "metadata": {},
     "output_type": "execute_result"
    }
   ],
   "source": [
    "type(\"bonjour\")"
   ]
  },
  {
   "cell_type": "code",
   "execution_count": 11,
   "id": "e749b598",
   "metadata": {},
   "outputs": [
    {
     "data": {
      "text/plain": [
       "list"
      ]
     },
     "execution_count": 11,
     "metadata": {},
     "output_type": "execute_result"
    }
   ],
   "source": [
    "type([1,2,3])"
   ]
  },
  {
   "cell_type": "code",
   "execution_count": 12,
   "id": "7868770a",
   "metadata": {},
   "outputs": [
    {
     "data": {
      "text/plain": [
       "float"
      ]
     },
     "execution_count": 12,
     "metadata": {},
     "output_type": "execute_result"
    }
   ],
   "source": [
    "type(13.10)"
   ]
  },
  {
   "cell_type": "markdown",
   "id": "c2e3d176",
   "metadata": {},
   "source": [
    "##  immutabilité / mutabilité"
   ]
  },
  {
   "cell_type": "markdown",
   "id": "cf6971dd",
   "metadata": {},
   "source": [
    " string, float, int, tuple => immutable"
   ]
  },
  {
   "cell_type": "code",
   "execution_count": 50,
   "id": "8dbbb0c9",
   "metadata": {},
   "outputs": [
    {
     "name": "stdout",
     "output_type": "stream",
     "text": [
      "4337019216\n",
      "4337019248\n"
     ]
    }
   ],
   "source": [
    "a = 2\n",
    "print(id(a))\n",
    "a += 1\n",
    "print(id(a))"
   ]
  },
  {
   "cell_type": "code",
   "execution_count": 52,
   "id": "b7c38235",
   "metadata": {},
   "outputs": [
    {
     "data": {
      "text/plain": [
       "'helloyo'"
      ]
     },
     "execution_count": 52,
     "metadata": {},
     "output_type": "execute_result"
    }
   ],
   "source": [
    "a = \"hello\"\n",
    "a += \"yo\"\n",
    "a"
   ]
  },
  {
   "cell_type": "markdown",
   "id": "6587157d",
   "metadata": {},
   "source": [
    "list, dictionnary, set => mutable"
   ]
  },
  {
   "cell_type": "code",
   "execution_count": 51,
   "id": "5339f93b",
   "metadata": {},
   "outputs": [
    {
     "name": "stdout",
     "output_type": "stream",
     "text": [
      "4392797696\n",
      "4392797696\n"
     ]
    }
   ],
   "source": [
    "liste1 = []\n",
    "print(id(liste1))\n",
    "liste1.append(2)\n",
    "print(id(liste1))"
   ]
  },
  {
   "cell_type": "code",
   "execution_count": 38,
   "id": "6c20bc5e",
   "metadata": {},
   "outputs": [],
   "source": [
    "from copy import deepcopy\n",
    "liste2 = deepcopy(liste1)"
   ]
  },
  {
   "cell_type": "code",
   "execution_count": 33,
   "id": "7cc544b0",
   "metadata": {},
   "outputs": [
    {
     "data": {
      "text/plain": [
       "[1, 2]"
      ]
     },
     "execution_count": 33,
     "metadata": {},
     "output_type": "execute_result"
    }
   ],
   "source": [
    "liste1"
   ]
  },
  {
   "cell_type": "code",
   "execution_count": 43,
   "id": "d9b90350",
   "metadata": {},
   "outputs": [
    {
     "data": {
      "text/plain": [
       "[1, 2]"
      ]
     },
     "execution_count": 43,
     "metadata": {},
     "output_type": "execute_result"
    }
   ],
   "source": [
    "liste2"
   ]
  },
  {
   "cell_type": "code",
   "execution_count": 44,
   "id": "3469c0fa",
   "metadata": {},
   "outputs": [],
   "source": [
    "liste1.append(3)"
   ]
  },
  {
   "cell_type": "code",
   "execution_count": 45,
   "id": "21c71325",
   "metadata": {},
   "outputs": [
    {
     "data": {
      "text/plain": [
       "[1, 2, 3]"
      ]
     },
     "execution_count": 45,
     "metadata": {},
     "output_type": "execute_result"
    }
   ],
   "source": [
    "liste1"
   ]
  },
  {
   "cell_type": "code",
   "execution_count": 46,
   "id": "c94153d0",
   "metadata": {},
   "outputs": [
    {
     "data": {
      "text/plain": [
       "[1, 2]"
      ]
     },
     "execution_count": 46,
     "metadata": {},
     "output_type": "execute_result"
    }
   ],
   "source": [
    "liste2"
   ]
  },
  {
   "cell_type": "markdown",
   "id": "f541b75e",
   "metadata": {},
   "source": [
    "# built-ins "
   ]
  },
  {
   "cell_type": "markdown",
   "id": "cbcd808f",
   "metadata": {},
   "source": [
    "# entier"
   ]
  },
  {
   "cell_type": "code",
   "execution_count": 138,
   "id": "bd0fdd95",
   "metadata": {},
   "outputs": [],
   "source": [
    "a = 0"
   ]
  },
  {
   "cell_type": "code",
   "execution_count": 139,
   "id": "d5f2416b",
   "metadata": {},
   "outputs": [],
   "source": [
    "a = int()"
   ]
  },
  {
   "cell_type": "code",
   "execution_count": 142,
   "id": "bda11225",
   "metadata": {},
   "outputs": [
    {
     "data": {
      "text/plain": [
       "23"
      ]
     },
     "execution_count": 142,
     "metadata": {},
     "output_type": "execute_result"
    }
   ],
   "source": [
    "a = int(\"23\")"
   ]
  },
  {
   "cell_type": "code",
   "execution_count": 123,
   "id": "320ecee5",
   "metadata": {},
   "outputs": [],
   "source": [
    "a = 2"
   ]
  },
  {
   "cell_type": "code",
   "execution_count": null,
   "id": "2d8297ec",
   "metadata": {},
   "outputs": [],
   "source": []
  },
  {
   "cell_type": "code",
   "execution_count": 114,
   "id": "db5118e9",
   "metadata": {},
   "outputs": [
    {
     "data": {
      "text/plain": [
       "4"
      ]
     },
     "execution_count": 114,
     "metadata": {},
     "output_type": "execute_result"
    }
   ],
   "source": [
    "a.__add__(2)"
   ]
  },
  {
   "cell_type": "code",
   "execution_count": 115,
   "id": "425c743c",
   "metadata": {},
   "outputs": [
    {
     "data": {
      "text/plain": [
       "4"
      ]
     },
     "execution_count": 115,
     "metadata": {},
     "output_type": "execute_result"
    }
   ],
   "source": [
    "a + 2"
   ]
  },
  {
   "cell_type": "code",
   "execution_count": 116,
   "id": "66d52f87",
   "metadata": {},
   "outputs": [
    {
     "data": {
      "text/plain": [
       "0"
      ]
     },
     "execution_count": 116,
     "metadata": {},
     "output_type": "execute_result"
    }
   ],
   "source": [
    "a - 2"
   ]
  },
  {
   "cell_type": "code",
   "execution_count": 117,
   "id": "e58c2b0b",
   "metadata": {},
   "outputs": [
    {
     "data": {
      "text/plain": [
       "0"
      ]
     },
     "execution_count": 117,
     "metadata": {},
     "output_type": "execute_result"
    }
   ],
   "source": [
    "a.__sub__(2)"
   ]
  },
  {
   "cell_type": "code",
   "execution_count": 118,
   "id": "bfbaae94",
   "metadata": {},
   "outputs": [
    {
     "data": {
      "text/plain": [
       "1.0"
      ]
     },
     "execution_count": 118,
     "metadata": {},
     "output_type": "execute_result"
    }
   ],
   "source": [
    "a / 2"
   ]
  },
  {
   "cell_type": "code",
   "execution_count": 119,
   "id": "23f8d2c1",
   "metadata": {},
   "outputs": [
    {
     "data": {
      "text/plain": [
       "0"
      ]
     },
     "execution_count": 119,
     "metadata": {},
     "output_type": "execute_result"
    }
   ],
   "source": [
    "a % 2"
   ]
  },
  {
   "cell_type": "code",
   "execution_count": 120,
   "id": "5ffdddb4",
   "metadata": {},
   "outputs": [
    {
     "data": {
      "text/plain": [
       "1"
      ]
     },
     "execution_count": 120,
     "metadata": {},
     "output_type": "execute_result"
    }
   ],
   "source": [
    "a // 2"
   ]
  },
  {
   "cell_type": "code",
   "execution_count": 121,
   "id": "114fb054",
   "metadata": {},
   "outputs": [],
   "source": [
    "a += 2"
   ]
  },
  {
   "cell_type": "code",
   "execution_count": 125,
   "id": "e6d6f3bc",
   "metadata": {},
   "outputs": [
    {
     "data": {
      "text/plain": [
       "2"
      ]
     },
     "execution_count": 125,
     "metadata": {},
     "output_type": "execute_result"
    }
   ],
   "source": [
    "a"
   ]
  },
  {
   "cell_type": "code",
   "execution_count": 126,
   "id": "d6295409",
   "metadata": {},
   "outputs": [
    {
     "data": {
      "text/plain": [
       "False"
      ]
     },
     "execution_count": 126,
     "metadata": {},
     "output_type": "execute_result"
    }
   ],
   "source": [
    "a > 2"
   ]
  },
  {
   "cell_type": "code",
   "execution_count": 130,
   "id": "c34ea57c",
   "metadata": {},
   "outputs": [
    {
     "data": {
      "text/plain": [
       "True"
      ]
     },
     "execution_count": 130,
     "metadata": {},
     "output_type": "execute_result"
    }
   ],
   "source": [
    "a.__le__(2)"
   ]
  },
  {
   "cell_type": "code",
   "execution_count": 131,
   "id": "dff9a993",
   "metadata": {},
   "outputs": [
    {
     "data": {
      "text/plain": [
       "True"
      ]
     },
     "execution_count": 131,
     "metadata": {},
     "output_type": "execute_result"
    }
   ],
   "source": [
    "a.__eq__(2)"
   ]
  },
  {
   "cell_type": "code",
   "execution_count": 127,
   "id": "fb0a3884",
   "metadata": {},
   "outputs": [
    {
     "data": {
      "text/plain": [
       "True"
      ]
     },
     "execution_count": 127,
     "metadata": {},
     "output_type": "execute_result"
    }
   ],
   "source": [
    "a == 2"
   ]
  },
  {
   "cell_type": "code",
   "execution_count": 128,
   "id": "1336177b",
   "metadata": {},
   "outputs": [
    {
     "data": {
      "text/plain": [
       "True"
      ]
     },
     "execution_count": 128,
     "metadata": {},
     "output_type": "execute_result"
    }
   ],
   "source": [
    "a <= 2"
   ]
  },
  {
   "cell_type": "markdown",
   "id": "78c67d18",
   "metadata": {},
   "source": [
    "## string"
   ]
  },
  {
   "cell_type": "code",
   "execution_count": 143,
   "id": "895fde7d",
   "metadata": {},
   "outputs": [],
   "source": [
    "a=  str(2)"
   ]
  },
  {
   "cell_type": "code",
   "execution_count": 144,
   "id": "3f5cd497",
   "metadata": {},
   "outputs": [
    {
     "data": {
      "text/plain": [
       "'2'"
      ]
     },
     "execution_count": 144,
     "metadata": {},
     "output_type": "execute_result"
    }
   ],
   "source": [
    "a"
   ]
  },
  {
   "cell_type": "code",
   "execution_count": 145,
   "id": "77b999b1",
   "metadata": {},
   "outputs": [],
   "source": [
    "a = str()"
   ]
  },
  {
   "cell_type": "code",
   "execution_count": 146,
   "id": "e7c84eea",
   "metadata": {},
   "outputs": [
    {
     "data": {
      "text/plain": [
       "''"
      ]
     },
     "execution_count": 146,
     "metadata": {},
     "output_type": "execute_result"
    }
   ],
   "source": [
    "a"
   ]
  },
  {
   "cell_type": "code",
   "execution_count": 73,
   "id": "98b4bb2a",
   "metadata": {},
   "outputs": [],
   "source": [
    "a = \"bonjour\""
   ]
  },
  {
   "cell_type": "code",
   "execution_count": 74,
   "id": "a6b91c0e",
   "metadata": {},
   "outputs": [
    {
     "data": {
      "text/plain": [
       "'Bonjour'"
      ]
     },
     "execution_count": 74,
     "metadata": {},
     "output_type": "execute_result"
    }
   ],
   "source": [
    "a.capitalize()"
   ]
  },
  {
   "cell_type": "code",
   "execution_count": 75,
   "id": "94fd55cd",
   "metadata": {},
   "outputs": [
    {
     "data": {
      "text/plain": [
       "'BONJOUR'"
      ]
     },
     "execution_count": 75,
     "metadata": {},
     "output_type": "execute_result"
    }
   ],
   "source": [
    "a.upper()"
   ]
  },
  {
   "cell_type": "code",
   "execution_count": 76,
   "id": "d9f7bc7a",
   "metadata": {},
   "outputs": [
    {
     "data": {
      "text/plain": [
       "'bonjour'"
      ]
     },
     "execution_count": 76,
     "metadata": {},
     "output_type": "execute_result"
    }
   ],
   "source": [
    "a.lower()"
   ]
  },
  {
   "cell_type": "code",
   "execution_count": 77,
   "id": "773cb7bf",
   "metadata": {},
   "outputs": [
    {
     "data": {
      "text/plain": [
       "1"
      ]
     },
     "execution_count": 77,
     "metadata": {},
     "output_type": "execute_result"
    }
   ],
   "source": [
    "a.count('r')"
   ]
  },
  {
   "cell_type": "code",
   "execution_count": 78,
   "id": "66ade97c",
   "metadata": {},
   "outputs": [
    {
     "data": {
      "text/plain": [
       "'banjaur'"
      ]
     },
     "execution_count": 78,
     "metadata": {},
     "output_type": "execute_result"
    }
   ],
   "source": [
    "a.replace(\"o\", \"a\")"
   ]
  },
  {
   "cell_type": "code",
   "execution_count": 79,
   "id": "840cd261",
   "metadata": {},
   "outputs": [
    {
     "data": {
      "text/plain": [
       "True"
      ]
     },
     "execution_count": 79,
     "metadata": {},
     "output_type": "execute_result"
    }
   ],
   "source": [
    "a.islower()"
   ]
  },
  {
   "cell_type": "code",
   "execution_count": 80,
   "id": "c873d51f",
   "metadata": {},
   "outputs": [
    {
     "data": {
      "text/plain": [
       "False"
      ]
     },
     "execution_count": 80,
     "metadata": {},
     "output_type": "execute_result"
    }
   ],
   "source": [
    "a.isupper()"
   ]
  },
  {
   "cell_type": "code",
   "execution_count": 83,
   "id": "99ea15b0",
   "metadata": {},
   "outputs": [
    {
     "data": {
      "text/plain": [
       "4"
      ]
     },
     "execution_count": 83,
     "metadata": {},
     "output_type": "execute_result"
    }
   ],
   "source": [
    "a.find('ou')"
   ]
  },
  {
   "cell_type": "code",
   "execution_count": 88,
   "id": "8c5d9823",
   "metadata": {},
   "outputs": [
    {
     "data": {
      "text/plain": [
       "['b', 'nj', 'ur']"
      ]
     },
     "execution_count": 88,
     "metadata": {},
     "output_type": "execute_result"
    }
   ],
   "source": [
    "a.split(\"o\")"
   ]
  },
  {
   "cell_type": "code",
   "execution_count": 89,
   "id": "835bd936",
   "metadata": {},
   "outputs": [
    {
     "data": {
      "text/plain": [
       "True"
      ]
     },
     "execution_count": 89,
     "metadata": {},
     "output_type": "execute_result"
    }
   ],
   "source": [
    "a.endswith('our')"
   ]
  },
  {
   "cell_type": "code",
   "execution_count": 90,
   "id": "68291dbb",
   "metadata": {},
   "outputs": [
    {
     "data": {
      "text/plain": [
       "True"
      ]
     },
     "execution_count": 90,
     "metadata": {},
     "output_type": "execute_result"
    }
   ],
   "source": [
    "a.startswith(\"bon\")"
   ]
  },
  {
   "cell_type": "code",
   "execution_count": 91,
   "id": "9761570a",
   "metadata": {},
   "outputs": [],
   "source": [
    "a = \"            bonjour.     \""
   ]
  },
  {
   "cell_type": "code",
   "execution_count": 93,
   "id": "8d9462ac",
   "metadata": {},
   "outputs": [
    {
     "data": {
      "text/plain": [
       "'bonjour.'"
      ]
     },
     "execution_count": 93,
     "metadata": {},
     "output_type": "execute_result"
    }
   ],
   "source": [
    "a.strip(\" \")"
   ]
  },
  {
   "cell_type": "code",
   "execution_count": 98,
   "id": "40a829ca",
   "metadata": {},
   "outputs": [],
   "source": [
    "a = \"______bonjour._____\""
   ]
  },
  {
   "cell_type": "code",
   "execution_count": 99,
   "id": "96297a4f",
   "metadata": {},
   "outputs": [
    {
     "data": {
      "text/plain": [
       "'bonjour.'"
      ]
     },
     "execution_count": 99,
     "metadata": {},
     "output_type": "execute_result"
    }
   ],
   "source": [
    "a.strip(\"_\")"
   ]
  },
  {
   "cell_type": "code",
   "execution_count": 103,
   "id": "86e2c83c",
   "metadata": {},
   "outputs": [
    {
     "data": {
      "text/plain": [
       "'jour.'"
      ]
     },
     "execution_count": 103,
     "metadata": {},
     "output_type": "execute_result"
    }
   ],
   "source": [
    "a.strip(\"b_on\")"
   ]
  },
  {
   "cell_type": "code",
   "execution_count": 105,
   "id": "ec42e74c",
   "metadata": {},
   "outputs": [
    {
     "data": {
      "text/plain": [
       "'______bonjour.'"
      ]
     },
     "execution_count": 105,
     "metadata": {},
     "output_type": "execute_result"
    }
   ],
   "source": [
    "a.rstrip(\"b_on\")"
   ]
  },
  {
   "cell_type": "code",
   "execution_count": 104,
   "id": "aa4ff6da",
   "metadata": {},
   "outputs": [
    {
     "data": {
      "text/plain": [
       "'jour._____'"
      ]
     },
     "execution_count": 104,
     "metadata": {},
     "output_type": "execute_result"
    }
   ],
   "source": [
    "a.lstrip(\"b_on\")"
   ]
  },
  {
   "cell_type": "code",
   "execution_count": 109,
   "id": "bc32eee5",
   "metadata": {
    "scrolled": true
   },
   "outputs": [
    {
     "data": {
      "text/plain": [
       "'0660909090'"
      ]
     },
     "execution_count": 109,
     "metadata": {},
     "output_type": "execute_result"
    }
   ],
   "source": [
    "(\"++06 60 90 90 90\").replace(\" \", \"\").replace(\"+\", \"\")"
   ]
  },
  {
   "cell_type": "code",
   "execution_count": 134,
   "id": "eb2f8562",
   "metadata": {},
   "outputs": [
    {
     "name": "stdout",
     "output_type": "stream",
     "text": [
      "m\n",
      "a\n",
      "s\n",
      "t\n",
      "r\n",
      "i\n",
      "n\n",
      "g\n"
     ]
    }
   ],
   "source": [
    "for letter in \"mastring\":\n",
    "    print( letter )"
   ]
  },
  {
   "cell_type": "markdown",
   "id": "036d9e41",
   "metadata": {},
   "source": [
    "## list"
   ]
  },
  {
   "cell_type": "code",
   "execution_count": 149,
   "id": "dbb79e72",
   "metadata": {},
   "outputs": [],
   "source": [
    "a = list()\n",
    "a = []"
   ]
  },
  {
   "cell_type": "code",
   "execution_count": 150,
   "id": "3195fc72",
   "metadata": {},
   "outputs": [],
   "source": [
    "a = list(\"bonjour\")"
   ]
  },
  {
   "cell_type": "code",
   "execution_count": 153,
   "id": "b1e2f0c8",
   "metadata": {},
   "outputs": [
    {
     "data": {
      "text/plain": [
       "['b', 'o', 'n', 'j', 'o', 'u', 'r']"
      ]
     },
     "execution_count": 153,
     "metadata": {},
     "output_type": "execute_result"
    }
   ],
   "source": [
    "maliste"
   ]
  },
  {
   "cell_type": "code",
   "execution_count": 137,
   "id": "543ea3b6",
   "metadata": {
    "scrolled": false
   },
   "outputs": [
    {
     "name": "stdout",
     "output_type": "stream",
     "text": [
      "2\n",
      "3\n",
      "4\n"
     ]
    }
   ],
   "source": [
    "for item in [2,3,4]:\n",
    "    print(item)"
   ]
  },
  {
   "cell_type": "code",
   "execution_count": 154,
   "id": "cde8b33f",
   "metadata": {},
   "outputs": [],
   "source": [
    "maliste.append(\"a\")"
   ]
  },
  {
   "cell_type": "code",
   "execution_count": 155,
   "id": "d8639758",
   "metadata": {},
   "outputs": [
    {
     "data": {
      "text/plain": [
       "['b', 'o', 'n', 'j', 'o', 'u', 'r', 'a']"
      ]
     },
     "execution_count": 155,
     "metadata": {},
     "output_type": "execute_result"
    }
   ],
   "source": [
    "maliste"
   ]
  },
  {
   "cell_type": "code",
   "execution_count": 156,
   "id": "d1ef9f18",
   "metadata": {},
   "outputs": [],
   "source": [
    "maliste.append(2)"
   ]
  },
  {
   "cell_type": "code",
   "execution_count": 157,
   "id": "435e1e32",
   "metadata": {},
   "outputs": [
    {
     "data": {
      "text/plain": [
       "['b', 'o', 'n', 'j', 'o', 'u', 'r', 'a', 2]"
      ]
     },
     "execution_count": 157,
     "metadata": {},
     "output_type": "execute_result"
    }
   ],
   "source": [
    "maliste"
   ]
  },
  {
   "cell_type": "code",
   "execution_count": 158,
   "id": "640ae431",
   "metadata": {},
   "outputs": [],
   "source": [
    "maliste.append([2, \"a\"])"
   ]
  },
  {
   "cell_type": "code",
   "execution_count": 159,
   "id": "2e4aedde",
   "metadata": {},
   "outputs": [
    {
     "data": {
      "text/plain": [
       "['b', 'o', 'n', 'j', 'o', 'u', 'r', 'a', 2, [2, 'a']]"
      ]
     },
     "execution_count": 159,
     "metadata": {},
     "output_type": "execute_result"
    }
   ],
   "source": [
    "maliste"
   ]
  },
  {
   "cell_type": "code",
   "execution_count": 160,
   "id": "29a66de2",
   "metadata": {},
   "outputs": [],
   "source": [
    "maliste.extend([2,3,4,5])"
   ]
  },
  {
   "cell_type": "code",
   "execution_count": 161,
   "id": "81abde4d",
   "metadata": {},
   "outputs": [
    {
     "data": {
      "text/plain": [
       "['b', 'o', 'n', 'j', 'o', 'u', 'r', 'a', 2, [2, 'a'], 2, 3, 4, 5]"
      ]
     },
     "execution_count": 161,
     "metadata": {},
     "output_type": "execute_result"
    }
   ],
   "source": [
    "maliste"
   ]
  },
  {
   "cell_type": "code",
   "execution_count": 162,
   "id": "695d8e5b",
   "metadata": {},
   "outputs": [],
   "source": [
    "maliste.insert(0, \"zoro\")"
   ]
  },
  {
   "cell_type": "code",
   "execution_count": 163,
   "id": "02b8675a",
   "metadata": {},
   "outputs": [
    {
     "data": {
      "text/plain": [
       "['zoro', 'b', 'o', 'n', 'j', 'o', 'u', 'r', 'a', 2, [2, 'a'], 2, 3, 4, 5]"
      ]
     },
     "execution_count": 163,
     "metadata": {},
     "output_type": "execute_result"
    }
   ],
   "source": [
    "maliste"
   ]
  },
  {
   "cell_type": "code",
   "execution_count": 165,
   "id": "054189e1",
   "metadata": {},
   "outputs": [
    {
     "data": {
      "text/plain": [
       "'a.b.d.e'"
      ]
     },
     "execution_count": 165,
     "metadata": {},
     "output_type": "execute_result"
    }
   ],
   "source": [
    "\".\".join([\"a\", \"b\", \"d\", \"e\"])"
   ]
  },
  {
   "cell_type": "code",
   "execution_count": 166,
   "id": "54a1a476",
   "metadata": {},
   "outputs": [],
   "source": [
    "maliste.reverse()"
   ]
  },
  {
   "cell_type": "code",
   "execution_count": 167,
   "id": "83eda776",
   "metadata": {},
   "outputs": [
    {
     "data": {
      "text/plain": [
       "[5, 4, 3, 2, [2, 'a'], 2, 'a', 'r', 'u', 'o', 'j', 'n', 'o', 'b', 'zoro']"
      ]
     },
     "execution_count": 167,
     "metadata": {},
     "output_type": "execute_result"
    }
   ],
   "source": [
    "maliste"
   ]
  },
  {
   "cell_type": "code",
   "execution_count": 168,
   "id": "74787312",
   "metadata": {},
   "outputs": [],
   "source": [
    "maliste.remove(4)"
   ]
  },
  {
   "cell_type": "code",
   "execution_count": 169,
   "id": "421e134a",
   "metadata": {},
   "outputs": [
    {
     "data": {
      "text/plain": [
       "[5, 3, 2, [2, 'a'], 2, 'a', 'r', 'u', 'o', 'j', 'n', 'o', 'b', 'zoro']"
      ]
     },
     "execution_count": 169,
     "metadata": {},
     "output_type": "execute_result"
    }
   ],
   "source": [
    "maliste"
   ]
  },
  {
   "cell_type": "code",
   "execution_count": 170,
   "id": "d8d5f3b1",
   "metadata": {},
   "outputs": [
    {
     "data": {
      "text/plain": [
       "[2, 'a']"
      ]
     },
     "execution_count": 170,
     "metadata": {},
     "output_type": "execute_result"
    }
   ],
   "source": [
    "maliste.pop(3)"
   ]
  },
  {
   "cell_type": "markdown",
   "id": "de0a2abf",
   "metadata": {},
   "source": [
    "## indexation de liste"
   ]
  },
  {
   "cell_type": "code",
   "execution_count": 190,
   "id": "4e29a664",
   "metadata": {
    "scrolled": true
   },
   "outputs": [],
   "source": [
    "#maliste.__getitem__(0) # maliste[0]"
   ]
  },
  {
   "cell_type": "code",
   "execution_count": 176,
   "id": "0a495f47",
   "metadata": {},
   "outputs": [
    {
     "data": {
      "text/plain": [
       "5"
      ]
     },
     "execution_count": 176,
     "metadata": {},
     "output_type": "execute_result"
    }
   ],
   "source": [
    "maliste[0]"
   ]
  },
  {
   "cell_type": "code",
   "execution_count": 178,
   "id": "ee40c0d7",
   "metadata": {},
   "outputs": [
    {
     "data": {
      "text/plain": [
       "[5, 3, 2, 2, 'a', 'r', 'u', 'o', 'j', 'n', 'o', 'b', 'zoro']"
      ]
     },
     "execution_count": 178,
     "metadata": {},
     "output_type": "execute_result"
    }
   ],
   "source": [
    "maliste"
   ]
  },
  {
   "cell_type": "code",
   "execution_count": 179,
   "id": "7e2b573e",
   "metadata": {},
   "outputs": [
    {
     "data": {
      "text/plain": [
       "'a'"
      ]
     },
     "execution_count": 179,
     "metadata": {},
     "output_type": "execute_result"
    }
   ],
   "source": [
    "maliste[4]"
   ]
  },
  {
   "cell_type": "code",
   "execution_count": 180,
   "id": "58f3557f",
   "metadata": {},
   "outputs": [
    {
     "data": {
      "text/plain": [
       "13"
      ]
     },
     "execution_count": 180,
     "metadata": {},
     "output_type": "execute_result"
    }
   ],
   "source": [
    "len(maliste) # maliste.__len__()"
   ]
  },
  {
   "cell_type": "code",
   "execution_count": 185,
   "id": "cc11f308",
   "metadata": {},
   "outputs": [
    {
     "data": {
      "text/plain": [
       "'zoro'"
      ]
     },
     "execution_count": 185,
     "metadata": {},
     "output_type": "execute_result"
    }
   ],
   "source": [
    "maliste[-1]"
   ]
  },
  {
   "cell_type": "code",
   "execution_count": 186,
   "id": "d730d1eb",
   "metadata": {},
   "outputs": [
    {
     "data": {
      "text/plain": [
       "'b'"
      ]
     },
     "execution_count": 186,
     "metadata": {},
     "output_type": "execute_result"
    }
   ],
   "source": [
    "maliste[-2]"
   ]
  },
  {
   "cell_type": "code",
   "execution_count": 187,
   "id": "1822a06d",
   "metadata": {},
   "outputs": [],
   "source": [
    "maliste.__setitem__(2, 25)"
   ]
  },
  {
   "cell_type": "code",
   "execution_count": 191,
   "id": "8df3e309",
   "metadata": {},
   "outputs": [],
   "source": [
    "maliste[2] = 25"
   ]
  },
  {
   "cell_type": "code",
   "execution_count": 192,
   "id": "6d717918",
   "metadata": {},
   "outputs": [
    {
     "data": {
      "text/plain": [
       "[5, 3, 25, 2, 'a', 'r', 'u', 'o', 'j', 'n', 'o', 'b', 'zoro']"
      ]
     },
     "execution_count": 192,
     "metadata": {},
     "output_type": "execute_result"
    }
   ],
   "source": [
    "maliste"
   ]
  },
  {
   "cell_type": "markdown",
   "id": "a1f669d0",
   "metadata": {},
   "source": [
    "## slicing "
   ]
  },
  {
   "cell_type": "markdown",
   "id": "714f1532",
   "metadata": {},
   "source": [
    "uneliste[start_index: end_index: step]"
   ]
  },
  {
   "cell_type": "markdown",
   "id": "71fc929e",
   "metadata": {},
   "source": [
    "### j'aimerai du premier AU 5e élément"
   ]
  },
  {
   "cell_type": "code",
   "execution_count": 193,
   "id": "540d2b57",
   "metadata": {},
   "outputs": [
    {
     "data": {
      "text/plain": [
       "[5, 3, 25, 2, 'a', 'r', 'u', 'o', 'j', 'n', 'o', 'b', 'zoro']"
      ]
     },
     "execution_count": 193,
     "metadata": {},
     "output_type": "execute_result"
    }
   ],
   "source": [
    "maliste"
   ]
  },
  {
   "cell_type": "code",
   "execution_count": 195,
   "id": "58255638",
   "metadata": {},
   "outputs": [
    {
     "data": {
      "text/plain": [
       "[5, 3, 25, 2, 'a']"
      ]
     },
     "execution_count": 195,
     "metadata": {},
     "output_type": "execute_result"
    }
   ],
   "source": [
    "maliste[0:5] # exclus le dernier élément"
   ]
  },
  {
   "cell_type": "markdown",
   "id": "344402e1",
   "metadata": {},
   "source": [
    "### j'aimerai du premier AU n-2 élément (exclus)"
   ]
  },
  {
   "cell_type": "code",
   "execution_count": 202,
   "id": "11c8dc31",
   "metadata": {},
   "outputs": [
    {
     "data": {
      "text/plain": [
       "[5, 3, 25, 2, 'a', 'r', 'u', 'o', 'j', 'n', 'o']"
      ]
     },
     "execution_count": 202,
     "metadata": {},
     "output_type": "execute_result"
    }
   ],
   "source": [
    "maliste[:len(maliste)-2 ] # -1"
   ]
  },
  {
   "cell_type": "code",
   "execution_count": 201,
   "id": "2fb1c409",
   "metadata": {},
   "outputs": [
    {
     "data": {
      "text/plain": [
       "[5, 3, 25, 2, 'a', 'r', 'u', 'o', 'j', 'n', 'o']"
      ]
     },
     "execution_count": 201,
     "metadata": {},
     "output_type": "execute_result"
    }
   ],
   "source": [
    "maliste[:-2]"
   ]
  },
  {
   "cell_type": "code",
   "execution_count": 203,
   "id": "7d8af85d",
   "metadata": {},
   "outputs": [
    {
     "data": {
      "text/plain": [
       "[2, 'a', 'r', 'u', 'o', 'j', 'n', 'o']"
      ]
     },
     "execution_count": 203,
     "metadata": {},
     "output_type": "execute_result"
    }
   ],
   "source": [
    "maliste[3:-2]"
   ]
  },
  {
   "cell_type": "markdown",
   "id": "4cfb543d",
   "metadata": {},
   "source": [
    "### j'aimerai du premier AU n-2 élément (exclus) par pas de 3"
   ]
  },
  {
   "cell_type": "code",
   "execution_count": 207,
   "id": "75ff3680",
   "metadata": {},
   "outputs": [
    {
     "data": {
      "text/plain": [
       "[5, 3, 25, 2, 'a', 'r', 'u', 'o', 'j', 'n', 'o', 'b', 'zoro']"
      ]
     },
     "execution_count": 207,
     "metadata": {},
     "output_type": "execute_result"
    }
   ],
   "source": [
    "maliste"
   ]
  },
  {
   "cell_type": "code",
   "execution_count": 210,
   "id": "72559d17",
   "metadata": {},
   "outputs": [
    {
     "data": {
      "text/plain": [
       "[5, 2, 'u', 'n']"
      ]
     },
     "execution_count": 210,
     "metadata": {},
     "output_type": "execute_result"
    }
   ],
   "source": [
    "maliste[0:-1:3]"
   ]
  },
  {
   "cell_type": "code",
   "execution_count": 216,
   "id": "07c90f48",
   "metadata": {},
   "outputs": [
    {
     "data": {
      "text/plain": [
       "[5, 2, 'u', 'n', 'zoro']"
      ]
     },
     "execution_count": 216,
     "metadata": {},
     "output_type": "execute_result"
    }
   ],
   "source": [
    "maliste[::3]"
   ]
  },
  {
   "cell_type": "markdown",
   "id": "eab45e29",
   "metadata": {},
   "source": [
    "# tuples"
   ]
  },
  {
   "cell_type": "markdown",
   "id": "6c027c58",
   "metadata": {},
   "source": [
    "tuple n'est pas modifiable après création => immutable"
   ]
  },
  {
   "cell_type": "code",
   "execution_count": 269,
   "id": "efe699de",
   "metadata": {},
   "outputs": [],
   "source": [
    "montuple = (1,2,3,4, \"a\", \"b\")"
   ]
  },
  {
   "cell_type": "code",
   "execution_count": 270,
   "id": "38fc023c",
   "metadata": {},
   "outputs": [
    {
     "data": {
      "text/plain": [
       "(1, 2, 3, 4, 'a', 'b')"
      ]
     },
     "execution_count": 270,
     "metadata": {},
     "output_type": "execute_result"
    }
   ],
   "source": [
    "montuple"
   ]
  },
  {
   "cell_type": "code",
   "execution_count": 271,
   "id": "62a52282",
   "metadata": {},
   "outputs": [
    {
     "data": {
      "text/plain": [
       "1"
      ]
     },
     "execution_count": 271,
     "metadata": {},
     "output_type": "execute_result"
    }
   ],
   "source": [
    "montuple[0]"
   ]
  },
  {
   "cell_type": "code",
   "execution_count": 272,
   "id": "ba5255e4",
   "metadata": {},
   "outputs": [
    {
     "ename": "TypeError",
     "evalue": "'tuple' object does not support item assignment",
     "output_type": "error",
     "traceback": [
      "\u001b[0;31m---------------------------------------------------------------------------\u001b[0m",
      "\u001b[0;31mTypeError\u001b[0m                                 Traceback (most recent call last)",
      "Input \u001b[0;32mIn [272]\u001b[0m, in \u001b[0;36m<cell line: 1>\u001b[0;34m()\u001b[0m\n\u001b[0;32m----> 1\u001b[0m montuple[\u001b[38;5;241m1\u001b[39m] \u001b[38;5;241m=\u001b[39m \u001b[38;5;241m4\u001b[39m\n",
      "\u001b[0;31mTypeError\u001b[0m: 'tuple' object does not support item assignment"
     ]
    }
   ],
   "source": [
    "montuple[1] = 4"
   ]
  },
  {
   "cell_type": "markdown",
   "id": "e973b4de",
   "metadata": {},
   "source": [
    "## set"
   ]
  },
  {
   "cell_type": "code",
   "execution_count": 277,
   "id": "90ce5beb",
   "metadata": {},
   "outputs": [],
   "source": [
    "unset = set()"
   ]
  },
  {
   "cell_type": "code",
   "execution_count": 278,
   "id": "e45df0cb",
   "metadata": {},
   "outputs": [
    {
     "data": {
      "text/plain": [
       "set()"
      ]
     },
     "execution_count": 278,
     "metadata": {},
     "output_type": "execute_result"
    }
   ],
   "source": [
    "unset"
   ]
  },
  {
   "cell_type": "code",
   "execution_count": 289,
   "id": "260bb4ea",
   "metadata": {},
   "outputs": [],
   "source": [
    "unset1 = {\n",
    "    \"CN003\",\"CN003\", \"CN005\",\"CN008\",\"CN0010\",\"CN0011\"}"
   ]
  },
  {
   "cell_type": "code",
   "execution_count": 290,
   "id": "aef3daaf",
   "metadata": {},
   "outputs": [],
   "source": [
    "unset2 = {\n",
    "    \"CN001\",\"CN002\",\"CN003\",\"CN004\",\"CN005\"\n",
    "}"
   ]
  },
  {
   "cell_type": "code",
   "execution_count": 291,
   "id": "1c0c3e39",
   "metadata": {},
   "outputs": [
    {
     "data": {
      "text/plain": [
       "{'CN003', 'CN005'}"
      ]
     },
     "execution_count": 291,
     "metadata": {},
     "output_type": "execute_result"
    }
   ],
   "source": [
    "unset1 & unset2 # intersection"
   ]
  },
  {
   "cell_type": "code",
   "execution_count": 292,
   "id": "ab56f4e8",
   "metadata": {},
   "outputs": [
    {
     "data": {
      "text/plain": [
       "{'CN001', 'CN0010', 'CN0011', 'CN002', 'CN004', 'CN008'}"
      ]
     },
     "execution_count": 292,
     "metadata": {},
     "output_type": "execute_result"
    }
   ],
   "source": [
    "unset1 ^ unset2 # diff sym"
   ]
  },
  {
   "cell_type": "code",
   "execution_count": 293,
   "id": "090037d6",
   "metadata": {},
   "outputs": [
    {
     "data": {
      "text/plain": [
       "{'CN001', 'CN0010', 'CN0011', 'CN002', 'CN003', 'CN004', 'CN005', 'CN008'}"
      ]
     },
     "execution_count": 293,
     "metadata": {},
     "output_type": "execute_result"
    }
   ],
   "source": [
    "unset1 | unset2 # union"
   ]
  },
  {
   "cell_type": "code",
   "execution_count": 294,
   "id": "e56fb49e",
   "metadata": {},
   "outputs": [
    {
     "data": {
      "text/plain": [
       "{'CN0010', 'CN0011', 'CN008'}"
      ]
     },
     "execution_count": 294,
     "metadata": {},
     "output_type": "execute_result"
    }
   ],
   "source": [
    "unset1 - unset2"
   ]
  },
  {
   "cell_type": "code",
   "execution_count": 295,
   "id": "9712dbd0",
   "metadata": {},
   "outputs": [
    {
     "data": {
      "text/plain": [
       "{'CN001', 'CN002', 'CN004'}"
      ]
     },
     "execution_count": 295,
     "metadata": {},
     "output_type": "execute_result"
    }
   ],
   "source": [
    "unset2 - unset1"
   ]
  },
  {
   "cell_type": "markdown",
   "id": "aaa2fd6c",
   "metadata": {},
   "source": [
    "# dict"
   ]
  },
  {
   "cell_type": "markdown",
   "id": "4c0d04ca",
   "metadata": {},
   "source": [
    "ensemble / collection `cle:valeur`\n"
   ]
  },
  {
   "cell_type": "code",
   "execution_count": 296,
   "id": "50e714dc",
   "metadata": {},
   "outputs": [],
   "source": [
    "dico = dict()"
   ]
  },
  {
   "cell_type": "code",
   "execution_count": 297,
   "id": "3ff4ad98",
   "metadata": {},
   "outputs": [
    {
     "data": {
      "text/plain": [
       "{}"
      ]
     },
     "execution_count": 297,
     "metadata": {},
     "output_type": "execute_result"
    }
   ],
   "source": [
    "dico"
   ]
  },
  {
   "cell_type": "code",
   "execution_count": 299,
   "id": "002fb07a",
   "metadata": {},
   "outputs": [],
   "source": [
    "dico = {\n",
    "    \"a\":1,\n",
    "    \"b\":2,\n",
    "    \"c\": \"3\",\n",
    "    \"d\": [1,2],\n",
    "    \"e\": (3,4),\n",
    "    \"f\": { },\n",
    "    2: 1,\n",
    "    3: 4,\n",
    "    (1,4): 52,\n",
    "}"
   ]
  },
  {
   "cell_type": "code",
   "execution_count": 300,
   "id": "2be48337",
   "metadata": {},
   "outputs": [
    {
     "data": {
      "text/plain": [
       "{'a': 1,\n",
       " 'b': 2,\n",
       " 'c': '3',\n",
       " 'd': [1, 2],\n",
       " 'e': (3, 4),\n",
       " 'f': {},\n",
       " 2: 1,\n",
       " 3: 4,\n",
       " (1, 4): 52}"
      ]
     },
     "execution_count": 300,
     "metadata": {},
     "output_type": "execute_result"
    }
   ],
   "source": [
    "dico"
   ]
  },
  {
   "cell_type": "code",
   "execution_count": 302,
   "id": "daedb283",
   "metadata": {},
   "outputs": [
    {
     "data": {
      "text/plain": [
       "4408994752"
      ]
     },
     "execution_count": 302,
     "metadata": {},
     "output_type": "execute_result"
    }
   ],
   "source": [
    "id(dico)"
   ]
  },
  {
   "cell_type": "markdown",
   "id": "a7a5b74d",
   "metadata": {},
   "source": [
    "#### 4 operations fondamentales \n",
    "- ajouter une pair dans la collection\n",
    "- supprimer une pair de la collection\n",
    "- modifier une valeur associée à une clé dans la pair dans la collection\n",
    "- lookup / get une valeur basée sur la clé"
   ]
  },
  {
   "cell_type": "code",
   "execution_count": 306,
   "id": "f0683854",
   "metadata": {},
   "outputs": [],
   "source": [
    "dico[\"bonjour\"] = 25"
   ]
  },
  {
   "cell_type": "code",
   "execution_count": 308,
   "id": "0502b3ff",
   "metadata": {},
   "outputs": [],
   "source": [
    "del dico[\"bonjour\"]"
   ]
  },
  {
   "cell_type": "code",
   "execution_count": 313,
   "id": "b4a658eb",
   "metadata": {},
   "outputs": [],
   "source": [
    "dico[\"bonjour\"] = 25\n",
    "dico[\"bonjour\"] = 26"
   ]
  },
  {
   "cell_type": "code",
   "execution_count": 316,
   "id": "bbe025aa",
   "metadata": {},
   "outputs": [
    {
     "data": {
      "text/plain": [
       "25"
      ]
     },
     "execution_count": 316,
     "metadata": {},
     "output_type": "execute_result"
    }
   ],
   "source": [
    "dico[\"bonjour\"]"
   ]
  },
  {
   "cell_type": "code",
   "execution_count": 317,
   "id": "27a46f71",
   "metadata": {},
   "outputs": [
    {
     "data": {
      "text/plain": [
       "{'a': 1,\n",
       " 'b': 2,\n",
       " 'c': '3',\n",
       " 'd': [1, 2],\n",
       " 'e': (3, 4),\n",
       " 'f': {},\n",
       " 2: 1,\n",
       " 3: 4,\n",
       " (1, 4): 52,\n",
       " 'test': 25,\n",
       " 'bonjour': 25}"
      ]
     },
     "execution_count": 317,
     "metadata": {},
     "output_type": "execute_result"
    }
   ],
   "source": [
    "dico"
   ]
  },
  {
   "cell_type": "code",
   "execution_count": 318,
   "id": "99d18339",
   "metadata": {},
   "outputs": [
    {
     "data": {
      "text/plain": [
       "True"
      ]
     },
     "execution_count": 318,
     "metadata": {},
     "output_type": "execute_result"
    }
   ],
   "source": [
    "\"bonjour\" in dico"
   ]
  },
  {
   "cell_type": "code",
   "execution_count": 322,
   "id": "5254d2cf",
   "metadata": {},
   "outputs": [
    {
     "name": "stdout",
     "output_type": "stream",
     "text": [
      "a\n",
      "b\n",
      "c\n",
      "d\n",
      "e\n",
      "f\n",
      "2\n",
      "3\n",
      "(1, 4)\n",
      "test\n",
      "bonjour\n"
     ]
    }
   ],
   "source": [
    "for element in dico.keys():\n",
    "    print( element )"
   ]
  },
  {
   "cell_type": "code",
   "execution_count": 325,
   "id": "b772bf1d",
   "metadata": {},
   "outputs": [
    {
     "name": "stdout",
     "output_type": "stream",
     "text": [
      "1\n",
      "2\n",
      "3\n",
      "[1, 2]\n",
      "(3, 4)\n",
      "{}\n",
      "1\n",
      "4\n",
      "52\n",
      "25\n",
      "25\n"
     ]
    }
   ],
   "source": [
    "for element in dico.values():\n",
    "    print( element )"
   ]
  },
  {
   "cell_type": "code",
   "execution_count": 327,
   "id": "e46abe2f",
   "metadata": {},
   "outputs": [
    {
     "name": "stdout",
     "output_type": "stream",
     "text": [
      "('a', 1)\n",
      "<class 'tuple'>\n",
      "('b', 2)\n",
      "<class 'tuple'>\n",
      "('c', '3')\n",
      "<class 'tuple'>\n",
      "('d', [1, 2])\n",
      "<class 'tuple'>\n",
      "('e', (3, 4))\n",
      "<class 'tuple'>\n",
      "('f', {})\n",
      "<class 'tuple'>\n",
      "(2, 1)\n",
      "<class 'tuple'>\n",
      "(3, 4)\n",
      "<class 'tuple'>\n",
      "((1, 4), 52)\n",
      "<class 'tuple'>\n",
      "('test', 25)\n",
      "<class 'tuple'>\n",
      "('bonjour', 25)\n",
      "<class 'tuple'>\n"
     ]
    }
   ],
   "source": [
    "for item in dico.items():\n",
    "    print( item )\n",
    "    print( type(item ))"
   ]
  },
  {
   "cell_type": "code",
   "execution_count": null,
   "id": "4f7f5c65",
   "metadata": {},
   "outputs": [],
   "source": [
    "(\"a\", 21) <=> [\"1\",2]"
   ]
  },
  {
   "cell_type": "markdown",
   "id": "25aeda6e",
   "metadata": {},
   "source": [
    "## Exo"
   ]
  },
  {
   "cell_type": "code",
   "execution_count": 357,
   "id": "5a1e5c5f",
   "metadata": {},
   "outputs": [],
   "source": [
    "contacts = {\n",
    "    \"Julie\": \"+288982938298382\",\n",
    "    \"julien\": \"+28798739823\",\n",
    "    \"Vincent\": \"+384709289023\",\n",
    "    \"René\": \"+29839028903823\",\n",
    "    \"Violette\": \"+2002020200200\"\n",
    "}"
   ]
  },
  {
   "cell_type": "code",
   "execution_count": 358,
   "id": "6cb49ef3",
   "metadata": {},
   "outputs": [
    {
     "data": {
      "text/plain": [
       "{'Julie': '+288982938298382',\n",
       " 'julien': '+28798739823',\n",
       " 'Vincent': '+384709289023',\n",
       " 'René': '+29839028903823',\n",
       " 'Violette': '+2002020200200'}"
      ]
     },
     "execution_count": 358,
     "metadata": {},
     "output_type": "execute_result"
    }
   ],
   "source": [
    "contacts"
   ]
  },
  {
   "cell_type": "markdown",
   "id": "b6a0de5a",
   "metadata": {},
   "source": [
    "#### je veux les numéros de téléphone des personnes qui commecent par la lettre \"j\""
   ]
  },
  {
   "cell_type": "code",
   "execution_count": 353,
   "id": "1bd3aa8a",
   "metadata": {},
   "outputs": [],
   "source": [
    "response = {}"
   ]
  },
  {
   "cell_type": "code",
   "execution_count": 354,
   "id": "e313ac89",
   "metadata": {},
   "outputs": [],
   "source": [
    "# itérer sur contacts en ayant les clés + valeurs"
   ]
  },
  {
   "cell_type": "code",
   "execution_count": 376,
   "id": "22bc906d",
   "metadata": {},
   "outputs": [
    {
     "data": {
      "text/plain": [
       "{'Julie': '+288982938298382', 'julien': '+28798739823'}"
      ]
     },
     "execution_count": 376,
     "metadata": {},
     "output_type": "execute_result"
    }
   ],
   "source": [
    "response = {}\n",
    "for name, tel in contacts.items():\n",
    "    if name.startswith(('J', 'j')):\n",
    "        response[name] = tel\n",
    "response"
   ]
  },
  {
   "cell_type": "markdown",
   "id": "53eb8ccb",
   "metadata": {},
   "source": [
    "### unpacking"
   ]
  },
  {
   "cell_type": "code",
   "execution_count": 365,
   "id": "fe860d5d",
   "metadata": {},
   "outputs": [],
   "source": [
    "a,b,c  = (1,2, 3)\n"
   ]
  },
  {
   "cell_type": "markdown",
   "id": "9cfeb866",
   "metadata": {},
   "source": [
    "# list comprehension"
   ]
  },
  {
   "cell_type": "code",
   "execution_count": 384,
   "id": "69c8805c",
   "metadata": {},
   "outputs": [
    {
     "data": {
      "text/plain": [
       "[2, 4]"
      ]
     },
     "execution_count": 384,
     "metadata": {},
     "output_type": "execute_result"
    }
   ],
   "source": [
    "liste2 = []\n",
    "for element in [1,2,3]:\n",
    "    if element != 3:\n",
    "        liste2.append(element * 2)\n",
    "    \n",
    "liste2 "
   ]
  },
  {
   "cell_type": "code",
   "execution_count": 385,
   "id": "71316e88",
   "metadata": {},
   "outputs": [
    {
     "data": {
      "text/plain": [
       "[2, 4]"
      ]
     },
     "execution_count": 385,
     "metadata": {},
     "output_type": "execute_result"
    }
   ],
   "source": [
    "[   element*2   for element in [1,2,3]   if element != 3   ]"
   ]
  },
  {
   "cell_type": "markdown",
   "id": "bb4f47c9",
   "metadata": {},
   "source": [
    "# dict comprehension"
   ]
  },
  {
   "cell_type": "code",
   "execution_count": 386,
   "id": "a1f96638",
   "metadata": {},
   "outputs": [
    {
     "data": {
      "text/plain": [
       "{'Julie': '+288982938298382', 'julien': '+28798739823'}"
      ]
     },
     "execution_count": 386,
     "metadata": {},
     "output_type": "execute_result"
    }
   ],
   "source": [
    "response = {}\n",
    "for name, tel in contacts.items():\n",
    "    if name.startswith(('J', 'j')):\n",
    "        response[name] = tel\n",
    "response"
   ]
  },
  {
   "cell_type": "code",
   "execution_count": 389,
   "id": "43c7b5ff",
   "metadata": {},
   "outputs": [
    {
     "data": {
      "text/plain": [
       "{'Julie': '+288982938298382', 'julien': '+28798739823'}"
      ]
     },
     "execution_count": 389,
     "metadata": {},
     "output_type": "execute_result"
    }
   ],
   "source": [
    "{    name:tel for  name, tel in contacts.items()  if name.startswith(('J', 'j'))  }"
   ]
  },
  {
   "cell_type": "markdown",
   "id": "cadcbe3b",
   "metadata": {},
   "source": [
    "# loop"
   ]
  },
  {
   "cell_type": "markdown",
   "id": "1d806f0f",
   "metadata": {},
   "source": [
    "- for sur un iterable\n",
    "- while "
   ]
  },
  {
   "cell_type": "markdown",
   "id": "5cf08533",
   "metadata": {},
   "source": [
    "# conditions"
   ]
  },
  {
   "cell_type": "markdown",
   "id": "2efc36b8",
   "metadata": {},
   "source": [
    "- if ()/ [elif ()]/ [else]  (bool)"
   ]
  },
  {
   "cell_type": "code",
   "execution_count": 394,
   "id": "14a675b0",
   "metadata": {},
   "outputs": [
    {
     "name": "stdout",
     "output_type": "stream",
     "text": [
      "salut 3\n"
     ]
    }
   ],
   "source": [
    "if \"bonjour\" == \"bonjour2\":\n",
    "    print( \"salut\")\n",
    "elif \"bonjour\" == \"salut\":\n",
    "    print( \"salut2\")\n",
    "else:\n",
    "    print( \"salut 3\")"
   ]
  },
  {
   "cell_type": "markdown",
   "id": "45133a67",
   "metadata": {},
   "source": [
    "# 2 - 3 tips"
   ]
  },
  {
   "cell_type": "code",
   "execution_count": null,
   "id": "2e4e912d",
   "metadata": {},
   "outputs": [],
   "source": [
    "a = list(range(1, 10000000000, 2))"
   ]
  },
  {
   "cell_type": "code",
   "execution_count": 13,
   "id": "55998ad8",
   "metadata": {},
   "outputs": [],
   "source": [
    "uneliste = [1,2,3,4]\n",
    "unedeuxiemeliste =[\"a\",\"b\",\"c\",\"d\"]"
   ]
  },
  {
   "cell_type": "code",
   "execution_count": 22,
   "id": "133b2e95",
   "metadata": {},
   "outputs": [
    {
     "data": {
      "text/plain": [
       "<zip at 0x110bc66c0>"
      ]
     },
     "execution_count": 22,
     "metadata": {},
     "output_type": "execute_result"
    }
   ],
   "source": [
    "zip( uneliste, unedeuxiemeliste)"
   ]
  },
  {
   "cell_type": "markdown",
   "id": "e328a38d",
   "metadata": {},
   "source": [
    "# functions"
   ]
  },
  {
   "cell_type": "code",
   "execution_count": 57,
   "id": "6f0cde11",
   "metadata": {
    "scrolled": true
   },
   "outputs": [
    {
     "data": {
      "text/plain": [
       "2"
      ]
     },
     "execution_count": 57,
     "metadata": {},
     "output_type": "execute_result"
    }
   ],
   "source": [
    "a = 2\n",
    "a"
   ]
  },
  {
   "cell_type": "code",
   "execution_count": null,
   "id": "26bc4c73",
   "metadata": {},
   "outputs": [],
   "source": []
  },
  {
   "cell_type": "code",
   "execution_count": null,
   "id": "5e6ae159",
   "metadata": {},
   "outputs": [],
   "source": []
  },
  {
   "cell_type": "code",
   "execution_count": 33,
   "id": "5f131bc1",
   "metadata": {},
   "outputs": [
    {
     "name": "stdout",
     "output_type": "stream",
     "text": [
      "salut\n"
     ]
    }
   ],
   "source": [
    "a = print(\"salut\")"
   ]
  },
  {
   "cell_type": "code",
   "execution_count": 60,
   "id": "494921a0",
   "metadata": {},
   "outputs": [],
   "source": [
    "def hello():\n",
    "    print( \"salut\")"
   ]
  },
  {
   "cell_type": "code",
   "execution_count": 61,
   "id": "c56ab0c5",
   "metadata": {},
   "outputs": [
    {
     "name": "stdout",
     "output_type": "stream",
     "text": [
      "salut\n"
     ]
    }
   ],
   "source": [
    "hello()"
   ]
  },
  {
   "cell_type": "code",
   "execution_count": 67,
   "id": "d6355190",
   "metadata": {},
   "outputs": [],
   "source": [
    "def hello(name, age):\n",
    "    print( f\" bonjour {name}, tu as {age} ans.\")\n",
    "    return 20"
   ]
  },
  {
   "cell_type": "code",
   "execution_count": 68,
   "id": "3dc7c6d7",
   "metadata": {},
   "outputs": [
    {
     "name": "stdout",
     "output_type": "stream",
     "text": [
      " bonjour Luc, tu as 26 ans.\n"
     ]
    }
   ],
   "source": [
    "nouveau = hello(\"Luc\", 26)"
   ]
  },
  {
   "cell_type": "code",
   "execution_count": 83,
   "id": "308d5a3f",
   "metadata": {},
   "outputs": [],
   "source": [
    "def hello(name=\"Luc\", age=25):\n",
    "    return f\" bonjour {name}, tu as {age} ans.\""
   ]
  },
  {
   "cell_type": "code",
   "execution_count": 88,
   "id": "5399962b",
   "metadata": {},
   "outputs": [],
   "source": [
    "def compute(x):\n",
    "    \"\"\"ceci calcule et retourne x**2\"\"\"\n",
    "    return x**2"
   ]
  },
  {
   "cell_type": "code",
   "execution_count": 86,
   "id": "2adeb401",
   "metadata": {},
   "outputs": [],
   "source": [
    "resultat = compute(25)"
   ]
  },
  {
   "cell_type": "code",
   "execution_count": 90,
   "id": "138856a6",
   "metadata": {},
   "outputs": [],
   "source": [
    "resultat = compute(10)"
   ]
  },
  {
   "cell_type": "code",
   "execution_count": 91,
   "id": "4b0aba22",
   "metadata": {},
   "outputs": [
    {
     "data": {
      "text/plain": [
       "100"
      ]
     },
     "execution_count": 91,
     "metadata": {},
     "output_type": "execute_result"
    }
   ],
   "source": [
    "resultat"
   ]
  },
  {
   "cell_type": "code",
   "execution_count": 92,
   "id": "82f180cb",
   "metadata": {},
   "outputs": [],
   "source": [
    "def acomplicatedcalculus(a,b,c,d,e,f=23):\n",
    "    return a + b * c - d*e*f"
   ]
  },
  {
   "cell_type": "code",
   "execution_count": 100,
   "id": "7ecbaa6f",
   "metadata": {},
   "outputs": [
    {
     "data": {
      "text/plain": [
       "-453"
      ]
     },
     "execution_count": 100,
     "metadata": {},
     "output_type": "execute_result"
    }
   ],
   "source": [
    "acomplicatedcalculus( b=2,a=1 , d=4, e=5, c=3)"
   ]
  },
  {
   "cell_type": "code",
   "execution_count": 105,
   "id": "984eadc3",
   "metadata": {},
   "outputs": [
    {
     "data": {
      "text/plain": [
       "-453"
      ]
     },
     "execution_count": 105,
     "metadata": {},
     "output_type": "execute_result"
    }
   ],
   "source": [
    "acomplicatedcalculus(1,2, 3, d=4, e=5)"
   ]
  },
  {
   "cell_type": "code",
   "execution_count": 114,
   "id": "622ef5e7",
   "metadata": {},
   "outputs": [
    {
     "data": {
      "text/plain": [
       "-453"
      ]
     },
     "execution_count": 114,
     "metadata": {},
     "output_type": "execute_result"
    }
   ],
   "source": [
    "liste = [1, 2, 3,4,5]\n",
    "acomplicatedcalculus(*liste)\n",
    "# <=> acomplicatedcalculus(1,2, 3,4, 5)"
   ]
  },
  {
   "cell_type": "code",
   "execution_count": 119,
   "id": "61379bd3",
   "metadata": {},
   "outputs": [],
   "source": [
    "dico = {\"b\": 1, \"a\":2,  \"c\": 3, \"d\": 4, \"e\": 5}"
   ]
  },
  {
   "cell_type": "code",
   "execution_count": 120,
   "id": "a78c112c",
   "metadata": {},
   "outputs": [
    {
     "data": {
      "text/plain": [
       "-455"
      ]
     },
     "execution_count": 120,
     "metadata": {},
     "output_type": "execute_result"
    }
   ],
   "source": [
    "acomplicatedcalculus(**dico)\n",
    "#<=> acomplicatedcalculus( a=2 , b=1, d=4, c=3, e=5)"
   ]
  },
  {
   "cell_type": "code",
   "execution_count": 117,
   "id": "9b1d324d",
   "metadata": {},
   "outputs": [],
   "source": [
    "dico = {\"zeta\": 25, \"a\":2,  \"c\": 3, \"d\": 4, \"e\": 5}"
   ]
  },
  {
   "cell_type": "code",
   "execution_count": 118,
   "id": "0cc629ba",
   "metadata": {},
   "outputs": [
    {
     "ename": "TypeError",
     "evalue": "acomplicatedcalculus() got an unexpected keyword argument 'zeta'",
     "output_type": "error",
     "traceback": [
      "\u001b[0;31m---------------------------------------------------------------------------\u001b[0m",
      "\u001b[0;31mTypeError\u001b[0m                                 Traceback (most recent call last)",
      "Input \u001b[0;32mIn [118]\u001b[0m, in \u001b[0;36m<cell line: 1>\u001b[0;34m()\u001b[0m\n\u001b[0;32m----> 1\u001b[0m \u001b[43macomplicatedcalculus\u001b[49m\u001b[43m(\u001b[49m\u001b[38;5;241;43m*\u001b[39;49m\u001b[38;5;241;43m*\u001b[39;49m\u001b[43mdico\u001b[49m\u001b[43m)\u001b[49m\n",
      "\u001b[0;31mTypeError\u001b[0m: acomplicatedcalculus() got an unexpected keyword argument 'zeta'"
     ]
    }
   ],
   "source": [
    "acomplicatedcalculus(**dico)"
   ]
  },
  {
   "cell_type": "code",
   "execution_count": 116,
   "id": "219a04ef",
   "metadata": {},
   "outputs": [
    {
     "ename": "TypeError",
     "evalue": "acomplicatedcalculus() got an unexpected keyword argument 'zeta'",
     "output_type": "error",
     "traceback": [
      "\u001b[0;31m---------------------------------------------------------------------------\u001b[0m",
      "\u001b[0;31mTypeError\u001b[0m                                 Traceback (most recent call last)",
      "Input \u001b[0;32mIn [116]\u001b[0m, in \u001b[0;36m<cell line: 1>\u001b[0;34m()\u001b[0m\n\u001b[0;32m----> 1\u001b[0m \u001b[43macomplicatedcalculus\u001b[49m\u001b[43m(\u001b[49m\u001b[43ma\u001b[49m\u001b[38;5;241;43m=\u001b[39;49m\u001b[38;5;241;43m2\u001b[39;49m\u001b[43m,\u001b[49m\u001b[43m \u001b[49m\u001b[43mc\u001b[49m\u001b[38;5;241;43m=\u001b[39;49m\u001b[38;5;241;43m3\u001b[39;49m\u001b[43m,\u001b[49m\u001b[43m \u001b[49m\u001b[43md\u001b[49m\u001b[38;5;241;43m=\u001b[39;49m\u001b[38;5;241;43m4\u001b[39;49m\u001b[43m,\u001b[49m\u001b[43m \u001b[49m\u001b[43me\u001b[49m\u001b[38;5;241;43m=\u001b[39;49m\u001b[38;5;241;43m5\u001b[39;49m\u001b[43m,\u001b[49m\u001b[43m \u001b[49m\u001b[43mzeta\u001b[49m\u001b[38;5;241;43m=\u001b[39;49m\u001b[38;5;241;43m25\u001b[39;49m\u001b[43m)\u001b[49m\n",
      "\u001b[0;31mTypeError\u001b[0m: acomplicatedcalculus() got an unexpected keyword argument 'zeta'"
     ]
    }
   ],
   "source": [
    "acomplicatedcalculus(a=2, c=3, d=4, e=5, zeta=25)\n",
    "\n"
   ]
  },
  {
   "cell_type": "code",
   "execution_count": 124,
   "id": "e4037330",
   "metadata": {},
   "outputs": [
    {
     "name": "stdout",
     "output_type": "stream",
     "text": [
      "\u001b[33mhint: Using 'master' as the name for the initial branch. This default branch name\u001b[m\r\n",
      "\u001b[33mhint: is subject to change. To configure the initial branch name to use in all\u001b[m\r\n",
      "\u001b[33mhint: of your new repositories, which will suppress this warning, call:\u001b[m\r\n",
      "\u001b[33mhint: \u001b[m\r\n",
      "\u001b[33mhint: \tgit config --global init.defaultBranch <name>\u001b[m\r\n",
      "\u001b[33mhint: \u001b[m\r\n",
      "\u001b[33mhint: Names commonly chosen instead of 'master' are 'main', 'trunk' and\u001b[m\r\n",
      "\u001b[33mhint: 'development'. The just-created branch can be renamed via this command:\u001b[m\r\n",
      "\u001b[33mhint: \u001b[m\r\n",
      "\u001b[33mhint: \tgit branch -m <name>\u001b[m\r\n",
      "Initialized empty Git repository in /Users/lucbertin/Desktop/WebScraping_EPF/.git/\r\n"
     ]
    }
   ],
   "source": [
    "!git init"
   ]
  },
  {
   "cell_type": "code",
   "execution_count": null,
   "id": "1fa1b86a",
   "metadata": {},
   "outputs": [],
   "source": []
  }
 ],
 "metadata": {
  "kernelspec": {
   "display_name": "Python 3 (ipykernel)",
   "language": "python",
   "name": "python3"
  },
  "language_info": {
   "codemirror_mode": {
    "name": "ipython",
    "version": 3
   },
   "file_extension": ".py",
   "mimetype": "text/x-python",
   "name": "python",
   "nbconvert_exporter": "python",
   "pygments_lexer": "ipython3",
   "version": "3.9.4"
  }
 },
 "nbformat": 4,
 "nbformat_minor": 5
}
