{
 "cells": [
  {
   "cell_type": "code",
   "execution_count": 3,
   "id": "17780a6d",
   "metadata": {},
   "outputs": [],
   "source": [
    "a = list()"
   ]
  },
  {
   "cell_type": "code",
   "execution_count": 4,
   "id": "b5104209",
   "metadata": {},
   "outputs": [],
   "source": [
    "a.append(2)"
   ]
  },
  {
   "cell_type": "code",
   "execution_count": 5,
   "id": "d10e896e",
   "metadata": {},
   "outputs": [
    {
     "data": {
      "text/plain": [
       "[2]"
      ]
     },
     "execution_count": 5,
     "metadata": {},
     "output_type": "execute_result"
    }
   ],
   "source": [
    "a"
   ]
  },
  {
   "cell_type": "code",
   "execution_count": 6,
   "id": "958f57ef",
   "metadata": {},
   "outputs": [
    {
     "data": {
      "text/plain": [
       "4378727616"
      ]
     },
     "execution_count": 6,
     "metadata": {},
     "output_type": "execute_result"
    }
   ],
   "source": [
    "id(a)"
   ]
  },
  {
   "cell_type": "code",
   "execution_count": 9,
   "id": "dca42c4b",
   "metadata": {},
   "outputs": [
    {
     "data": {
      "text/plain": [
       "list"
      ]
     },
     "execution_count": 9,
     "metadata": {},
     "output_type": "execute_result"
    }
   ],
   "source": [
    "type(a)"
   ]
  },
  {
   "cell_type": "markdown",
   "id": "1436822b",
   "metadata": {},
   "source": [
    "# créons nos propres classes"
   ]
  },
  {
   "cell_type": "code",
   "execution_count": 77,
   "id": "dcbebb70",
   "metadata": {},
   "outputs": [],
   "source": [
    "class Humain:\n",
    "    \n",
    "    def __init__(self, age, name):\n",
    "        self.age = age\n",
    "        self.name = name\n",
    "    \n",
    "    def just_had_birthday(self):\n",
    "        \"\"\"ajoute un an à l'humain\"\"\"\n",
    "        self.age += 1\n",
    "    \n",
    "    def __str__(self):\n",
    "        return f\"Je suis {self.name}, et j'ai {self.age} ans\""
   ]
  },
  {
   "cell_type": "code",
   "execution_count": 82,
   "id": "7bfb26f9",
   "metadata": {},
   "outputs": [],
   "source": [
    "def fois2(x):\n",
    "    return x*2\n",
    "\n",
    "def moins2(x):\n",
    "    return x-2"
   ]
  },
  {
   "cell_type": "code",
   "execution_count": 84,
   "id": "5b857fe4",
   "metadata": {},
   "outputs": [],
   "source": [
    "liste = [fois2, moins2, function3, ]"
   ]
  },
  {
   "cell_type": "code",
   "execution_count": 85,
   "id": "6507fcdf",
   "metadata": {},
   "outputs": [
    {
     "name": "stdout",
     "output_type": "stream",
     "text": [
      "10\n",
      "3\n"
     ]
    }
   ],
   "source": [
    "for function in liste:\n",
    "    print(function(5))"
   ]
  },
  {
   "cell_type": "code",
   "execution_count": 78,
   "id": "3619e87c",
   "metadata": {},
   "outputs": [],
   "source": [
    "liste = [Humain(25, \"Luc\"),\n",
    "         Humain(24, \"Sebastien\"), \n",
    "         Humain(25, \"Julie\")]"
   ]
  },
  {
   "cell_type": "code",
   "execution_count": 79,
   "id": "4e0a4052",
   "metadata": {},
   "outputs": [
    {
     "name": "stdout",
     "output_type": "stream",
     "text": [
      "Je suis Luc, et j'ai 25 ans\n",
      "Je suis Luc, et j'ai 26 ans\n",
      "Je suis Sebastien, et j'ai 24 ans\n",
      "Je suis Sebastien, et j'ai 25 ans\n",
      "Je suis Julie, et j'ai 25 ans\n",
      "Je suis Julie, et j'ai 26 ans\n"
     ]
    }
   ],
   "source": [
    "for el in liste:\n",
    "    print( el )\n",
    "    el.just_had_birthday()\n",
    "    print( el)"
   ]
  },
  {
   "cell_type": "code",
   "execution_count": 54,
   "id": "4a50b38f",
   "metadata": {},
   "outputs": [],
   "source": [
    "personne1 = Humain(25, \"Luc\")"
   ]
  },
  {
   "cell_type": "code",
   "execution_count": 55,
   "id": "2a3fcc0b",
   "metadata": {},
   "outputs": [],
   "source": [
    "personne2 = Humain(24, \"Sebastien\")"
   ]
  },
  {
   "cell_type": "code",
   "execution_count": 56,
   "id": "d8c25902",
   "metadata": {},
   "outputs": [
    {
     "data": {
      "text/plain": [
       "25"
      ]
     },
     "execution_count": 56,
     "metadata": {},
     "output_type": "execute_result"
    }
   ],
   "source": [
    "personne1.age"
   ]
  },
  {
   "cell_type": "code",
   "execution_count": 57,
   "id": "f7886c30",
   "metadata": {},
   "outputs": [
    {
     "data": {
      "text/plain": [
       "24"
      ]
     },
     "execution_count": 57,
     "metadata": {},
     "output_type": "execute_result"
    }
   ],
   "source": [
    "personne2.age"
   ]
  }
 ],
 "metadata": {
  "kernelspec": {
   "display_name": "Python 3 (ipykernel)",
   "language": "python",
   "name": "python3"
  },
  "language_info": {
   "codemirror_mode": {
    "name": "ipython",
    "version": 3
   },
   "file_extension": ".py",
   "mimetype": "text/x-python",
   "name": "python",
   "nbconvert_exporter": "python",
   "pygments_lexer": "ipython3",
   "version": "3.9.4"
  }
 },
 "nbformat": 4,
 "nbformat_minor": 5
}
