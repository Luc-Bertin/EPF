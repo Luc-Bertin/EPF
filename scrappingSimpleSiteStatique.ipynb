{
 "cells": [
  {
   "cell_type": "code",
   "execution_count": 1,
   "id": "c32883fd",
   "metadata": {},
   "outputs": [],
   "source": [
    "# faire une requete GET pour obtenir le fichier Html associé à la page statique du site"
   ]
  },
  {
   "cell_type": "code",
   "execution_count": 27,
   "id": "5fda3efa",
   "metadata": {},
   "outputs": [],
   "source": [
    "#!pip install requests\n",
    "#!pip install bs4"
   ]
  },
  {
   "cell_type": "code",
   "execution_count": 17,
   "id": "34a665ba",
   "metadata": {
    "scrolled": false
   },
   "outputs": [],
   "source": [
    "url = \"https://www.afm-telethon.fr/telethon/bref/parrains-resultats-telethon-1379\"\n",
    "\n",
    "from requests import get\n",
    "response = get(url)\n",
    "\n",
    "from bs4 import BeautifulSoup\n",
    "soup = BeautifulSoup(response.content,  'html.parser')"
   ]
  },
  {
   "cell_type": "markdown",
   "id": "5eba4c6c",
   "metadata": {},
   "source": [
    "# Use CSS selectors"
   ]
  },
  {
   "cell_type": "markdown",
   "id": "a215d092",
   "metadata": {},
   "source": [
    "- \"p\" => tous les paragraphes\n",
    "- \"p a\" => tous les a dans les p (balise de liens dans les balises html de paragraphes dans mon html)\n",
    "- \"body div a\" => ...\n",
    "- \"p.colorme\"=> tous les p qui ont pour class css \"colorme\"\n",
    "- \"p#monid\" => recupère le p qui a pour id \"monid\"\n",
    "- \"div#frontpart p.colorme\" => recupère tous les p de classe colorme dans le div d'id \"frontpart\""
   ]
  },
  {
   "cell_type": "code",
   "execution_count": 46,
   "id": "ad673e4e",
   "metadata": {
    "scrolled": false
   },
   "outputs": [
    {
     "name": "stdout",
     "output_type": "stream",
     "text": [
      "http://agir.telethon.fr/\n",
      "http://education.telethon.fr/\n",
      "https://don.telethon.fr\n",
      "http://www.afm-telethon.fr/coordinations\n",
      "http://www.istem.eu/\n",
      "http://www.institut-myologie.org/\n",
      "http://www.genethon.fr/\n",
      "http://www.institut-biotherapies.fr/\n",
      "http://www.boutique.telethon.fr/\n",
      "http://www.genosafe.com/\n",
      "http://www.myobase.org/\n",
      "http://www.afmproductions.fr/\n",
      "http://www.afm-telethon.com/\n",
      "https://evenement.telethon.fr/2021/\n",
      "https://www.afm-telethon.fr/se-mobiliser\n",
      "https://www.afm-telethon.fr/etre-partenaire?afm_specifics_news_rubrique=97\n",
      "https://www.afm-telethon.fr/espace-benevole\n",
      "http://www.afm-telethon.fr/adherent/comment-adherer-1070\n",
      "https://www.afm-telethon.fr/etre-partenaire?afm_specifics_news_rubrique=97\n",
      "https://don.telethon.fr?ido=1082&idm=30278&compteur=1&fdd_type=DF&bandeau=A\n",
      "https://evenement.telethon.fr/2021/\n",
      "https://www.afm-telethon.fr/se-mobiliser\n",
      "https://www.afm-telethon.fr/etre-partenaire?afm_specifics_news_rubrique=97\n",
      "https://www.afm-telethon.fr/espace-benevole\n",
      "http://www.afm-telethon.fr/adherent/comment-adherer-1070\n",
      "https://www.afm-telethon.fr/etre-partenaire?afm_specifics_news_rubrique=97\n"
     ]
    },
    {
     "ename": "AttributeError",
     "evalue": "'NoneType' object has no attribute 'startswith'",
     "output_type": "error",
     "traceback": [
      "\u001b[0;31m---------------------------------------------------------------------------\u001b[0m",
      "\u001b[0;31mAttributeError\u001b[0m                            Traceback (most recent call last)",
      "Input \u001b[0;32mIn [46]\u001b[0m, in \u001b[0;36m<cell line: 1>\u001b[0;34m()\u001b[0m\n\u001b[1;32m      1\u001b[0m \u001b[38;5;28;01mfor\u001b[39;00m element \u001b[38;5;129;01min\u001b[39;00m resultats:\n\u001b[0;32m----> 2\u001b[0m     \u001b[38;5;28;01mif\u001b[39;00m   \u001b[43melement\u001b[49m\u001b[38;5;241;43m.\u001b[39;49m\u001b[43mget\u001b[49m\u001b[43m(\u001b[49m\u001b[38;5;124;43m\"\u001b[39;49m\u001b[38;5;124;43mhref\u001b[39;49m\u001b[38;5;124;43m\"\u001b[39;49m\u001b[43m)\u001b[49m\u001b[38;5;241;43m.\u001b[39;49m\u001b[43mstartswith\u001b[49m(\u001b[38;5;124m\"\u001b[39m\u001b[38;5;124mhttp\u001b[39m\u001b[38;5;124m\"\u001b[39m):\n\u001b[1;32m      3\u001b[0m         \u001b[38;5;28mprint\u001b[39m( element\u001b[38;5;241m.\u001b[39mget(\u001b[38;5;124m\"\u001b[39m\u001b[38;5;124mhref\u001b[39m\u001b[38;5;124m\"\u001b[39m) )\n",
      "\u001b[0;31mAttributeError\u001b[0m: 'NoneType' object has no attribute 'startswith'"
     ]
    }
   ],
   "source": [
    "resultats = soup.select(\"a\")\n",
    "for element in resultats:\n",
    "    if element.get(\"href\").startswith(\"http\"):\n",
    "        print( element.get(\"href\") )"
   ]
  },
  {
   "cell_type": "code",
   "execution_count": 61,
   "id": "58438bbc",
   "metadata": {
    "scrolled": false
   },
   "outputs": [],
   "source": [
    "table_de_donnations = soup.select(\"table\")[0]"
   ]
  },
  {
   "cell_type": "code",
   "execution_count": 81,
   "id": "06bc6845",
   "metadata": {
    "scrolled": false
   },
   "outputs": [],
   "source": [
    "data_textual = [ el.get_text() for el in table_de_donnations.select(\"td\")  ]"
   ]
  },
  {
   "cell_type": "code",
   "execution_count": 88,
   "id": "06aef101",
   "metadata": {},
   "outputs": [],
   "source": [
    "parrains= data_textual[4::3]\n",
    "montants_collectes = data_textual[5::3]\n",
    "annees = data_textual[3::3]"
   ]
  },
  {
   "cell_type": "code",
   "execution_count": 92,
   "id": "da35bffc",
   "metadata": {},
   "outputs": [
    {
     "data": {
      "text/plain": [
       "(35, 35, 35)"
      ]
     },
     "execution_count": 92,
     "metadata": {},
     "output_type": "execute_result"
    }
   ],
   "source": [
    "len(montants_collectes), len(parrains), len(annees)"
   ]
  },
  {
   "cell_type": "code",
   "execution_count": 101,
   "id": "9d540a4d",
   "metadata": {},
   "outputs": [],
   "source": [
    "def nettoyer(montant):\n",
    "    return int(montant.replace(\" \", \"\").replace(\"€\", \"\").replace(\"\\xa0\", \"\"))"
   ]
  },
  {
   "cell_type": "code",
   "execution_count": 102,
   "id": "ab4dc45d",
   "metadata": {},
   "outputs": [
    {
     "data": {
      "text/plain": [
       "29650000"
      ]
     },
     "execution_count": 102,
     "metadata": {},
     "output_type": "execute_result"
    }
   ],
   "source": [
    "nettoyer('29 650 000 €')"
   ]
  },
  {
   "cell_type": "code",
   "execution_count": 103,
   "id": "8a32878f",
   "metadata": {
    "scrolled": true
   },
   "outputs": [
    {
     "data": {
      "text/plain": [
       "70449000"
      ]
     },
     "execution_count": 103,
     "metadata": {},
     "output_type": "execute_result"
    }
   ],
   "source": [
    "nettoyer('70 449 000 €\\xa0')"
   ]
  },
  {
   "cell_type": "code",
   "execution_count": 104,
   "id": "97ee285f",
   "metadata": {},
   "outputs": [],
   "source": [
    "# appliquer nettoyer sur chaque el, pour el dans montants_collectés?"
   ]
  },
  {
   "cell_type": "code",
   "execution_count": 107,
   "id": "8c5bf76c",
   "metadata": {},
   "outputs": [],
   "source": [
    "montants_nettoyes = [ nettoyer(montant) for montant in montants_collectes ]\n",
    "annees_nettoyes = [ int(annee) for annee in annees ]"
   ]
  },
  {
   "cell_type": "code",
   "execution_count": 110,
   "id": "82aef0ab",
   "metadata": {},
   "outputs": [],
   "source": [
    "import pandas as pd"
   ]
  },
  {
   "cell_type": "code",
   "execution_count": 148,
   "id": "a9244dda",
   "metadata": {},
   "outputs": [],
   "source": [
    "df = pd.DataFrame(\n",
    "    {\n",
    "        \"parrains\": parrains,\n",
    "        \"annees\": annees_nettoyes,\n",
    "        \"montants\": montants_nettoyes\n",
    "    }\n",
    ")\n",
    "# df.to_csv(\"./data_telethon.csv\")"
   ]
  },
  {
   "cell_type": "code",
   "execution_count": 149,
   "id": "9b3e9986",
   "metadata": {},
   "outputs": [],
   "source": [
    "#df.annees = df.annees.astype(int)\n",
    "#df.montants = df.montants.str.replace(r\"\\D+\", \"\").astype(int)"
   ]
  },
  {
   "cell_type": "code",
   "execution_count": 150,
   "id": "cd4cc89b",
   "metadata": {},
   "outputs": [
    {
     "data": {
      "text/plain": [
       "<AxesSubplot:title={'center':'montant collecté au cours du temps'}, xlabel='annees'>"
      ]
     },
     "execution_count": 150,
     "metadata": {},
     "output_type": "execute_result"
    },
    {
     "data": {
      "image/png": "[encoded data removed]",
      "text/plain": [
       "<Figure size 432x288 with 1 Axes>"
      ]
     },
     "metadata": {
      "needs_background": "light"
     },
     "output_type": "display_data"
    }
   ],
   "source": [
    "df.plot(x=\"annees\", y=\"montants\", kind=\"line\", \n",
    "        title=\"montant collecté au cours du temps\")"
   ]
  }
 ],
 "metadata": {
  "kernelspec": {
   "display_name": "Python 3 (ipykernel)",
   "language": "python",
   "name": "python3"
  },
  "language_info": {
   "codemirror_mode": {
    "name": "ipython",
    "version": 3
   },
   "file_extension": ".py",
   "mimetype": "text/x-python",
   "name": "python",
   "nbconvert_exporter": "python",
   "pygments_lexer": "ipython3",
   "version": "3.9.4"
  }
 },
 "nbformat": 4,
 "nbformat_minor": 5
}
